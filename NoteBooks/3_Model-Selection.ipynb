{
 "cells": [
  {
   "cell_type": "markdown",
   "id": "40a619ef-ba4e-40fe-8800-23259b41fa80",
   "metadata": {},
   "source": [
    "# Load the Dataframe and feature engineering"
   ]
  },
  {
   "cell_type": "code",
   "execution_count": 2,
   "id": "2ae50c33-7339-4bdf-854d-35c049530443",
   "metadata": {},
   "outputs": [],
   "source": [
    "import numpy as np\n",
    "import pandas as pd\n",
    "import re"
   ]
  },
  {
   "cell_type": "code",
   "execution_count": 3,
   "id": "72ac9ef0-eb6b-4391-ad81-1f7f82a7a854",
   "metadata": {},
   "outputs": [
    {
     "ename": "FileNotFoundError",
     "evalue": "[Errno 2] No such file or directory: 'DataSet/IMDB-Dataset-65k-movie-review.csv'",
     "output_type": "error",
     "traceback": [
      "\u001b[1;31m---------------------------------------------------------------------------\u001b[0m",
      "\u001b[1;31mFileNotFoundError\u001b[0m                         Traceback (most recent call last)",
      "Cell \u001b[1;32mIn[3], line 1\u001b[0m\n\u001b[1;32m----> 1\u001b[0m df \u001b[38;5;241m=\u001b[39m \u001b[43mpd\u001b[49m\u001b[38;5;241;43m.\u001b[39;49m\u001b[43mread_csv\u001b[49m\u001b[43m(\u001b[49m\u001b[38;5;124;43m'\u001b[39;49m\u001b[38;5;124;43mDataSet/IMDB-Dataset-65k-movie-review.csv\u001b[39;49m\u001b[38;5;124;43m'\u001b[39;49m\u001b[43m)\u001b[49m\n",
      "File \u001b[1;32m~\\AppData\\Local\\Programs\\Python\\Python311\\Lib\\site-packages\\pandas\\io\\parsers\\readers.py:912\u001b[0m, in \u001b[0;36mread_csv\u001b[1;34m(filepath_or_buffer, sep, delimiter, header, names, index_col, usecols, dtype, engine, converters, true_values, false_values, skipinitialspace, skiprows, skipfooter, nrows, na_values, keep_default_na, na_filter, verbose, skip_blank_lines, parse_dates, infer_datetime_format, keep_date_col, date_parser, date_format, dayfirst, cache_dates, iterator, chunksize, compression, thousands, decimal, lineterminator, quotechar, quoting, doublequote, escapechar, comment, encoding, encoding_errors, dialect, on_bad_lines, delim_whitespace, low_memory, memory_map, float_precision, storage_options, dtype_backend)\u001b[0m\n\u001b[0;32m    899\u001b[0m kwds_defaults \u001b[38;5;241m=\u001b[39m _refine_defaults_read(\n\u001b[0;32m    900\u001b[0m     dialect,\n\u001b[0;32m    901\u001b[0m     delimiter,\n\u001b[1;32m   (...)\u001b[0m\n\u001b[0;32m    908\u001b[0m     dtype_backend\u001b[38;5;241m=\u001b[39mdtype_backend,\n\u001b[0;32m    909\u001b[0m )\n\u001b[0;32m    910\u001b[0m kwds\u001b[38;5;241m.\u001b[39mupdate(kwds_defaults)\n\u001b[1;32m--> 912\u001b[0m \u001b[38;5;28;01mreturn\u001b[39;00m \u001b[43m_read\u001b[49m\u001b[43m(\u001b[49m\u001b[43mfilepath_or_buffer\u001b[49m\u001b[43m,\u001b[49m\u001b[43m \u001b[49m\u001b[43mkwds\u001b[49m\u001b[43m)\u001b[49m\n",
      "File \u001b[1;32m~\\AppData\\Local\\Programs\\Python\\Python311\\Lib\\site-packages\\pandas\\io\\parsers\\readers.py:577\u001b[0m, in \u001b[0;36m_read\u001b[1;34m(filepath_or_buffer, kwds)\u001b[0m\n\u001b[0;32m    574\u001b[0m _validate_names(kwds\u001b[38;5;241m.\u001b[39mget(\u001b[38;5;124m\"\u001b[39m\u001b[38;5;124mnames\u001b[39m\u001b[38;5;124m\"\u001b[39m, \u001b[38;5;28;01mNone\u001b[39;00m))\n\u001b[0;32m    576\u001b[0m \u001b[38;5;66;03m# Create the parser.\u001b[39;00m\n\u001b[1;32m--> 577\u001b[0m parser \u001b[38;5;241m=\u001b[39m \u001b[43mTextFileReader\u001b[49m\u001b[43m(\u001b[49m\u001b[43mfilepath_or_buffer\u001b[49m\u001b[43m,\u001b[49m\u001b[43m \u001b[49m\u001b[38;5;241;43m*\u001b[39;49m\u001b[38;5;241;43m*\u001b[39;49m\u001b[43mkwds\u001b[49m\u001b[43m)\u001b[49m\n\u001b[0;32m    579\u001b[0m \u001b[38;5;28;01mif\u001b[39;00m chunksize \u001b[38;5;129;01mor\u001b[39;00m iterator:\n\u001b[0;32m    580\u001b[0m     \u001b[38;5;28;01mreturn\u001b[39;00m parser\n",
      "File \u001b[1;32m~\\AppData\\Local\\Programs\\Python\\Python311\\Lib\\site-packages\\pandas\\io\\parsers\\readers.py:1407\u001b[0m, in \u001b[0;36mTextFileReader.__init__\u001b[1;34m(self, f, engine, **kwds)\u001b[0m\n\u001b[0;32m   1404\u001b[0m     \u001b[38;5;28mself\u001b[39m\u001b[38;5;241m.\u001b[39moptions[\u001b[38;5;124m\"\u001b[39m\u001b[38;5;124mhas_index_names\u001b[39m\u001b[38;5;124m\"\u001b[39m] \u001b[38;5;241m=\u001b[39m kwds[\u001b[38;5;124m\"\u001b[39m\u001b[38;5;124mhas_index_names\u001b[39m\u001b[38;5;124m\"\u001b[39m]\n\u001b[0;32m   1406\u001b[0m \u001b[38;5;28mself\u001b[39m\u001b[38;5;241m.\u001b[39mhandles: IOHandles \u001b[38;5;241m|\u001b[39m \u001b[38;5;28;01mNone\u001b[39;00m \u001b[38;5;241m=\u001b[39m \u001b[38;5;28;01mNone\u001b[39;00m\n\u001b[1;32m-> 1407\u001b[0m \u001b[38;5;28mself\u001b[39m\u001b[38;5;241m.\u001b[39m_engine \u001b[38;5;241m=\u001b[39m \u001b[38;5;28;43mself\u001b[39;49m\u001b[38;5;241;43m.\u001b[39;49m\u001b[43m_make_engine\u001b[49m\u001b[43m(\u001b[49m\u001b[43mf\u001b[49m\u001b[43m,\u001b[49m\u001b[43m \u001b[49m\u001b[38;5;28;43mself\u001b[39;49m\u001b[38;5;241;43m.\u001b[39;49m\u001b[43mengine\u001b[49m\u001b[43m)\u001b[49m\n",
      "File \u001b[1;32m~\\AppData\\Local\\Programs\\Python\\Python311\\Lib\\site-packages\\pandas\\io\\parsers\\readers.py:1661\u001b[0m, in \u001b[0;36mTextFileReader._make_engine\u001b[1;34m(self, f, engine)\u001b[0m\n\u001b[0;32m   1659\u001b[0m     \u001b[38;5;28;01mif\u001b[39;00m \u001b[38;5;124m\"\u001b[39m\u001b[38;5;124mb\u001b[39m\u001b[38;5;124m\"\u001b[39m \u001b[38;5;129;01mnot\u001b[39;00m \u001b[38;5;129;01min\u001b[39;00m mode:\n\u001b[0;32m   1660\u001b[0m         mode \u001b[38;5;241m+\u001b[39m\u001b[38;5;241m=\u001b[39m \u001b[38;5;124m\"\u001b[39m\u001b[38;5;124mb\u001b[39m\u001b[38;5;124m\"\u001b[39m\n\u001b[1;32m-> 1661\u001b[0m \u001b[38;5;28mself\u001b[39m\u001b[38;5;241m.\u001b[39mhandles \u001b[38;5;241m=\u001b[39m \u001b[43mget_handle\u001b[49m\u001b[43m(\u001b[49m\n\u001b[0;32m   1662\u001b[0m \u001b[43m    \u001b[49m\u001b[43mf\u001b[49m\u001b[43m,\u001b[49m\n\u001b[0;32m   1663\u001b[0m \u001b[43m    \u001b[49m\u001b[43mmode\u001b[49m\u001b[43m,\u001b[49m\n\u001b[0;32m   1664\u001b[0m \u001b[43m    \u001b[49m\u001b[43mencoding\u001b[49m\u001b[38;5;241;43m=\u001b[39;49m\u001b[38;5;28;43mself\u001b[39;49m\u001b[38;5;241;43m.\u001b[39;49m\u001b[43moptions\u001b[49m\u001b[38;5;241;43m.\u001b[39;49m\u001b[43mget\u001b[49m\u001b[43m(\u001b[49m\u001b[38;5;124;43m\"\u001b[39;49m\u001b[38;5;124;43mencoding\u001b[39;49m\u001b[38;5;124;43m\"\u001b[39;49m\u001b[43m,\u001b[49m\u001b[43m \u001b[49m\u001b[38;5;28;43;01mNone\u001b[39;49;00m\u001b[43m)\u001b[49m\u001b[43m,\u001b[49m\n\u001b[0;32m   1665\u001b[0m \u001b[43m    \u001b[49m\u001b[43mcompression\u001b[49m\u001b[38;5;241;43m=\u001b[39;49m\u001b[38;5;28;43mself\u001b[39;49m\u001b[38;5;241;43m.\u001b[39;49m\u001b[43moptions\u001b[49m\u001b[38;5;241;43m.\u001b[39;49m\u001b[43mget\u001b[49m\u001b[43m(\u001b[49m\u001b[38;5;124;43m\"\u001b[39;49m\u001b[38;5;124;43mcompression\u001b[39;49m\u001b[38;5;124;43m\"\u001b[39;49m\u001b[43m,\u001b[49m\u001b[43m \u001b[49m\u001b[38;5;28;43;01mNone\u001b[39;49;00m\u001b[43m)\u001b[49m\u001b[43m,\u001b[49m\n\u001b[0;32m   1666\u001b[0m \u001b[43m    \u001b[49m\u001b[43mmemory_map\u001b[49m\u001b[38;5;241;43m=\u001b[39;49m\u001b[38;5;28;43mself\u001b[39;49m\u001b[38;5;241;43m.\u001b[39;49m\u001b[43moptions\u001b[49m\u001b[38;5;241;43m.\u001b[39;49m\u001b[43mget\u001b[49m\u001b[43m(\u001b[49m\u001b[38;5;124;43m\"\u001b[39;49m\u001b[38;5;124;43mmemory_map\u001b[39;49m\u001b[38;5;124;43m\"\u001b[39;49m\u001b[43m,\u001b[49m\u001b[43m \u001b[49m\u001b[38;5;28;43;01mFalse\u001b[39;49;00m\u001b[43m)\u001b[49m\u001b[43m,\u001b[49m\n\u001b[0;32m   1667\u001b[0m \u001b[43m    \u001b[49m\u001b[43mis_text\u001b[49m\u001b[38;5;241;43m=\u001b[39;49m\u001b[43mis_text\u001b[49m\u001b[43m,\u001b[49m\n\u001b[0;32m   1668\u001b[0m \u001b[43m    \u001b[49m\u001b[43merrors\u001b[49m\u001b[38;5;241;43m=\u001b[39;49m\u001b[38;5;28;43mself\u001b[39;49m\u001b[38;5;241;43m.\u001b[39;49m\u001b[43moptions\u001b[49m\u001b[38;5;241;43m.\u001b[39;49m\u001b[43mget\u001b[49m\u001b[43m(\u001b[49m\u001b[38;5;124;43m\"\u001b[39;49m\u001b[38;5;124;43mencoding_errors\u001b[39;49m\u001b[38;5;124;43m\"\u001b[39;49m\u001b[43m,\u001b[49m\u001b[43m \u001b[49m\u001b[38;5;124;43m\"\u001b[39;49m\u001b[38;5;124;43mstrict\u001b[39;49m\u001b[38;5;124;43m\"\u001b[39;49m\u001b[43m)\u001b[49m\u001b[43m,\u001b[49m\n\u001b[0;32m   1669\u001b[0m \u001b[43m    \u001b[49m\u001b[43mstorage_options\u001b[49m\u001b[38;5;241;43m=\u001b[39;49m\u001b[38;5;28;43mself\u001b[39;49m\u001b[38;5;241;43m.\u001b[39;49m\u001b[43moptions\u001b[49m\u001b[38;5;241;43m.\u001b[39;49m\u001b[43mget\u001b[49m\u001b[43m(\u001b[49m\u001b[38;5;124;43m\"\u001b[39;49m\u001b[38;5;124;43mstorage_options\u001b[39;49m\u001b[38;5;124;43m\"\u001b[39;49m\u001b[43m,\u001b[49m\u001b[43m \u001b[49m\u001b[38;5;28;43;01mNone\u001b[39;49;00m\u001b[43m)\u001b[49m\u001b[43m,\u001b[49m\n\u001b[0;32m   1670\u001b[0m \u001b[43m\u001b[49m\u001b[43m)\u001b[49m\n\u001b[0;32m   1671\u001b[0m \u001b[38;5;28;01massert\u001b[39;00m \u001b[38;5;28mself\u001b[39m\u001b[38;5;241m.\u001b[39mhandles \u001b[38;5;129;01mis\u001b[39;00m \u001b[38;5;129;01mnot\u001b[39;00m \u001b[38;5;28;01mNone\u001b[39;00m\n\u001b[0;32m   1672\u001b[0m f \u001b[38;5;241m=\u001b[39m \u001b[38;5;28mself\u001b[39m\u001b[38;5;241m.\u001b[39mhandles\u001b[38;5;241m.\u001b[39mhandle\n",
      "File \u001b[1;32m~\\AppData\\Local\\Programs\\Python\\Python311\\Lib\\site-packages\\pandas\\io\\common.py:859\u001b[0m, in \u001b[0;36mget_handle\u001b[1;34m(path_or_buf, mode, encoding, compression, memory_map, is_text, errors, storage_options)\u001b[0m\n\u001b[0;32m    854\u001b[0m \u001b[38;5;28;01melif\u001b[39;00m \u001b[38;5;28misinstance\u001b[39m(handle, \u001b[38;5;28mstr\u001b[39m):\n\u001b[0;32m    855\u001b[0m     \u001b[38;5;66;03m# Check whether the filename is to be opened in binary mode.\u001b[39;00m\n\u001b[0;32m    856\u001b[0m     \u001b[38;5;66;03m# Binary mode does not support 'encoding' and 'newline'.\u001b[39;00m\n\u001b[0;32m    857\u001b[0m     \u001b[38;5;28;01mif\u001b[39;00m ioargs\u001b[38;5;241m.\u001b[39mencoding \u001b[38;5;129;01mand\u001b[39;00m \u001b[38;5;124m\"\u001b[39m\u001b[38;5;124mb\u001b[39m\u001b[38;5;124m\"\u001b[39m \u001b[38;5;129;01mnot\u001b[39;00m \u001b[38;5;129;01min\u001b[39;00m ioargs\u001b[38;5;241m.\u001b[39mmode:\n\u001b[0;32m    858\u001b[0m         \u001b[38;5;66;03m# Encoding\u001b[39;00m\n\u001b[1;32m--> 859\u001b[0m         handle \u001b[38;5;241m=\u001b[39m \u001b[38;5;28;43mopen\u001b[39;49m\u001b[43m(\u001b[49m\n\u001b[0;32m    860\u001b[0m \u001b[43m            \u001b[49m\u001b[43mhandle\u001b[49m\u001b[43m,\u001b[49m\n\u001b[0;32m    861\u001b[0m \u001b[43m            \u001b[49m\u001b[43mioargs\u001b[49m\u001b[38;5;241;43m.\u001b[39;49m\u001b[43mmode\u001b[49m\u001b[43m,\u001b[49m\n\u001b[0;32m    862\u001b[0m \u001b[43m            \u001b[49m\u001b[43mencoding\u001b[49m\u001b[38;5;241;43m=\u001b[39;49m\u001b[43mioargs\u001b[49m\u001b[38;5;241;43m.\u001b[39;49m\u001b[43mencoding\u001b[49m\u001b[43m,\u001b[49m\n\u001b[0;32m    863\u001b[0m \u001b[43m            \u001b[49m\u001b[43merrors\u001b[49m\u001b[38;5;241;43m=\u001b[39;49m\u001b[43merrors\u001b[49m\u001b[43m,\u001b[49m\n\u001b[0;32m    864\u001b[0m \u001b[43m            \u001b[49m\u001b[43mnewline\u001b[49m\u001b[38;5;241;43m=\u001b[39;49m\u001b[38;5;124;43m\"\u001b[39;49m\u001b[38;5;124;43m\"\u001b[39;49m\u001b[43m,\u001b[49m\n\u001b[0;32m    865\u001b[0m \u001b[43m        \u001b[49m\u001b[43m)\u001b[49m\n\u001b[0;32m    866\u001b[0m     \u001b[38;5;28;01melse\u001b[39;00m:\n\u001b[0;32m    867\u001b[0m         \u001b[38;5;66;03m# Binary mode\u001b[39;00m\n\u001b[0;32m    868\u001b[0m         handle \u001b[38;5;241m=\u001b[39m \u001b[38;5;28mopen\u001b[39m(handle, ioargs\u001b[38;5;241m.\u001b[39mmode)\n",
      "\u001b[1;31mFileNotFoundError\u001b[0m: [Errno 2] No such file or directory: 'DataSet/IMDB-Dataset-65k-movie-review.csv'"
     ]
    }
   ],
   "source": [
    "df = pd.read_csv('DataSet/IMDB-Dataset-65k-movie-review.csv')"
   ]
  },
  {
   "cell_type": "code",
   "execution_count": null,
   "id": "886d6d96-3d0b-445f-8939-455472fefc69",
   "metadata": {},
   "outputs": [],
   "source": [
    "from nltk.corpus import stopwords\n",
    "#Customize stopword as per data\n",
    "from nltk.corpus import stopwords\n",
    "stop_words = stopwords.words('english')\n",
    "new_stopwords = [\"would\",\"shall\",\"could\",\"might\"]\n",
    "stop_words.extend(new_stopwords)\n",
    "stop_words.remove(\"not\")\n",
    "stop_words=set(stop_words)\n",
    "print(stop_words)"
   ]
  },
  {
   "cell_type": "code",
   "execution_count": 13,
   "id": "3e67bd72-12ff-4131-9565-ba37c16e481a",
   "metadata": {},
   "outputs": [],
   "source": [
    "'''-----------------------------Data Cleaning and Preprocessing pipeline----------------------------------'''\n",
    "\n",
    "#Removing special character\n",
    "def remove_special_character(content):\n",
    "    return re.sub('\\W+',' ', content )#re.sub('\\[[^&@#!]]*\\]', '', content)\n",
    "\n",
    "# Removing URL's\n",
    "def remove_url(content):\n",
    "    return re.sub(r'http\\S+', '', content)\n",
    "\n",
    "#Removing the stopwords from text\n",
    "def remove_stopwords(content):\n",
    "    clean_data = []\n",
    "    for i in content.split():\n",
    "        if i.strip().lower() not in stop_words and i.strip().lower().isalpha():\n",
    "            clean_data.append(i.strip().lower())\n",
    "    return \" \".join(clean_data)\n",
    "\n",
    "# Expansion of english contractions\n",
    "def contraction_expansion(content):\n",
    "    content = re.sub(r\"won\\'t\", \"would not\", content)\n",
    "    content = re.sub(r\"can\\'t\", \"can not\", content)\n",
    "    content = re.sub(r\"don\\'t\", \"do not\", content)\n",
    "    content = re.sub(r\"shouldn\\'t\", \"should not\", content)\n",
    "    content = re.sub(r\"needn\\'t\", \"need not\", content)\n",
    "    content = re.sub(r\"hasn\\'t\", \"has not\", content)\n",
    "    content = re.sub(r\"haven\\'t\", \"have not\", content)\n",
    "    content = re.sub(r\"weren\\'t\", \"were not\", content)\n",
    "    content = re.sub(r\"mightn\\'t\", \"might not\", content)\n",
    "    content = re.sub(r\"didn\\'t\", \"did not\", content)\n",
    "    content = re.sub(r\"n\\'t\", \" not\", content)\n",
    "    content = re.sub(r\"\\'re\", \" are\", content)\n",
    "    content = re.sub(r\"\\'s\", \" is\", content)\n",
    "    content = re.sub(r\"\\'d\", \" would\", content)\n",
    "    content = re.sub(r\"\\'ll\", \" will\", content)\n",
    "    content = re.sub(r\"\\'t\", \" not\", content)\n",
    "    content = re.sub(r\"\\'ve\", \" have\", content)\n",
    "    content = re.sub(r\"\\'m\", \" am\", content)\n",
    "    return content\n",
    "\n",
    "def data_cleaning(content):\n",
    "    content = contraction_expansion(content)\n",
    "    content = remove_special_character(content)\n",
    "    content = remove_url(content)\n",
    "    \n",
    "    content = remove_stopwords(content)    \n",
    "    return content"
   ]
  },
  {
   "cell_type": "code",
   "execution_count": 15,
   "id": "478ba5d9-ccc2-4bf1-9ef0-9e98e64532b2",
   "metadata": {},
   "outputs": [
    {
     "name": "stdout",
     "output_type": "stream",
     "text": [
      "[ 1.  2.  4.  3.  8.  7. 10.  9.]\n"
     ]
    }
   ],
   "source": [
    "df['Reviews_clean'] = df['Reviews'].apply(data_cleaning)\n",
    "print(df['Ratings'].unique())"
   ]
  },
  {
   "cell_type": "code",
   "execution_count": 16,
   "id": "c1c7c0c0-11f2-443d-9d4e-eb815455e17b",
   "metadata": {},
   "outputs": [
    {
     "name": "stdout",
     "output_type": "stream",
     "text": [
      "0    60000\n",
      "1    60000\n",
      "Name: Label, dtype: int64\n",
      "0 --> ❌\n",
      "1 --> ✔️\n"
     ]
    }
   ],
   "source": [
    "#Mapping rating data to Binary label 1 (+ve) if rating >=7 and 0 (-ve) if rating <=4 and 2 (neutral) if rating = 5 or 6\n",
    "df['Label'] = df['Ratings'].apply(lambda x: '1' if x >= 7 else ('0' if x<=4 else '2'))\n",
    "#Removing \n",
    "df=df[df.Label<'2']\n",
    "data=df[['Reviews_clean','Label']]\n",
    "print(data['Label'].value_counts())\n",
    "\n",
    "print(\"0 --> ❌\")\n",
    "print(\"1 --> ✔️\")"
   ]
  },
  {
   "cell_type": "markdown",
   "id": "173f059a-bc78-4db4-838e-69382a47a3ec",
   "metadata": {},
   "source": [
    "# LammaTokenizer class"
   ]
  },
  {
   "cell_type": "code",
   "execution_count": 17,
   "id": "9e628e6d-2d2c-44b2-8151-c970e06c43a7",
   "metadata": {},
   "outputs": [],
   "source": [
    "#Importing dependencies for feature engineering \n",
    "import sys\n",
    "import os\n",
    "from sklearn.feature_extraction.text import CountVectorizer\n",
    "from sklearn.feature_extraction.text import TfidfVectorizer\n",
    "from sklearn.model_selection import train_test_split\n",
    "from sklearn.linear_model import LogisticRegression\n",
    "from sklearn.ensemble import RandomForestClassifier\n",
    "import pandas as pd\n",
    "from prettytable import PrettyTable\n",
    "from nltk import word_tokenize          \n",
    "from nltk.stem import WordNetLemmatizer"
   ]
  },
  {
   "cell_type": "code",
   "execution_count": 18,
   "id": "87d981d2-2bad-4f59-8022-2ff62a420119",
   "metadata": {},
   "outputs": [],
   "source": [
    "# lemmatization of word \n",
    "class LemmaTokenizer(object):\n",
    "    def __init__(self):\n",
    "        self.wordnetlemma = WordNetLemmatizer()\n",
    "    def __call__(self, reviews):\n",
    "        return [self.wordnetlemma.lemmatize(word) for word in word_tokenize(reviews)]"
   ]
  },
  {
   "cell_type": "markdown",
   "id": "1dd2dcd1-7799-4fc3-be32-9769d13b25af",
   "metadata": {},
   "source": [
    "# Train-Test-Split for train and test the data"
   ]
  },
  {
   "cell_type": "code",
   "execution_count": 19,
   "id": "4ad35bd9-34d0-41ac-bba6-42db828fb5fe",
   "metadata": {},
   "outputs": [],
   "source": [
    "train,test=train_test_split(data,test_size=.3,random_state=42, shuffle=True)\n",
    "#countvect = CountVectorizer(analyzer = \"word\", tokenizer = LemmaTokenizer(), ngram_range=(1,3), min_df=10,max_features=5000)\n",
    "tfidfvect = TfidfVectorizer(analyzer = \"word\", tokenizer = LemmaTokenizer(), ngram_range=(1,3),min_df=10,max_features=1000)\n",
    "#x_train_count = countvect.fit_transform(train['Reviews_clean']).toarray()\n",
    "#x_test_count = countvect.transform(test['Reviews_clean']).toarray()\n",
    "x_train_tfidf = tfidfvect.fit_transform(train['Reviews_clean']).toarray()\n",
    "x_test_tfidf = tfidfvect.transform(test['Reviews_clean']).toarray()\n",
    "\n",
    "y_train = train['Label']\n",
    "y_test = test['Label']"
   ]
  },
  {
   "cell_type": "markdown",
   "id": "f7ea5977-786e-4210-a17d-8a38914cb234",
   "metadata": {},
   "source": [
    "## Feature Selection with Chi squared"
   ]
  },
  {
   "cell_type": "code",
   "execution_count": 37,
   "id": "803463c3-0333-4323-b818-cecab2d22842",
   "metadata": {},
   "outputs": [],
   "source": [
    "from sklearn.feature_selection import chi2\n",
    "import numpy as np\n",
    "from sklearn.metrics import f1_score, roc_auc_score, precision_score, recall_score"
   ]
  },
  {
   "cell_type": "code",
   "execution_count": 27,
   "id": "3939efbe-57d0-4a31-9cb5-32920aa54fef",
   "metadata": {},
   "outputs": [],
   "source": [
    "N = 5000\n",
    "Number = 1\n",
    "featureselection = PrettyTable([\"Unigram\", \"Bigram\",\"Trigram\"])\n",
    "for category in train['Label'].unique():\n",
    "    features_chi2 = chi2(x_train_tfidf, train['Label'] == category)\n",
    "    indices = np.argsort(features_chi2[0])\n",
    "    feature_names = np.array(tfidfvect.get_feature_names_out())[indices]\n",
    "    unigrams = [x for x in feature_names if len(x.split(' ')) == 1]\n",
    "    bigrams = [x for x in feature_names if len(x.split(' ')) == 2]\n",
    "    trigrams = [x for x in feature_names if len(x.split(' ')) == 3]\n",
    "    # print(\"%s. %s :\" % (Number,category))\n",
    "    # print(\"\\t# Unigrams :\\n\\t. %s\" %('\\n\\t. '.join(unigrams[-N:])))\n",
    "    # print(\"\\t# Bigrams :\\n\\t. %s\" %('\\n\\t. '.join(bigrams[-N:])))\n",
    "    # print(\"\\t# Trigrams :\\n\\t. %s\" %('\\n\\t. '.join(trigrams[-N:])))\n",
    "    Number += 1"
   ]
  },
  {
   "cell_type": "markdown",
   "id": "c1c1fb1f-8962-48e0-be12-eeb23d0f91d1",
   "metadata": {},
   "source": [
    "### 1. Logistic Regression"
   ]
  },
  {
   "cell_type": "code",
   "execution_count": 30,
   "id": "bb01638a-de9e-46ba-8a8d-09e5b001530a",
   "metadata": {},
   "outputs": [],
   "source": [
    "from sklearn.linear_model import LogisticRegression"
   ]
  },
  {
   "cell_type": "code",
   "execution_count": 31,
   "id": "9df80f12-5e7d-452d-8d0a-a157e7d0356b",
   "metadata": {},
   "outputs": [],
   "source": [
    "model_1=LogisticRegression()"
   ]
  },
  {
   "cell_type": "code",
   "execution_count": 32,
   "id": "0208369c-c8d6-4a37-9de3-af73f665a3c8",
   "metadata": {},
   "outputs": [
    {
     "name": "stdout",
     "output_type": "stream",
     "text": [
      "CPU times: total: 3.61 s\n",
      "Wall time: 2.67 s\n"
     ]
    },
    {
     "data": {
      "text/html": [
       "<style>#sk-container-id-2 {color: black;}#sk-container-id-2 pre{padding: 0;}#sk-container-id-2 div.sk-toggleable {background-color: white;}#sk-container-id-2 label.sk-toggleable__label {cursor: pointer;display: block;width: 100%;margin-bottom: 0;padding: 0.3em;box-sizing: border-box;text-align: center;}#sk-container-id-2 label.sk-toggleable__label-arrow:before {content: \"▸\";float: left;margin-right: 0.25em;color: #696969;}#sk-container-id-2 label.sk-toggleable__label-arrow:hover:before {color: black;}#sk-container-id-2 div.sk-estimator:hover label.sk-toggleable__label-arrow:before {color: black;}#sk-container-id-2 div.sk-toggleable__content {max-height: 0;max-width: 0;overflow: hidden;text-align: left;background-color: #f0f8ff;}#sk-container-id-2 div.sk-toggleable__content pre {margin: 0.2em;color: black;border-radius: 0.25em;background-color: #f0f8ff;}#sk-container-id-2 input.sk-toggleable__control:checked~div.sk-toggleable__content {max-height: 200px;max-width: 100%;overflow: auto;}#sk-container-id-2 input.sk-toggleable__control:checked~label.sk-toggleable__label-arrow:before {content: \"▾\";}#sk-container-id-2 div.sk-estimator input.sk-toggleable__control:checked~label.sk-toggleable__label {background-color: #d4ebff;}#sk-container-id-2 div.sk-label input.sk-toggleable__control:checked~label.sk-toggleable__label {background-color: #d4ebff;}#sk-container-id-2 input.sk-hidden--visually {border: 0;clip: rect(1px 1px 1px 1px);clip: rect(1px, 1px, 1px, 1px);height: 1px;margin: -1px;overflow: hidden;padding: 0;position: absolute;width: 1px;}#sk-container-id-2 div.sk-estimator {font-family: monospace;background-color: #f0f8ff;border: 1px dotted black;border-radius: 0.25em;box-sizing: border-box;margin-bottom: 0.5em;}#sk-container-id-2 div.sk-estimator:hover {background-color: #d4ebff;}#sk-container-id-2 div.sk-parallel-item::after {content: \"\";width: 100%;border-bottom: 1px solid gray;flex-grow: 1;}#sk-container-id-2 div.sk-label:hover label.sk-toggleable__label {background-color: #d4ebff;}#sk-container-id-2 div.sk-serial::before {content: \"\";position: absolute;border-left: 1px solid gray;box-sizing: border-box;top: 0;bottom: 0;left: 50%;z-index: 0;}#sk-container-id-2 div.sk-serial {display: flex;flex-direction: column;align-items: center;background-color: white;padding-right: 0.2em;padding-left: 0.2em;position: relative;}#sk-container-id-2 div.sk-item {position: relative;z-index: 1;}#sk-container-id-2 div.sk-parallel {display: flex;align-items: stretch;justify-content: center;background-color: white;position: relative;}#sk-container-id-2 div.sk-item::before, #sk-container-id-2 div.sk-parallel-item::before {content: \"\";position: absolute;border-left: 1px solid gray;box-sizing: border-box;top: 0;bottom: 0;left: 50%;z-index: -1;}#sk-container-id-2 div.sk-parallel-item {display: flex;flex-direction: column;z-index: 1;position: relative;background-color: white;}#sk-container-id-2 div.sk-parallel-item:first-child::after {align-self: flex-end;width: 50%;}#sk-container-id-2 div.sk-parallel-item:last-child::after {align-self: flex-start;width: 50%;}#sk-container-id-2 div.sk-parallel-item:only-child::after {width: 0;}#sk-container-id-2 div.sk-dashed-wrapped {border: 1px dashed gray;margin: 0 0.4em 0.5em 0.4em;box-sizing: border-box;padding-bottom: 0.4em;background-color: white;}#sk-container-id-2 div.sk-label label {font-family: monospace;font-weight: bold;display: inline-block;line-height: 1.2em;}#sk-container-id-2 div.sk-label-container {text-align: center;}#sk-container-id-2 div.sk-container {/* jupyter's `normalize.less` sets `[hidden] { display: none; }` but bootstrap.min.css set `[hidden] { display: none !important; }` so we also need the `!important` here to be able to override the default hidden behavior on the sphinx rendered scikit-learn.org. See: https://github.com/scikit-learn/scikit-learn/issues/21755 */display: inline-block !important;position: relative;}#sk-container-id-2 div.sk-text-repr-fallback {display: none;}</style><div id=\"sk-container-id-2\" class=\"sk-top-container\"><div class=\"sk-text-repr-fallback\"><pre>LogisticRegression()</pre><b>In a Jupyter environment, please rerun this cell to show the HTML representation or trust the notebook. <br />On GitHub, the HTML representation is unable to render, please try loading this page with nbviewer.org.</b></div><div class=\"sk-container\" hidden><div class=\"sk-item\"><div class=\"sk-estimator sk-toggleable\"><input class=\"sk-toggleable__control sk-hidden--visually\" id=\"sk-estimator-id-2\" type=\"checkbox\" checked><label for=\"sk-estimator-id-2\" class=\"sk-toggleable__label sk-toggleable__label-arrow\">LogisticRegression</label><div class=\"sk-toggleable__content\"><pre>LogisticRegression()</pre></div></div></div></div></div>"
      ],
      "text/plain": [
       "LogisticRegression()"
      ]
     },
     "execution_count": 32,
     "metadata": {},
     "output_type": "execute_result"
    }
   ],
   "source": [
    "%%time\n",
    "model_1.fit(x_train_tfidf,y_train)"
   ]
  },
  {
   "cell_type": "code",
   "execution_count": 33,
   "id": "8698e7b9-6597-4592-9d70-f914848e877b",
   "metadata": {},
   "outputs": [
    {
     "name": "stdout",
     "output_type": "stream",
     "text": [
      "Precision Score on training dateset for Logistic Regression: 0.869904761904762\n",
      "AUC Score on training dateset for Logistic Regression: 0.9432761206738602\n",
      "F1 Score ftraining dateset for Logistic Regression: 0.8698972504049466\n",
      "Precision Score on test for Logistic Regression: 0.8641944444444445\n",
      "AUC Score on test for Logistic Regression: 0.938287128550898\n",
      "F1 Score for Logistic Regression: 0.864197026354976\n",
      "CPU times: total: 1.08 s\n",
      "Wall time: 3.01 s\n"
     ]
    }
   ],
   "source": [
    "%%time\n",
    "print(\"Precision Score on training dateset for Logistic Regression: %s\" % precision_score(y_train,model_1.predict(x_train_tfidf),average='micro'))\n",
    "print(\"AUC Score on training dateset for Logistic Regression: %s\" % roc_auc_score(y_train,model_1.predict_proba(x_train_tfidf)[:,1],multi_class='ovo',average='macro'))\n",
    "f1_score_train_1 =f1_score(y_train,model_1.predict(x_train_tfidf),average=\"weighted\")\n",
    "print(\"F1 Score ftraining dateset for Logistic Regression: %s\" % f1_score_train_1)\n",
    "print(\"Precision Score on test for Logistic Regression: %s\" % precision_score(y_test,model_1.predict(x_test_tfidf),average='micro'))\n",
    "print(\"AUC Score on test for Logistic Regression: %s\" % roc_auc_score(y_test,model_1.predict_proba(x_test_tfidf)[:,1],multi_class='ovo',average='macro'))\n",
    "f1_score_1 =f1_score(y_test,model_1.predict(x_test_tfidf),average=\"weighted\")\n",
    "print(\"F1 Score for Logistic Regression: %s\" % f1_score_1)"
   ]
  },
  {
   "cell_type": "code",
   "execution_count": 34,
   "id": "ea180387-bd85-4c51-820c-7c1f96656887",
   "metadata": {},
   "outputs": [],
   "source": [
    "# import pickle\n",
    "# # Save the model to a .pkl file.\n",
    "# filename = 'logistic_model.pkl'\n",
    "# with open(filename, 'wb') as f:\n",
    "#     pickle.dump(model_1, f)"
   ]
  },
  {
   "cell_type": "markdown",
   "id": "bf3a341d-bd63-4379-ba0a-e2aab44dadba",
   "metadata": {},
   "source": [
    "### 2. Decision Tree Classifier"
   ]
  },
  {
   "cell_type": "code",
   "execution_count": 38,
   "id": "f7b2801e-e4b1-48d2-beaf-39aed3f4b296",
   "metadata": {},
   "outputs": [],
   "source": [
    "from sklearn.tree import DecisionTreeClassifier\n",
    "from sklearn.pipeline import Pipeline"
   ]
  },
  {
   "cell_type": "code",
   "execution_count": 39,
   "id": "102cd852-d7df-4266-ac3b-7a034b6dbc52",
   "metadata": {},
   "outputs": [],
   "source": [
    "model_2 = Pipeline(\n",
    "    steps=[\n",
    "        #(\"classifier\", DecisionTreeClassifier(criterion='gini', splitter='best', max_depth=None, min_samples_split=2, min_samples_leaf=1, min_weight_fraction_leaf=0.0, max_features=None, random_state=None, max_leaf_nodes=None, min_impurity_decrease=0.0, class_weight=None, ccp_alpha=0.0)),\n",
    "    (\"classifier\", DecisionTreeClassifier())\n",
    "    ]\n",
    ")"
   ]
  },
  {
   "cell_type": "code",
   "execution_count": 40,
   "id": "98a9a0a5-94e4-4b68-9762-3df9ecc811c1",
   "metadata": {},
   "outputs": [
    {
     "name": "stdout",
     "output_type": "stream",
     "text": [
      "CPU times: total: 1min 23s\n",
      "Wall time: 2min 34s\n"
     ]
    },
    {
     "data": {
      "text/html": [
       "<style>#sk-container-id-3 {color: black;}#sk-container-id-3 pre{padding: 0;}#sk-container-id-3 div.sk-toggleable {background-color: white;}#sk-container-id-3 label.sk-toggleable__label {cursor: pointer;display: block;width: 100%;margin-bottom: 0;padding: 0.3em;box-sizing: border-box;text-align: center;}#sk-container-id-3 label.sk-toggleable__label-arrow:before {content: \"▸\";float: left;margin-right: 0.25em;color: #696969;}#sk-container-id-3 label.sk-toggleable__label-arrow:hover:before {color: black;}#sk-container-id-3 div.sk-estimator:hover label.sk-toggleable__label-arrow:before {color: black;}#sk-container-id-3 div.sk-toggleable__content {max-height: 0;max-width: 0;overflow: hidden;text-align: left;background-color: #f0f8ff;}#sk-container-id-3 div.sk-toggleable__content pre {margin: 0.2em;color: black;border-radius: 0.25em;background-color: #f0f8ff;}#sk-container-id-3 input.sk-toggleable__control:checked~div.sk-toggleable__content {max-height: 200px;max-width: 100%;overflow: auto;}#sk-container-id-3 input.sk-toggleable__control:checked~label.sk-toggleable__label-arrow:before {content: \"▾\";}#sk-container-id-3 div.sk-estimator input.sk-toggleable__control:checked~label.sk-toggleable__label {background-color: #d4ebff;}#sk-container-id-3 div.sk-label input.sk-toggleable__control:checked~label.sk-toggleable__label {background-color: #d4ebff;}#sk-container-id-3 input.sk-hidden--visually {border: 0;clip: rect(1px 1px 1px 1px);clip: rect(1px, 1px, 1px, 1px);height: 1px;margin: -1px;overflow: hidden;padding: 0;position: absolute;width: 1px;}#sk-container-id-3 div.sk-estimator {font-family: monospace;background-color: #f0f8ff;border: 1px dotted black;border-radius: 0.25em;box-sizing: border-box;margin-bottom: 0.5em;}#sk-container-id-3 div.sk-estimator:hover {background-color: #d4ebff;}#sk-container-id-3 div.sk-parallel-item::after {content: \"\";width: 100%;border-bottom: 1px solid gray;flex-grow: 1;}#sk-container-id-3 div.sk-label:hover label.sk-toggleable__label {background-color: #d4ebff;}#sk-container-id-3 div.sk-serial::before {content: \"\";position: absolute;border-left: 1px solid gray;box-sizing: border-box;top: 0;bottom: 0;left: 50%;z-index: 0;}#sk-container-id-3 div.sk-serial {display: flex;flex-direction: column;align-items: center;background-color: white;padding-right: 0.2em;padding-left: 0.2em;position: relative;}#sk-container-id-3 div.sk-item {position: relative;z-index: 1;}#sk-container-id-3 div.sk-parallel {display: flex;align-items: stretch;justify-content: center;background-color: white;position: relative;}#sk-container-id-3 div.sk-item::before, #sk-container-id-3 div.sk-parallel-item::before {content: \"\";position: absolute;border-left: 1px solid gray;box-sizing: border-box;top: 0;bottom: 0;left: 50%;z-index: -1;}#sk-container-id-3 div.sk-parallel-item {display: flex;flex-direction: column;z-index: 1;position: relative;background-color: white;}#sk-container-id-3 div.sk-parallel-item:first-child::after {align-self: flex-end;width: 50%;}#sk-container-id-3 div.sk-parallel-item:last-child::after {align-self: flex-start;width: 50%;}#sk-container-id-3 div.sk-parallel-item:only-child::after {width: 0;}#sk-container-id-3 div.sk-dashed-wrapped {border: 1px dashed gray;margin: 0 0.4em 0.5em 0.4em;box-sizing: border-box;padding-bottom: 0.4em;background-color: white;}#sk-container-id-3 div.sk-label label {font-family: monospace;font-weight: bold;display: inline-block;line-height: 1.2em;}#sk-container-id-3 div.sk-label-container {text-align: center;}#sk-container-id-3 div.sk-container {/* jupyter's `normalize.less` sets `[hidden] { display: none; }` but bootstrap.min.css set `[hidden] { display: none !important; }` so we also need the `!important` here to be able to override the default hidden behavior on the sphinx rendered scikit-learn.org. See: https://github.com/scikit-learn/scikit-learn/issues/21755 */display: inline-block !important;position: relative;}#sk-container-id-3 div.sk-text-repr-fallback {display: none;}</style><div id=\"sk-container-id-3\" class=\"sk-top-container\"><div class=\"sk-text-repr-fallback\"><pre>Pipeline(steps=[(&#x27;classifier&#x27;, DecisionTreeClassifier())])</pre><b>In a Jupyter environment, please rerun this cell to show the HTML representation or trust the notebook. <br />On GitHub, the HTML representation is unable to render, please try loading this page with nbviewer.org.</b></div><div class=\"sk-container\" hidden><div class=\"sk-item sk-dashed-wrapped\"><div class=\"sk-label-container\"><div class=\"sk-label sk-toggleable\"><input class=\"sk-toggleable__control sk-hidden--visually\" id=\"sk-estimator-id-3\" type=\"checkbox\" ><label for=\"sk-estimator-id-3\" class=\"sk-toggleable__label sk-toggleable__label-arrow\">Pipeline</label><div class=\"sk-toggleable__content\"><pre>Pipeline(steps=[(&#x27;classifier&#x27;, DecisionTreeClassifier())])</pre></div></div></div><div class=\"sk-serial\"><div class=\"sk-item\"><div class=\"sk-estimator sk-toggleable\"><input class=\"sk-toggleable__control sk-hidden--visually\" id=\"sk-estimator-id-4\" type=\"checkbox\" ><label for=\"sk-estimator-id-4\" class=\"sk-toggleable__label sk-toggleable__label-arrow\">DecisionTreeClassifier</label><div class=\"sk-toggleable__content\"><pre>DecisionTreeClassifier()</pre></div></div></div></div></div></div></div>"
      ],
      "text/plain": [
       "Pipeline(steps=[('classifier', DecisionTreeClassifier())])"
      ]
     },
     "execution_count": 40,
     "metadata": {},
     "output_type": "execute_result"
    }
   ],
   "source": [
    "%%time\n",
    "model_2.fit(x_train_tfidf,y_train)"
   ]
  },
  {
   "cell_type": "code",
   "execution_count": 41,
   "id": "52ad3928-2d7e-45ae-a2a0-a411837e0dac",
   "metadata": {},
   "outputs": [
    {
     "name": "stdout",
     "output_type": "stream",
     "text": [
      "Precision Score on training dateset for Decision Tree Classifier: 0.9999285714285714\n",
      "AUC Score on training dateset for Decision Tree Classifier: 0.9999999682535076\n",
      "F1 Score training dateset for Decision Tree Classifier: 0.9999285714476436\n",
      "Precision Score on test for Decision Tree Classifier: 0.7079444444444445\n",
      "AUC Score on test for Decision Tree Classifier: 0.7081361027291044\n",
      "F1 Score for Decision Tree Classifier: 0.7079496502414422\n",
      "CPU times: total: 969 ms\n",
      "Wall time: 3.23 s\n"
     ]
    }
   ],
   "source": [
    "%%time\n",
    "print(\"Precision Score on training dateset for Decision Tree Classifier: %s\" % precision_score(y_train,model_2.predict(x_train_tfidf),average='micro'))\n",
    "print(\"AUC Score on training dateset for Decision Tree Classifier: %s\" % roc_auc_score(y_train,model_2.predict_proba(x_train_tfidf)[:,1],multi_class='ovo',average='macro'))\n",
    "f1_score_train_2 =f1_score(y_train,model_2.predict(x_train_tfidf),average=\"weighted\")\n",
    "print(\"F1 Score training dateset for Decision Tree Classifier: %s\" % f1_score_train_2)\n",
    "print(\"Precision Score on test for Decision Tree Classifier: %s\" % precision_score(y_test,model_2.predict(x_test_tfidf),average='micro'))\n",
    "print(\"AUC Score on test for Decision Tree Classifier: %s\" % roc_auc_score(y_test,model_2.predict_proba(x_test_tfidf)[:,1],multi_class='ovo',average='macro'))\n",
    "f1_score_2 =f1_score(y_test,model_2.predict(x_test_tfidf),average=\"weighted\")\n",
    "print(\"F1 Score for Decision Tree Classifier: %s\" % f1_score_2)"
   ]
  },
  {
   "cell_type": "markdown",
   "id": "143e7aee-512e-40fb-beee-fc2fac557834",
   "metadata": {},
   "source": [
    "#### a. Decision Tree Classifier with max depth 11 to fix overfit "
   ]
  },
  {
   "cell_type": "code",
   "execution_count": 42,
   "id": "d690ea0a-a3bd-4f43-ad3f-60156a88a5cd",
   "metadata": {},
   "outputs": [],
   "source": [
    "model_3 = Pipeline(\n",
    "    steps=[\n",
    "        (\"classifier\", DecisionTreeClassifier( criterion='gini', max_depth=11, min_samples_split=2, min_samples_leaf=1)),\n",
    "    ]\n",
    ")"
   ]
  },
  {
   "cell_type": "code",
   "execution_count": 43,
   "id": "ba0455e5-f9f3-4c62-ae19-b4721efbb3ec",
   "metadata": {},
   "outputs": [
    {
     "name": "stdout",
     "output_type": "stream",
     "text": [
      "CPU times: total: 18 s\n",
      "Wall time: 38.7 s\n"
     ]
    },
    {
     "data": {
      "text/html": [
       "<style>#sk-container-id-4 {color: black;}#sk-container-id-4 pre{padding: 0;}#sk-container-id-4 div.sk-toggleable {background-color: white;}#sk-container-id-4 label.sk-toggleable__label {cursor: pointer;display: block;width: 100%;margin-bottom: 0;padding: 0.3em;box-sizing: border-box;text-align: center;}#sk-container-id-4 label.sk-toggleable__label-arrow:before {content: \"▸\";float: left;margin-right: 0.25em;color: #696969;}#sk-container-id-4 label.sk-toggleable__label-arrow:hover:before {color: black;}#sk-container-id-4 div.sk-estimator:hover label.sk-toggleable__label-arrow:before {color: black;}#sk-container-id-4 div.sk-toggleable__content {max-height: 0;max-width: 0;overflow: hidden;text-align: left;background-color: #f0f8ff;}#sk-container-id-4 div.sk-toggleable__content pre {margin: 0.2em;color: black;border-radius: 0.25em;background-color: #f0f8ff;}#sk-container-id-4 input.sk-toggleable__control:checked~div.sk-toggleable__content {max-height: 200px;max-width: 100%;overflow: auto;}#sk-container-id-4 input.sk-toggleable__control:checked~label.sk-toggleable__label-arrow:before {content: \"▾\";}#sk-container-id-4 div.sk-estimator input.sk-toggleable__control:checked~label.sk-toggleable__label {background-color: #d4ebff;}#sk-container-id-4 div.sk-label input.sk-toggleable__control:checked~label.sk-toggleable__label {background-color: #d4ebff;}#sk-container-id-4 input.sk-hidden--visually {border: 0;clip: rect(1px 1px 1px 1px);clip: rect(1px, 1px, 1px, 1px);height: 1px;margin: -1px;overflow: hidden;padding: 0;position: absolute;width: 1px;}#sk-container-id-4 div.sk-estimator {font-family: monospace;background-color: #f0f8ff;border: 1px dotted black;border-radius: 0.25em;box-sizing: border-box;margin-bottom: 0.5em;}#sk-container-id-4 div.sk-estimator:hover {background-color: #d4ebff;}#sk-container-id-4 div.sk-parallel-item::after {content: \"\";width: 100%;border-bottom: 1px solid gray;flex-grow: 1;}#sk-container-id-4 div.sk-label:hover label.sk-toggleable__label {background-color: #d4ebff;}#sk-container-id-4 div.sk-serial::before {content: \"\";position: absolute;border-left: 1px solid gray;box-sizing: border-box;top: 0;bottom: 0;left: 50%;z-index: 0;}#sk-container-id-4 div.sk-serial {display: flex;flex-direction: column;align-items: center;background-color: white;padding-right: 0.2em;padding-left: 0.2em;position: relative;}#sk-container-id-4 div.sk-item {position: relative;z-index: 1;}#sk-container-id-4 div.sk-parallel {display: flex;align-items: stretch;justify-content: center;background-color: white;position: relative;}#sk-container-id-4 div.sk-item::before, #sk-container-id-4 div.sk-parallel-item::before {content: \"\";position: absolute;border-left: 1px solid gray;box-sizing: border-box;top: 0;bottom: 0;left: 50%;z-index: -1;}#sk-container-id-4 div.sk-parallel-item {display: flex;flex-direction: column;z-index: 1;position: relative;background-color: white;}#sk-container-id-4 div.sk-parallel-item:first-child::after {align-self: flex-end;width: 50%;}#sk-container-id-4 div.sk-parallel-item:last-child::after {align-self: flex-start;width: 50%;}#sk-container-id-4 div.sk-parallel-item:only-child::after {width: 0;}#sk-container-id-4 div.sk-dashed-wrapped {border: 1px dashed gray;margin: 0 0.4em 0.5em 0.4em;box-sizing: border-box;padding-bottom: 0.4em;background-color: white;}#sk-container-id-4 div.sk-label label {font-family: monospace;font-weight: bold;display: inline-block;line-height: 1.2em;}#sk-container-id-4 div.sk-label-container {text-align: center;}#sk-container-id-4 div.sk-container {/* jupyter's `normalize.less` sets `[hidden] { display: none; }` but bootstrap.min.css set `[hidden] { display: none !important; }` so we also need the `!important` here to be able to override the default hidden behavior on the sphinx rendered scikit-learn.org. See: https://github.com/scikit-learn/scikit-learn/issues/21755 */display: inline-block !important;position: relative;}#sk-container-id-4 div.sk-text-repr-fallback {display: none;}</style><div id=\"sk-container-id-4\" class=\"sk-top-container\"><div class=\"sk-text-repr-fallback\"><pre>Pipeline(steps=[(&#x27;classifier&#x27;, DecisionTreeClassifier(max_depth=11))])</pre><b>In a Jupyter environment, please rerun this cell to show the HTML representation or trust the notebook. <br />On GitHub, the HTML representation is unable to render, please try loading this page with nbviewer.org.</b></div><div class=\"sk-container\" hidden><div class=\"sk-item sk-dashed-wrapped\"><div class=\"sk-label-container\"><div class=\"sk-label sk-toggleable\"><input class=\"sk-toggleable__control sk-hidden--visually\" id=\"sk-estimator-id-5\" type=\"checkbox\" ><label for=\"sk-estimator-id-5\" class=\"sk-toggleable__label sk-toggleable__label-arrow\">Pipeline</label><div class=\"sk-toggleable__content\"><pre>Pipeline(steps=[(&#x27;classifier&#x27;, DecisionTreeClassifier(max_depth=11))])</pre></div></div></div><div class=\"sk-serial\"><div class=\"sk-item\"><div class=\"sk-estimator sk-toggleable\"><input class=\"sk-toggleable__control sk-hidden--visually\" id=\"sk-estimator-id-6\" type=\"checkbox\" ><label for=\"sk-estimator-id-6\" class=\"sk-toggleable__label sk-toggleable__label-arrow\">DecisionTreeClassifier</label><div class=\"sk-toggleable__content\"><pre>DecisionTreeClassifier(max_depth=11)</pre></div></div></div></div></div></div></div>"
      ],
      "text/plain": [
       "Pipeline(steps=[('classifier', DecisionTreeClassifier(max_depth=11))])"
      ]
     },
     "execution_count": 43,
     "metadata": {},
     "output_type": "execute_result"
    }
   ],
   "source": [
    "%%time\n",
    "model_3.fit(x_train_tfidf,y_train)"
   ]
  },
  {
   "cell_type": "code",
   "execution_count": 44,
   "id": "ef09c0ec-d930-4d27-b4cd-af2c22a17be2",
   "metadata": {},
   "outputs": [
    {
     "name": "stdout",
     "output_type": "stream",
     "text": [
      "Precision Score on training dateset for Decision Tree Classifier: 0.7498095238095238\n",
      "AUC Score on training dateset for Decision Tree Classifier: 0.8195156630391008\n",
      "F1 Score training dateset for Decision Tree Classifier: 0.745736602963906\n",
      "Precision Score on test for Decision Tree Classifier: 0.7159166666666666\n",
      "AUC Score on test for Decision Tree Classifier: 0.7698694032614922\n",
      "F1 Score for Decision Tree Classifier: 0.7117116974660729\n",
      "CPU times: total: 1.45 s\n",
      "Wall time: 3.4 s\n"
     ]
    }
   ],
   "source": [
    "\n",
    "%%time\n",
    "print(\"Precision Score on training dateset for Decision Tree Classifier: %s\" % precision_score(y_train,model_3.predict(x_train_tfidf),average='micro'))\n",
    "print(\"AUC Score on training dateset for Decision Tree Classifier: %s\" % roc_auc_score(y_train,model_3.predict_proba(x_train_tfidf)[:,1],multi_class='ovo',average='macro'))\n",
    "f1_score_train_3 =f1_score(y_train,model_3.predict(x_train_tfidf),average=\"weighted\")\n",
    "print(\"F1 Score training dateset for Decision Tree Classifier: %s\" % f1_score_train_3)\n",
    "print(\"Precision Score on test for Decision Tree Classifier: %s\" % precision_score(y_test,model_3.predict(x_test_tfidf),average='micro'))\n",
    "print(\"AUC Score on test for Decision Tree Classifier: %s\" % roc_auc_score(y_test,model_3.predict_proba(x_test_tfidf)[:,1],multi_class='ovo',average='macro'))\n",
    "f1_score_3 =f1_score(y_test,model_3.predict(x_test_tfidf),average=\"weighted\")\n",
    "print(\"F1 Score for Decision Tree Classifier: %s\" % f1_score_3)"
   ]
  },
  {
   "cell_type": "markdown",
   "id": "64b16dd6-4919-4f3a-ad13-17e2d722eeaa",
   "metadata": {},
   "source": [
    "### 3. Random Forest Classifier"
   ]
  },
  {
   "cell_type": "code",
   "execution_count": 45,
   "id": "0babd817-29f8-449b-a1d6-4939f2b905dc",
   "metadata": {},
   "outputs": [],
   "source": [
    "from sklearn.ensemble import RandomForestClassifier"
   ]
  },
  {
   "cell_type": "code",
   "execution_count": 46,
   "id": "4a14a5c1-ab33-4685-a9e0-40d552b52b28",
   "metadata": {},
   "outputs": [],
   "source": [
    "model_4 = Pipeline(\n",
    "    steps=[\n",
    "        #(\"classifier\", RandomForestClassifier(n_estimators=100, criterion='gini', max_depth=15, min_samples_split=3, min_samples_leaf=1, min_weight_fraction_leaf=0.0, max_features='sqrt', max_leaf_nodes=None, min_impurity_decrease=0.0, bootstrap=True, oob_score=False, n_jobs=None, random_state=None, verbose=0, warm_start=False, class_weight=None, ccp_alpha=0.0, max_samples=None))\n",
    "    (\"classifier\", RandomForestClassifier())]\n",
    ")"
   ]
  },
  {
   "cell_type": "code",
   "execution_count": 54,
   "id": "031c6f8c-6880-4e53-853a-e58a5e13ec7a",
   "metadata": {},
   "outputs": [
    {
     "data": {
      "text/html": [
       "<style>#sk-container-id-5 {color: black;}#sk-container-id-5 pre{padding: 0;}#sk-container-id-5 div.sk-toggleable {background-color: white;}#sk-container-id-5 label.sk-toggleable__label {cursor: pointer;display: block;width: 100%;margin-bottom: 0;padding: 0.3em;box-sizing: border-box;text-align: center;}#sk-container-id-5 label.sk-toggleable__label-arrow:before {content: \"▸\";float: left;margin-right: 0.25em;color: #696969;}#sk-container-id-5 label.sk-toggleable__label-arrow:hover:before {color: black;}#sk-container-id-5 div.sk-estimator:hover label.sk-toggleable__label-arrow:before {color: black;}#sk-container-id-5 div.sk-toggleable__content {max-height: 0;max-width: 0;overflow: hidden;text-align: left;background-color: #f0f8ff;}#sk-container-id-5 div.sk-toggleable__content pre {margin: 0.2em;color: black;border-radius: 0.25em;background-color: #f0f8ff;}#sk-container-id-5 input.sk-toggleable__control:checked~div.sk-toggleable__content {max-height: 200px;max-width: 100%;overflow: auto;}#sk-container-id-5 input.sk-toggleable__control:checked~label.sk-toggleable__label-arrow:before {content: \"▾\";}#sk-container-id-5 div.sk-estimator input.sk-toggleable__control:checked~label.sk-toggleable__label {background-color: #d4ebff;}#sk-container-id-5 div.sk-label input.sk-toggleable__control:checked~label.sk-toggleable__label {background-color: #d4ebff;}#sk-container-id-5 input.sk-hidden--visually {border: 0;clip: rect(1px 1px 1px 1px);clip: rect(1px, 1px, 1px, 1px);height: 1px;margin: -1px;overflow: hidden;padding: 0;position: absolute;width: 1px;}#sk-container-id-5 div.sk-estimator {font-family: monospace;background-color: #f0f8ff;border: 1px dotted black;border-radius: 0.25em;box-sizing: border-box;margin-bottom: 0.5em;}#sk-container-id-5 div.sk-estimator:hover {background-color: #d4ebff;}#sk-container-id-5 div.sk-parallel-item::after {content: \"\";width: 100%;border-bottom: 1px solid gray;flex-grow: 1;}#sk-container-id-5 div.sk-label:hover label.sk-toggleable__label {background-color: #d4ebff;}#sk-container-id-5 div.sk-serial::before {content: \"\";position: absolute;border-left: 1px solid gray;box-sizing: border-box;top: 0;bottom: 0;left: 50%;z-index: 0;}#sk-container-id-5 div.sk-serial {display: flex;flex-direction: column;align-items: center;background-color: white;padding-right: 0.2em;padding-left: 0.2em;position: relative;}#sk-container-id-5 div.sk-item {position: relative;z-index: 1;}#sk-container-id-5 div.sk-parallel {display: flex;align-items: stretch;justify-content: center;background-color: white;position: relative;}#sk-container-id-5 div.sk-item::before, #sk-container-id-5 div.sk-parallel-item::before {content: \"\";position: absolute;border-left: 1px solid gray;box-sizing: border-box;top: 0;bottom: 0;left: 50%;z-index: -1;}#sk-container-id-5 div.sk-parallel-item {display: flex;flex-direction: column;z-index: 1;position: relative;background-color: white;}#sk-container-id-5 div.sk-parallel-item:first-child::after {align-self: flex-end;width: 50%;}#sk-container-id-5 div.sk-parallel-item:last-child::after {align-self: flex-start;width: 50%;}#sk-container-id-5 div.sk-parallel-item:only-child::after {width: 0;}#sk-container-id-5 div.sk-dashed-wrapped {border: 1px dashed gray;margin: 0 0.4em 0.5em 0.4em;box-sizing: border-box;padding-bottom: 0.4em;background-color: white;}#sk-container-id-5 div.sk-label label {font-family: monospace;font-weight: bold;display: inline-block;line-height: 1.2em;}#sk-container-id-5 div.sk-label-container {text-align: center;}#sk-container-id-5 div.sk-container {/* jupyter's `normalize.less` sets `[hidden] { display: none; }` but bootstrap.min.css set `[hidden] { display: none !important; }` so we also need the `!important` here to be able to override the default hidden behavior on the sphinx rendered scikit-learn.org. See: https://github.com/scikit-learn/scikit-learn/issues/21755 */display: inline-block !important;position: relative;}#sk-container-id-5 div.sk-text-repr-fallback {display: none;}</style><div id=\"sk-container-id-5\" class=\"sk-top-container\"><div class=\"sk-text-repr-fallback\"><pre>Pipeline(steps=[(&#x27;classifier&#x27;, RandomForestClassifier())])</pre><b>In a Jupyter environment, please rerun this cell to show the HTML representation or trust the notebook. <br />On GitHub, the HTML representation is unable to render, please try loading this page with nbviewer.org.</b></div><div class=\"sk-container\" hidden><div class=\"sk-item sk-dashed-wrapped\"><div class=\"sk-label-container\"><div class=\"sk-label sk-toggleable\"><input class=\"sk-toggleable__control sk-hidden--visually\" id=\"sk-estimator-id-7\" type=\"checkbox\" ><label for=\"sk-estimator-id-7\" class=\"sk-toggleable__label sk-toggleable__label-arrow\">Pipeline</label><div class=\"sk-toggleable__content\"><pre>Pipeline(steps=[(&#x27;classifier&#x27;, RandomForestClassifier())])</pre></div></div></div><div class=\"sk-serial\"><div class=\"sk-item\"><div class=\"sk-estimator sk-toggleable\"><input class=\"sk-toggleable__control sk-hidden--visually\" id=\"sk-estimator-id-8\" type=\"checkbox\" ><label for=\"sk-estimator-id-8\" class=\"sk-toggleable__label sk-toggleable__label-arrow\">RandomForestClassifier</label><div class=\"sk-toggleable__content\"><pre>RandomForestClassifier()</pre></div></div></div></div></div></div></div>"
      ],
      "text/plain": [
       "Pipeline(steps=[('classifier', RandomForestClassifier())])"
      ]
     },
     "execution_count": 54,
     "metadata": {},
     "output_type": "execute_result"
    }
   ],
   "source": [
    "model_4.fit(x_train_tfidf,y_train)"
   ]
  },
  {
   "cell_type": "code",
   "execution_count": 55,
   "id": "2f4dbe70-e477-4cc5-8c17-9831f9e6c461",
   "metadata": {},
   "outputs": [
    {
     "name": "stdout",
     "output_type": "stream",
     "text": [
      "Precision Score on training dateset for Random Forest Classifier: 0.9999285714285714\n",
      "AUC Score on training dateset for Random Forest Classifier: 0.9999663730947569\n",
      "F1 Score training dateset for Random Forest Classifier: 0.999928571441367\n",
      "Precision Score on test for Random Forest Classifier: 0.8290833333333333\n",
      "AUC Score on test for Random Forest Classifier: 0.9091898526550246\n",
      "F1 Score for Random Forest Classifier: 0.829086465718235\n",
      "CPU times: total: 10.3 s\n",
      "Wall time: 18.3 s\n"
     ]
    }
   ],
   "source": [
    "%%time\n",
    "print(\"Precision Score on training dateset for Random Forest Classifier: %s\" % precision_score(y_train,model_4.predict(x_train_tfidf),average='micro'))\n",
    "print(\"AUC Score on training dateset for Random Forest Classifier: %s\" % roc_auc_score(y_train,model_4.predict_proba(x_train_tfidf)[:,1],multi_class='ovo',average='macro'))\n",
    "f1_score_train_4 =f1_score(y_train,model_4.predict(x_train_tfidf),average=\"weighted\")\n",
    "print(\"F1 Score training dateset for Random Forest Classifier: %s\" % f1_score_train_4)\n",
    "print(\"Precision Score on test for Random Forest Classifier: %s\" % precision_score(y_test,model_4.predict(x_test_tfidf),average='micro'))\n",
    "print(\"AUC Score on test for Random Forest Classifier: %s\" % roc_auc_score(y_test,model_4.predict_proba(x_test_tfidf)[:,1],multi_class='ovo',average='macro'))\n",
    "f1_score_4 =f1_score(y_test,model_4.predict(x_test_tfidf),average=\"weighted\")\n",
    "print(\"F1 Score for Random Forest Classifier: %s\" % f1_score_4)"
   ]
  },
  {
   "cell_type": "markdown",
   "id": "70fabd2f-23bc-4413-92ef-352c7cef97d0",
   "metadata": {},
   "source": [
    "### 4. Ada Boost Classifier"
   ]
  },
  {
   "cell_type": "code",
   "execution_count": 48,
   "id": "920da7f8-7a05-437a-9b7e-95eaca26bdd1",
   "metadata": {},
   "outputs": [],
   "source": [
    "from sklearn.ensemble import AdaBoostClassifier"
   ]
  },
  {
   "cell_type": "code",
   "execution_count": 59,
   "id": "8e2fe22f-42f7-4635-ab20-07cc73f1412a",
   "metadata": {},
   "outputs": [
    {
     "name": "stdout",
     "output_type": "stream",
     "text": [
      "Precision Score on training dateset for Ada Boost Classifier: 0.8876309523809524\n",
      "AUC Score on training dateset for Ada Boost Classifier: 0.9612699555050233\n",
      "F1 Score training dateset for Ada Boost Classifier: 0.8876290965436627\n",
      "Precision Score on test for Ada Boost Classifier: 0.8331944444444445\n",
      "AUC Score on test for Ada Boost Classifier: 0.908781814242113\n",
      "F1 Score for Random Forest Classifier: 0.8331973779309461\n"
     ]
    }
   ],
   "source": [
    "model_5 = Pipeline(\n",
    "    steps=[\n",
    "        (\"classifier\", AdaBoostClassifier(base_estimator=DecisionTreeClassifier(max_depth=4),\n",
    "    n_estimators=100,\n",
    "    learning_rate=.8)),\n",
    "    ]\n",
    ")\n",
    "\n",
    "model_5.fit(x_train_tfidf, y_train)\n",
    "\n",
    "print(\"Precision Score on training dateset for Ada Boost Classifier: %s\" % precision_score(y_train,model_5.predict(x_train_tfidf),average='micro'))\n",
    "print(\"AUC Score on training dateset for Ada Boost Classifier: %s\" % roc_auc_score(y_train,model_5.predict_proba(x_train_tfidf)[:,1],multi_class='ovo',average='macro'))\n",
    "f1_score_train_5 =f1_score(y_train,model_5.predict(x_train_tfidf),average=\"weighted\")\n",
    "print(\"F1 Score training dateset for Ada Boost Classifier: %s\" % f1_score_train_5)\n",
    "print(\"Precision Score on test for Ada Boost Classifier: %s\" % precision_score(y_test,model_5.predict(x_test_tfidf),average='micro'))\n",
    "print(\"AUC Score on test for Ada Boost Classifier: %s\" % roc_auc_score(y_test,model_5.predict_proba(x_test_tfidf)[:,1],multi_class='ovo',average='macro'))\n",
    "f1_score_5 =f1_score(y_test,model_5.predict(x_test_tfidf),average=\"weighted\")\n",
    "print(\"F1 Score for Random Forest Classifier: %s\" % f1_score_5)"
   ]
  },
  {
   "cell_type": "markdown",
   "id": "5342e592-1617-4f5b-86b9-70b8c99e6d08",
   "metadata": {},
   "source": [
    "## Hyperparameter Tunning with Grid Search"
   ]
  },
  {
   "cell_type": "code",
   "execution_count": 60,
   "id": "02f3052f-efea-4a15-9fd6-c9de1b2d67c3",
   "metadata": {},
   "outputs": [],
   "source": [
    "import numpy as np\n",
    "import pandas as pd\n",
    "from sklearn import ensemble\n",
    "from sklearn import metrics\n",
    "from sklearn import model_selection\n",
    "\n",
    "def hyperparamtune(classifier, param_grid,metric,verbose_value,cv):\n",
    "    model=model_selection.GridSearchCV(\n",
    "            estimator=classifier,\n",
    "            param_grid=param_grid,\n",
    "            scoring=metric,\n",
    "            verbose=verbose_value,            \n",
    "            cv=cv)\n",
    "\n",
    "    model.fit(x_train_tfidf,y_train)\n",
    "    print(\"Best Score %s\" % {model.best_score_})\n",
    "    print(\"Best hyperparameter set:\")\n",
    "    best_parameters = model.best_estimator_.get_params()\n",
    "    for param_name in sorted(param_grid.keys()):\n",
    "        print(f\"\\t{param_name}: {best_parameters[param_name]}\")\n",
    "    return model, best_parameters"
   ]
  },
  {
   "cell_type": "markdown",
   "id": "1267d570-77c1-4f4f-878f-31f985765e02",
   "metadata": {},
   "source": [
    "### 1. Logistic Regression\n"
   ]
  },
  {
   "cell_type": "code",
   "execution_count": 61,
   "id": "f551f46a-8a1f-4b10-ba87-5fd3cac30f00",
   "metadata": {},
   "outputs": [
    {
     "name": "stdout",
     "output_type": "stream",
     "text": [
      "Fitting 5 folds for each of 48 candidates, totalling 240 fits\n",
      "[CV 1/5; 1/48] START C=0.01, max_iter=100, penalty=l2, tol=0.0001...............\n",
      "[CV 1/5; 1/48] END C=0.01, max_iter=100, penalty=l2, tol=0.0001;, score=0.842 total time=   0.8s\n",
      "[CV 2/5; 1/48] START C=0.01, max_iter=100, penalty=l2, tol=0.0001...............\n",
      "[CV 2/5; 1/48] END C=0.01, max_iter=100, penalty=l2, tol=0.0001;, score=0.843 total time=   0.8s\n",
      "[CV 3/5; 1/48] START C=0.01, max_iter=100, penalty=l2, tol=0.0001...............\n",
      "[CV 3/5; 1/48] END C=0.01, max_iter=100, penalty=l2, tol=0.0001;, score=0.844 total time=   0.8s\n",
      "[CV 4/5; 1/48] START C=0.01, max_iter=100, penalty=l2, tol=0.0001...............\n",
      "[CV 4/5; 1/48] END C=0.01, max_iter=100, penalty=l2, tol=0.0001;, score=0.843 total time=   0.8s\n",
      "[CV 5/5; 1/48] START C=0.01, max_iter=100, penalty=l2, tol=0.0001...............\n",
      "[CV 5/5; 1/48] END C=0.01, max_iter=100, penalty=l2, tol=0.0001;, score=0.843 total time=   0.8s\n",
      "[CV 1/5; 2/48] START C=0.01, max_iter=100, penalty=l2, tol=0.001................\n",
      "[CV 1/5; 2/48] END C=0.01, max_iter=100, penalty=l2, tol=0.001;, score=0.842 total time=   0.7s\n",
      "[CV 2/5; 2/48] START C=0.01, max_iter=100, penalty=l2, tol=0.001................\n",
      "[CV 2/5; 2/48] END C=0.01, max_iter=100, penalty=l2, tol=0.001;, score=0.843 total time=   0.7s\n",
      "[CV 3/5; 2/48] START C=0.01, max_iter=100, penalty=l2, tol=0.001................\n",
      "[CV 3/5; 2/48] END C=0.01, max_iter=100, penalty=l2, tol=0.001;, score=0.844 total time=   0.7s\n",
      "[CV 4/5; 2/48] START C=0.01, max_iter=100, penalty=l2, tol=0.001................\n",
      "[CV 4/5; 2/48] END C=0.01, max_iter=100, penalty=l2, tol=0.001;, score=0.843 total time=   0.7s\n",
      "[CV 5/5; 2/48] START C=0.01, max_iter=100, penalty=l2, tol=0.001................\n",
      "[CV 5/5; 2/48] END C=0.01, max_iter=100, penalty=l2, tol=0.001;, score=0.843 total time=   0.8s\n",
      "[CV 1/5; 3/48] START C=0.01, max_iter=100, penalty=l2, tol=0.01.................\n",
      "[CV 1/5; 3/48] END C=0.01, max_iter=100, penalty=l2, tol=0.01;, score=0.842 total time=   0.7s\n",
      "[CV 2/5; 3/48] START C=0.01, max_iter=100, penalty=l2, tol=0.01.................\n",
      "[CV 2/5; 3/48] END C=0.01, max_iter=100, penalty=l2, tol=0.01;, score=0.843 total time=   0.7s\n",
      "[CV 3/5; 3/48] START C=0.01, max_iter=100, penalty=l2, tol=0.01.................\n",
      "[CV 3/5; 3/48] END C=0.01, max_iter=100, penalty=l2, tol=0.01;, score=0.844 total time=   0.7s\n",
      "[CV 4/5; 3/48] START C=0.01, max_iter=100, penalty=l2, tol=0.01.................\n",
      "[CV 4/5; 3/48] END C=0.01, max_iter=100, penalty=l2, tol=0.01;, score=0.843 total time=   0.7s\n",
      "[CV 5/5; 3/48] START C=0.01, max_iter=100, penalty=l2, tol=0.01.................\n",
      "[CV 5/5; 3/48] END C=0.01, max_iter=100, penalty=l2, tol=0.01;, score=0.843 total time=   0.7s\n",
      "[CV 1/5; 4/48] START C=0.01, max_iter=100, penalty=l1, tol=0.0001...............\n",
      "[CV 1/5; 4/48] END C=0.01, max_iter=100, penalty=l1, tol=0.0001;, score=nan total time=   0.1s\n",
      "[CV 2/5; 4/48] START C=0.01, max_iter=100, penalty=l1, tol=0.0001...............\n",
      "[CV 2/5; 4/48] END C=0.01, max_iter=100, penalty=l1, tol=0.0001;, score=nan total time=   0.1s\n",
      "[CV 3/5; 4/48] START C=0.01, max_iter=100, penalty=l1, tol=0.0001...............\n",
      "[CV 3/5; 4/48] END C=0.01, max_iter=100, penalty=l1, tol=0.0001;, score=nan total time=   0.1s\n",
      "[CV 4/5; 4/48] START C=0.01, max_iter=100, penalty=l1, tol=0.0001...............\n",
      "[CV 4/5; 4/48] END C=0.01, max_iter=100, penalty=l1, tol=0.0001;, score=nan total time=   0.1s\n",
      "[CV 5/5; 4/48] START C=0.01, max_iter=100, penalty=l1, tol=0.0001...............\n",
      "[CV 5/5; 4/48] END C=0.01, max_iter=100, penalty=l1, tol=0.0001;, score=nan total time=   0.1s\n",
      "[CV 1/5; 5/48] START C=0.01, max_iter=100, penalty=l1, tol=0.001................\n",
      "[CV 1/5; 5/48] END C=0.01, max_iter=100, penalty=l1, tol=0.001;, score=nan total time=   0.1s\n",
      "[CV 2/5; 5/48] START C=0.01, max_iter=100, penalty=l1, tol=0.001................\n",
      "[CV 2/5; 5/48] END C=0.01, max_iter=100, penalty=l1, tol=0.001;, score=nan total time=   0.1s\n",
      "[CV 3/5; 5/48] START C=0.01, max_iter=100, penalty=l1, tol=0.001................\n",
      "[CV 3/5; 5/48] END C=0.01, max_iter=100, penalty=l1, tol=0.001;, score=nan total time=   0.1s\n",
      "[CV 4/5; 5/48] START C=0.01, max_iter=100, penalty=l1, tol=0.001................\n",
      "[CV 4/5; 5/48] END C=0.01, max_iter=100, penalty=l1, tol=0.001;, score=nan total time=   0.1s\n",
      "[CV 5/5; 5/48] START C=0.01, max_iter=100, penalty=l1, tol=0.001................\n",
      "[CV 5/5; 5/48] END C=0.01, max_iter=100, penalty=l1, tol=0.001;, score=nan total time=   0.1s\n",
      "[CV 1/5; 6/48] START C=0.01, max_iter=100, penalty=l1, tol=0.01.................\n",
      "[CV 1/5; 6/48] END C=0.01, max_iter=100, penalty=l1, tol=0.01;, score=nan total time=   0.1s\n",
      "[CV 2/5; 6/48] START C=0.01, max_iter=100, penalty=l1, tol=0.01.................\n",
      "[CV 2/5; 6/48] END C=0.01, max_iter=100, penalty=l1, tol=0.01;, score=nan total time=   0.1s\n",
      "[CV 3/5; 6/48] START C=0.01, max_iter=100, penalty=l1, tol=0.01.................\n",
      "[CV 3/5; 6/48] END C=0.01, max_iter=100, penalty=l1, tol=0.01;, score=nan total time=   0.1s\n",
      "[CV 4/5; 6/48] START C=0.01, max_iter=100, penalty=l1, tol=0.01.................\n",
      "[CV 4/5; 6/48] END C=0.01, max_iter=100, penalty=l1, tol=0.01;, score=nan total time=   0.1s\n",
      "[CV 5/5; 6/48] START C=0.01, max_iter=100, penalty=l1, tol=0.01.................\n",
      "[CV 5/5; 6/48] END C=0.01, max_iter=100, penalty=l1, tol=0.01;, score=nan total time=   0.1s\n",
      "[CV 1/5; 7/48] START C=0.01, max_iter=200, penalty=l2, tol=0.0001...............\n",
      "[CV 1/5; 7/48] END C=0.01, max_iter=200, penalty=l2, tol=0.0001;, score=0.842 total time=   0.7s\n",
      "[CV 2/5; 7/48] START C=0.01, max_iter=200, penalty=l2, tol=0.0001...............\n",
      "[CV 2/5; 7/48] END C=0.01, max_iter=200, penalty=l2, tol=0.0001;, score=0.843 total time=   0.7s\n",
      "[CV 3/5; 7/48] START C=0.01, max_iter=200, penalty=l2, tol=0.0001...............\n",
      "[CV 3/5; 7/48] END C=0.01, max_iter=200, penalty=l2, tol=0.0001;, score=0.844 total time=   0.7s\n",
      "[CV 4/5; 7/48] START C=0.01, max_iter=200, penalty=l2, tol=0.0001...............\n",
      "[CV 4/5; 7/48] END C=0.01, max_iter=200, penalty=l2, tol=0.0001;, score=0.843 total time=   0.7s\n",
      "[CV 5/5; 7/48] START C=0.01, max_iter=200, penalty=l2, tol=0.0001...............\n",
      "[CV 5/5; 7/48] END C=0.01, max_iter=200, penalty=l2, tol=0.0001;, score=0.843 total time=   0.7s\n",
      "[CV 1/5; 8/48] START C=0.01, max_iter=200, penalty=l2, tol=0.001................\n",
      "[CV 1/5; 8/48] END C=0.01, max_iter=200, penalty=l2, tol=0.001;, score=0.842 total time=   0.7s\n",
      "[CV 2/5; 8/48] START C=0.01, max_iter=200, penalty=l2, tol=0.001................\n",
      "[CV 2/5; 8/48] END C=0.01, max_iter=200, penalty=l2, tol=0.001;, score=0.843 total time=   0.7s\n",
      "[CV 3/5; 8/48] START C=0.01, max_iter=200, penalty=l2, tol=0.001................\n",
      "[CV 3/5; 8/48] END C=0.01, max_iter=200, penalty=l2, tol=0.001;, score=0.844 total time=   0.7s\n",
      "[CV 4/5; 8/48] START C=0.01, max_iter=200, penalty=l2, tol=0.001................\n",
      "[CV 4/5; 8/48] END C=0.01, max_iter=200, penalty=l2, tol=0.001;, score=0.843 total time=   0.7s\n",
      "[CV 5/5; 8/48] START C=0.01, max_iter=200, penalty=l2, tol=0.001................\n",
      "[CV 5/5; 8/48] END C=0.01, max_iter=200, penalty=l2, tol=0.001;, score=0.843 total time=   0.7s\n",
      "[CV 1/5; 9/48] START C=0.01, max_iter=200, penalty=l2, tol=0.01.................\n",
      "[CV 1/5; 9/48] END C=0.01, max_iter=200, penalty=l2, tol=0.01;, score=0.842 total time=   0.7s\n",
      "[CV 2/5; 9/48] START C=0.01, max_iter=200, penalty=l2, tol=0.01.................\n",
      "[CV 2/5; 9/48] END C=0.01, max_iter=200, penalty=l2, tol=0.01;, score=0.843 total time=   0.7s\n",
      "[CV 3/5; 9/48] START C=0.01, max_iter=200, penalty=l2, tol=0.01.................\n",
      "[CV 3/5; 9/48] END C=0.01, max_iter=200, penalty=l2, tol=0.01;, score=0.844 total time=   0.7s\n",
      "[CV 4/5; 9/48] START C=0.01, max_iter=200, penalty=l2, tol=0.01.................\n",
      "[CV 4/5; 9/48] END C=0.01, max_iter=200, penalty=l2, tol=0.01;, score=0.843 total time=   0.7s\n",
      "[CV 5/5; 9/48] START C=0.01, max_iter=200, penalty=l2, tol=0.01.................\n",
      "[CV 5/5; 9/48] END C=0.01, max_iter=200, penalty=l2, tol=0.01;, score=0.843 total time=   0.7s\n",
      "[CV 1/5; 10/48] START C=0.01, max_iter=200, penalty=l1, tol=0.0001..............\n",
      "[CV 1/5; 10/48] END C=0.01, max_iter=200, penalty=l1, tol=0.0001;, score=nan total time=   0.1s\n",
      "[CV 2/5; 10/48] START C=0.01, max_iter=200, penalty=l1, tol=0.0001..............\n",
      "[CV 2/5; 10/48] END C=0.01, max_iter=200, penalty=l1, tol=0.0001;, score=nan total time=   0.1s\n",
      "[CV 3/5; 10/48] START C=0.01, max_iter=200, penalty=l1, tol=0.0001..............\n",
      "[CV 3/5; 10/48] END C=0.01, max_iter=200, penalty=l1, tol=0.0001;, score=nan total time=   0.1s\n",
      "[CV 4/5; 10/48] START C=0.01, max_iter=200, penalty=l1, tol=0.0001..............\n",
      "[CV 4/5; 10/48] END C=0.01, max_iter=200, penalty=l1, tol=0.0001;, score=nan total time=   0.1s\n",
      "[CV 5/5; 10/48] START C=0.01, max_iter=200, penalty=l1, tol=0.0001..............\n",
      "[CV 5/5; 10/48] END C=0.01, max_iter=200, penalty=l1, tol=0.0001;, score=nan total time=   0.1s\n",
      "[CV 1/5; 11/48] START C=0.01, max_iter=200, penalty=l1, tol=0.001...............\n",
      "[CV 1/5; 11/48] END C=0.01, max_iter=200, penalty=l1, tol=0.001;, score=nan total time=   0.1s\n",
      "[CV 2/5; 11/48] START C=0.01, max_iter=200, penalty=l1, tol=0.001...............\n",
      "[CV 2/5; 11/48] END C=0.01, max_iter=200, penalty=l1, tol=0.001;, score=nan total time=   0.1s\n",
      "[CV 3/5; 11/48] START C=0.01, max_iter=200, penalty=l1, tol=0.001...............\n",
      "[CV 3/5; 11/48] END C=0.01, max_iter=200, penalty=l1, tol=0.001;, score=nan total time=   0.1s\n",
      "[CV 4/5; 11/48] START C=0.01, max_iter=200, penalty=l1, tol=0.001...............\n",
      "[CV 4/5; 11/48] END C=0.01, max_iter=200, penalty=l1, tol=0.001;, score=nan total time=   0.1s\n",
      "[CV 5/5; 11/48] START C=0.01, max_iter=200, penalty=l1, tol=0.001...............\n",
      "[CV 5/5; 11/48] END C=0.01, max_iter=200, penalty=l1, tol=0.001;, score=nan total time=   0.1s\n",
      "[CV 1/5; 12/48] START C=0.01, max_iter=200, penalty=l1, tol=0.01................\n",
      "[CV 1/5; 12/48] END C=0.01, max_iter=200, penalty=l1, tol=0.01;, score=nan total time=   0.1s\n",
      "[CV 2/5; 12/48] START C=0.01, max_iter=200, penalty=l1, tol=0.01................\n",
      "[CV 2/5; 12/48] END C=0.01, max_iter=200, penalty=l1, tol=0.01;, score=nan total time=   0.1s\n",
      "[CV 3/5; 12/48] START C=0.01, max_iter=200, penalty=l1, tol=0.01................\n",
      "[CV 3/5; 12/48] END C=0.01, max_iter=200, penalty=l1, tol=0.01;, score=nan total time=   0.1s\n",
      "[CV 4/5; 12/48] START C=0.01, max_iter=200, penalty=l1, tol=0.01................\n",
      "[CV 4/5; 12/48] END C=0.01, max_iter=200, penalty=l1, tol=0.01;, score=nan total time=   0.1s\n",
      "[CV 5/5; 12/48] START C=0.01, max_iter=200, penalty=l1, tol=0.01................\n",
      "[CV 5/5; 12/48] END C=0.01, max_iter=200, penalty=l1, tol=0.01;, score=nan total time=   0.1s\n",
      "[CV 1/5; 13/48] START C=0.1, max_iter=100, penalty=l2, tol=0.0001...............\n",
      "[CV 1/5; 13/48] END C=0.1, max_iter=100, penalty=l2, tol=0.0001;, score=0.859 total time=   1.0s\n",
      "[CV 2/5; 13/48] START C=0.1, max_iter=100, penalty=l2, tol=0.0001...............\n",
      "[CV 2/5; 13/48] END C=0.1, max_iter=100, penalty=l2, tol=0.0001;, score=0.859 total time=   1.1s\n",
      "[CV 3/5; 13/48] START C=0.1, max_iter=100, penalty=l2, tol=0.0001...............\n",
      "[CV 3/5; 13/48] END C=0.1, max_iter=100, penalty=l2, tol=0.0001;, score=0.860 total time=   1.2s\n",
      "[CV 4/5; 13/48] START C=0.1, max_iter=100, penalty=l2, tol=0.0001...............\n",
      "[CV 4/5; 13/48] END C=0.1, max_iter=100, penalty=l2, tol=0.0001;, score=0.860 total time=   1.2s\n",
      "[CV 5/5; 13/48] START C=0.1, max_iter=100, penalty=l2, tol=0.0001...............\n",
      "[CV 5/5; 13/48] END C=0.1, max_iter=100, penalty=l2, tol=0.0001;, score=0.860 total time=   1.1s\n",
      "[CV 1/5; 14/48] START C=0.1, max_iter=100, penalty=l2, tol=0.001................\n",
      "[CV 1/5; 14/48] END C=0.1, max_iter=100, penalty=l2, tol=0.001;, score=0.859 total time=   1.1s\n",
      "[CV 2/5; 14/48] START C=0.1, max_iter=100, penalty=l2, tol=0.001................\n",
      "[CV 2/5; 14/48] END C=0.1, max_iter=100, penalty=l2, tol=0.001;, score=0.859 total time=   1.1s\n",
      "[CV 3/5; 14/48] START C=0.1, max_iter=100, penalty=l2, tol=0.001................\n",
      "[CV 3/5; 14/48] END C=0.1, max_iter=100, penalty=l2, tol=0.001;, score=0.860 total time=   1.2s\n",
      "[CV 4/5; 14/48] START C=0.1, max_iter=100, penalty=l2, tol=0.001................\n",
      "[CV 4/5; 14/48] END C=0.1, max_iter=100, penalty=l2, tol=0.001;, score=0.860 total time=   1.1s\n",
      "[CV 5/5; 14/48] START C=0.1, max_iter=100, penalty=l2, tol=0.001................\n",
      "[CV 5/5; 14/48] END C=0.1, max_iter=100, penalty=l2, tol=0.001;, score=0.860 total time=   1.1s\n",
      "[CV 1/5; 15/48] START C=0.1, max_iter=100, penalty=l2, tol=0.01.................\n",
      "[CV 1/5; 15/48] END C=0.1, max_iter=100, penalty=l2, tol=0.01;, score=0.859 total time=   1.2s\n",
      "[CV 2/5; 15/48] START C=0.1, max_iter=100, penalty=l2, tol=0.01.................\n",
      "[CV 2/5; 15/48] END C=0.1, max_iter=100, penalty=l2, tol=0.01;, score=0.859 total time=   1.2s\n",
      "[CV 3/5; 15/48] START C=0.1, max_iter=100, penalty=l2, tol=0.01.................\n",
      "[CV 3/5; 15/48] END C=0.1, max_iter=100, penalty=l2, tol=0.01;, score=0.860 total time=   1.3s\n",
      "[CV 4/5; 15/48] START C=0.1, max_iter=100, penalty=l2, tol=0.01.................\n",
      "[CV 4/5; 15/48] END C=0.1, max_iter=100, penalty=l2, tol=0.01;, score=0.860 total time=   1.2s\n",
      "[CV 5/5; 15/48] START C=0.1, max_iter=100, penalty=l2, tol=0.01.................\n",
      "[CV 5/5; 15/48] END C=0.1, max_iter=100, penalty=l2, tol=0.01;, score=0.860 total time=   1.1s\n",
      "[CV 1/5; 16/48] START C=0.1, max_iter=100, penalty=l1, tol=0.0001...............\n",
      "[CV 1/5; 16/48] END C=0.1, max_iter=100, penalty=l1, tol=0.0001;, score=nan total time=   0.1s\n",
      "[CV 2/5; 16/48] START C=0.1, max_iter=100, penalty=l1, tol=0.0001...............\n",
      "[CV 2/5; 16/48] END C=0.1, max_iter=100, penalty=l1, tol=0.0001;, score=nan total time=   0.1s\n",
      "[CV 3/5; 16/48] START C=0.1, max_iter=100, penalty=l1, tol=0.0001...............\n",
      "[CV 3/5; 16/48] END C=0.1, max_iter=100, penalty=l1, tol=0.0001;, score=nan total time=   0.1s\n",
      "[CV 4/5; 16/48] START C=0.1, max_iter=100, penalty=l1, tol=0.0001...............\n",
      "[CV 4/5; 16/48] END C=0.1, max_iter=100, penalty=l1, tol=0.0001;, score=nan total time=   0.1s\n",
      "[CV 5/5; 16/48] START C=0.1, max_iter=100, penalty=l1, tol=0.0001...............\n",
      "[CV 5/5; 16/48] END C=0.1, max_iter=100, penalty=l1, tol=0.0001;, score=nan total time=   0.1s\n",
      "[CV 1/5; 17/48] START C=0.1, max_iter=100, penalty=l1, tol=0.001................\n",
      "[CV 1/5; 17/48] END C=0.1, max_iter=100, penalty=l1, tol=0.001;, score=nan total time=   0.1s\n",
      "[CV 2/5; 17/48] START C=0.1, max_iter=100, penalty=l1, tol=0.001................\n",
      "[CV 2/5; 17/48] END C=0.1, max_iter=100, penalty=l1, tol=0.001;, score=nan total time=   0.1s\n",
      "[CV 3/5; 17/48] START C=0.1, max_iter=100, penalty=l1, tol=0.001................\n",
      "[CV 3/5; 17/48] END C=0.1, max_iter=100, penalty=l1, tol=0.001;, score=nan total time=   0.1s\n",
      "[CV 4/5; 17/48] START C=0.1, max_iter=100, penalty=l1, tol=0.001................\n",
      "[CV 4/5; 17/48] END C=0.1, max_iter=100, penalty=l1, tol=0.001;, score=nan total time=   0.1s\n",
      "[CV 5/5; 17/48] START C=0.1, max_iter=100, penalty=l1, tol=0.001................\n",
      "[CV 5/5; 17/48] END C=0.1, max_iter=100, penalty=l1, tol=0.001;, score=nan total time=   0.1s\n",
      "[CV 1/5; 18/48] START C=0.1, max_iter=100, penalty=l1, tol=0.01.................\n",
      "[CV 1/5; 18/48] END C=0.1, max_iter=100, penalty=l1, tol=0.01;, score=nan total time=   0.1s\n",
      "[CV 2/5; 18/48] START C=0.1, max_iter=100, penalty=l1, tol=0.01.................\n",
      "[CV 2/5; 18/48] END C=0.1, max_iter=100, penalty=l1, tol=0.01;, score=nan total time=   0.1s\n",
      "[CV 3/5; 18/48] START C=0.1, max_iter=100, penalty=l1, tol=0.01.................\n",
      "[CV 3/5; 18/48] END C=0.1, max_iter=100, penalty=l1, tol=0.01;, score=nan total time=   0.1s\n",
      "[CV 4/5; 18/48] START C=0.1, max_iter=100, penalty=l1, tol=0.01.................\n",
      "[CV 4/5; 18/48] END C=0.1, max_iter=100, penalty=l1, tol=0.01;, score=nan total time=   0.1s\n",
      "[CV 5/5; 18/48] START C=0.1, max_iter=100, penalty=l1, tol=0.01.................\n",
      "[CV 5/5; 18/48] END C=0.1, max_iter=100, penalty=l1, tol=0.01;, score=nan total time=   0.1s\n",
      "[CV 1/5; 19/48] START C=0.1, max_iter=200, penalty=l2, tol=0.0001...............\n",
      "[CV 1/5; 19/48] END C=0.1, max_iter=200, penalty=l2, tol=0.0001;, score=0.859 total time=   1.1s\n",
      "[CV 2/5; 19/48] START C=0.1, max_iter=200, penalty=l2, tol=0.0001...............\n",
      "[CV 2/5; 19/48] END C=0.1, max_iter=200, penalty=l2, tol=0.0001;, score=0.859 total time=   1.1s\n",
      "[CV 3/5; 19/48] START C=0.1, max_iter=200, penalty=l2, tol=0.0001...............\n",
      "[CV 3/5; 19/48] END C=0.1, max_iter=200, penalty=l2, tol=0.0001;, score=0.860 total time=   1.2s\n",
      "[CV 4/5; 19/48] START C=0.1, max_iter=200, penalty=l2, tol=0.0001...............\n",
      "[CV 4/5; 19/48] END C=0.1, max_iter=200, penalty=l2, tol=0.0001;, score=0.860 total time=   1.1s\n",
      "[CV 5/5; 19/48] START C=0.1, max_iter=200, penalty=l2, tol=0.0001...............\n",
      "[CV 5/5; 19/48] END C=0.1, max_iter=200, penalty=l2, tol=0.0001;, score=0.860 total time=   1.1s\n",
      "[CV 1/5; 20/48] START C=0.1, max_iter=200, penalty=l2, tol=0.001................\n",
      "[CV 1/5; 20/48] END C=0.1, max_iter=200, penalty=l2, tol=0.001;, score=0.859 total time=   1.1s\n",
      "[CV 2/5; 20/48] START C=0.1, max_iter=200, penalty=l2, tol=0.001................\n",
      "[CV 2/5; 20/48] END C=0.1, max_iter=200, penalty=l2, tol=0.001;, score=0.859 total time=   1.2s\n",
      "[CV 3/5; 20/48] START C=0.1, max_iter=200, penalty=l2, tol=0.001................\n",
      "[CV 3/5; 20/48] END C=0.1, max_iter=200, penalty=l2, tol=0.001;, score=0.860 total time=   1.3s\n",
      "[CV 4/5; 20/48] START C=0.1, max_iter=200, penalty=l2, tol=0.001................\n",
      "[CV 4/5; 20/48] END C=0.1, max_iter=200, penalty=l2, tol=0.001;, score=0.860 total time=   1.2s\n",
      "[CV 5/5; 20/48] START C=0.1, max_iter=200, penalty=l2, tol=0.001................\n",
      "[CV 5/5; 20/48] END C=0.1, max_iter=200, penalty=l2, tol=0.001;, score=0.860 total time=   1.1s\n",
      "[CV 1/5; 21/48] START C=0.1, max_iter=200, penalty=l2, tol=0.01.................\n",
      "[CV 1/5; 21/48] END C=0.1, max_iter=200, penalty=l2, tol=0.01;, score=0.859 total time=   1.2s\n",
      "[CV 2/5; 21/48] START C=0.1, max_iter=200, penalty=l2, tol=0.01.................\n",
      "[CV 2/5; 21/48] END C=0.1, max_iter=200, penalty=l2, tol=0.01;, score=0.859 total time=   1.2s\n",
      "[CV 3/5; 21/48] START C=0.1, max_iter=200, penalty=l2, tol=0.01.................\n",
      "[CV 3/5; 21/48] END C=0.1, max_iter=200, penalty=l2, tol=0.01;, score=0.860 total time=   1.3s\n",
      "[CV 4/5; 21/48] START C=0.1, max_iter=200, penalty=l2, tol=0.01.................\n",
      "[CV 4/5; 21/48] END C=0.1, max_iter=200, penalty=l2, tol=0.01;, score=0.860 total time=   1.2s\n",
      "[CV 5/5; 21/48] START C=0.1, max_iter=200, penalty=l2, tol=0.01.................\n",
      "[CV 5/5; 21/48] END C=0.1, max_iter=200, penalty=l2, tol=0.01;, score=0.860 total time=   1.1s\n",
      "[CV 1/5; 22/48] START C=0.1, max_iter=200, penalty=l1, tol=0.0001...............\n",
      "[CV 1/5; 22/48] END C=0.1, max_iter=200, penalty=l1, tol=0.0001;, score=nan total time=   0.1s\n",
      "[CV 2/5; 22/48] START C=0.1, max_iter=200, penalty=l1, tol=0.0001...............\n",
      "[CV 2/5; 22/48] END C=0.1, max_iter=200, penalty=l1, tol=0.0001;, score=nan total time=   0.1s\n",
      "[CV 3/5; 22/48] START C=0.1, max_iter=200, penalty=l1, tol=0.0001...............\n",
      "[CV 3/5; 22/48] END C=0.1, max_iter=200, penalty=l1, tol=0.0001;, score=nan total time=   0.1s\n",
      "[CV 4/5; 22/48] START C=0.1, max_iter=200, penalty=l1, tol=0.0001...............\n",
      "[CV 4/5; 22/48] END C=0.1, max_iter=200, penalty=l1, tol=0.0001;, score=nan total time=   0.1s\n",
      "[CV 5/5; 22/48] START C=0.1, max_iter=200, penalty=l1, tol=0.0001...............\n",
      "[CV 5/5; 22/48] END C=0.1, max_iter=200, penalty=l1, tol=0.0001;, score=nan total time=   0.1s\n",
      "[CV 1/5; 23/48] START C=0.1, max_iter=200, penalty=l1, tol=0.001................\n",
      "[CV 1/5; 23/48] END C=0.1, max_iter=200, penalty=l1, tol=0.001;, score=nan total time=   0.1s\n",
      "[CV 2/5; 23/48] START C=0.1, max_iter=200, penalty=l1, tol=0.001................\n",
      "[CV 2/5; 23/48] END C=0.1, max_iter=200, penalty=l1, tol=0.001;, score=nan total time=   0.1s\n",
      "[CV 3/5; 23/48] START C=0.1, max_iter=200, penalty=l1, tol=0.001................\n",
      "[CV 3/5; 23/48] END C=0.1, max_iter=200, penalty=l1, tol=0.001;, score=nan total time=   0.1s\n",
      "[CV 4/5; 23/48] START C=0.1, max_iter=200, penalty=l1, tol=0.001................\n",
      "[CV 4/5; 23/48] END C=0.1, max_iter=200, penalty=l1, tol=0.001;, score=nan total time=   0.1s\n",
      "[CV 5/5; 23/48] START C=0.1, max_iter=200, penalty=l1, tol=0.001................\n",
      "[CV 5/5; 23/48] END C=0.1, max_iter=200, penalty=l1, tol=0.001;, score=nan total time=   0.1s\n",
      "[CV 1/5; 24/48] START C=0.1, max_iter=200, penalty=l1, tol=0.01.................\n",
      "[CV 1/5; 24/48] END C=0.1, max_iter=200, penalty=l1, tol=0.01;, score=nan total time=   0.1s\n",
      "[CV 2/5; 24/48] START C=0.1, max_iter=200, penalty=l1, tol=0.01.................\n",
      "[CV 2/5; 24/48] END C=0.1, max_iter=200, penalty=l1, tol=0.01;, score=nan total time=   0.1s\n",
      "[CV 3/5; 24/48] START C=0.1, max_iter=200, penalty=l1, tol=0.01.................\n",
      "[CV 3/5; 24/48] END C=0.1, max_iter=200, penalty=l1, tol=0.01;, score=nan total time=   0.1s\n",
      "[CV 4/5; 24/48] START C=0.1, max_iter=200, penalty=l1, tol=0.01.................\n",
      "[CV 4/5; 24/48] END C=0.1, max_iter=200, penalty=l1, tol=0.01;, score=nan total time=   0.1s\n",
      "[CV 5/5; 24/48] START C=0.1, max_iter=200, penalty=l1, tol=0.01.................\n",
      "[CV 5/5; 24/48] END C=0.1, max_iter=200, penalty=l1, tol=0.01;, score=nan total time=   0.1s\n",
      "[CV 1/5; 25/48] START C=1.0, max_iter=100, penalty=l2, tol=0.0001...............\n",
      "[CV 1/5; 25/48] END C=1.0, max_iter=100, penalty=l2, tol=0.0001;, score=0.862 total time=   1.6s\n",
      "[CV 2/5; 25/48] START C=1.0, max_iter=100, penalty=l2, tol=0.0001...............\n",
      "[CV 2/5; 25/48] END C=1.0, max_iter=100, penalty=l2, tol=0.0001;, score=0.865 total time=   1.7s\n",
      "[CV 3/5; 25/48] START C=1.0, max_iter=100, penalty=l2, tol=0.0001...............\n",
      "[CV 3/5; 25/48] END C=1.0, max_iter=100, penalty=l2, tol=0.0001;, score=0.864 total time=   1.7s\n",
      "[CV 4/5; 25/48] START C=1.0, max_iter=100, penalty=l2, tol=0.0001...............\n",
      "[CV 4/5; 25/48] END C=1.0, max_iter=100, penalty=l2, tol=0.0001;, score=0.864 total time=   1.8s\n",
      "[CV 5/5; 25/48] START C=1.0, max_iter=100, penalty=l2, tol=0.0001...............\n",
      "[CV 5/5; 25/48] END C=1.0, max_iter=100, penalty=l2, tol=0.0001;, score=0.863 total time=   2.2s\n",
      "[CV 1/5; 26/48] START C=1.0, max_iter=100, penalty=l2, tol=0.001................\n",
      "[CV 1/5; 26/48] END C=1.0, max_iter=100, penalty=l2, tol=0.001;, score=0.862 total time=   1.8s\n",
      "[CV 2/5; 26/48] START C=1.0, max_iter=100, penalty=l2, tol=0.001................\n",
      "[CV 2/5; 26/48] END C=1.0, max_iter=100, penalty=l2, tol=0.001;, score=0.865 total time=   1.8s\n",
      "[CV 3/5; 26/48] START C=1.0, max_iter=100, penalty=l2, tol=0.001................\n",
      "[CV 3/5; 26/48] END C=1.0, max_iter=100, penalty=l2, tol=0.001;, score=0.864 total time=   1.8s\n",
      "[CV 4/5; 26/48] START C=1.0, max_iter=100, penalty=l2, tol=0.001................\n",
      "[CV 4/5; 26/48] END C=1.0, max_iter=100, penalty=l2, tol=0.001;, score=0.864 total time=   1.9s\n",
      "[CV 5/5; 26/48] START C=1.0, max_iter=100, penalty=l2, tol=0.001................\n",
      "[CV 5/5; 26/48] END C=1.0, max_iter=100, penalty=l2, tol=0.001;, score=0.863 total time=   2.2s\n",
      "[CV 1/5; 27/48] START C=1.0, max_iter=100, penalty=l2, tol=0.01.................\n",
      "[CV 1/5; 27/48] END C=1.0, max_iter=100, penalty=l2, tol=0.01;, score=0.862 total time=   1.8s\n",
      "[CV 2/5; 27/48] START C=1.0, max_iter=100, penalty=l2, tol=0.01.................\n",
      "[CV 2/5; 27/48] END C=1.0, max_iter=100, penalty=l2, tol=0.01;, score=0.865 total time=   1.8s\n",
      "[CV 3/5; 27/48] START C=1.0, max_iter=100, penalty=l2, tol=0.01.................\n",
      "[CV 3/5; 27/48] END C=1.0, max_iter=100, penalty=l2, tol=0.01;, score=0.864 total time=   1.8s\n",
      "[CV 4/5; 27/48] START C=1.0, max_iter=100, penalty=l2, tol=0.01.................\n",
      "[CV 4/5; 27/48] END C=1.0, max_iter=100, penalty=l2, tol=0.01;, score=0.864 total time=   1.9s\n",
      "[CV 5/5; 27/48] START C=1.0, max_iter=100, penalty=l2, tol=0.01.................\n",
      "[CV 5/5; 27/48] END C=1.0, max_iter=100, penalty=l2, tol=0.01;, score=0.863 total time=   2.2s\n",
      "[CV 1/5; 28/48] START C=1.0, max_iter=100, penalty=l1, tol=0.0001...............\n",
      "[CV 1/5; 28/48] END C=1.0, max_iter=100, penalty=l1, tol=0.0001;, score=nan total time=   0.1s\n",
      "[CV 2/5; 28/48] START C=1.0, max_iter=100, penalty=l1, tol=0.0001...............\n",
      "[CV 2/5; 28/48] END C=1.0, max_iter=100, penalty=l1, tol=0.0001;, score=nan total time=   0.1s\n",
      "[CV 3/5; 28/48] START C=1.0, max_iter=100, penalty=l1, tol=0.0001...............\n",
      "[CV 3/5; 28/48] END C=1.0, max_iter=100, penalty=l1, tol=0.0001;, score=nan total time=   0.1s\n",
      "[CV 4/5; 28/48] START C=1.0, max_iter=100, penalty=l1, tol=0.0001...............\n",
      "[CV 4/5; 28/48] END C=1.0, max_iter=100, penalty=l1, tol=0.0001;, score=nan total time=   0.1s\n",
      "[CV 5/5; 28/48] START C=1.0, max_iter=100, penalty=l1, tol=0.0001...............\n",
      "[CV 5/5; 28/48] END C=1.0, max_iter=100, penalty=l1, tol=0.0001;, score=nan total time=   0.1s\n",
      "[CV 1/5; 29/48] START C=1.0, max_iter=100, penalty=l1, tol=0.001................\n",
      "[CV 1/5; 29/48] END C=1.0, max_iter=100, penalty=l1, tol=0.001;, score=nan total time=   0.1s\n",
      "[CV 2/5; 29/48] START C=1.0, max_iter=100, penalty=l1, tol=0.001................\n",
      "[CV 2/5; 29/48] END C=1.0, max_iter=100, penalty=l1, tol=0.001;, score=nan total time=   0.1s\n",
      "[CV 3/5; 29/48] START C=1.0, max_iter=100, penalty=l1, tol=0.001................\n",
      "[CV 3/5; 29/48] END C=1.0, max_iter=100, penalty=l1, tol=0.001;, score=nan total time=   0.1s\n",
      "[CV 4/5; 29/48] START C=1.0, max_iter=100, penalty=l1, tol=0.001................\n",
      "[CV 4/5; 29/48] END C=1.0, max_iter=100, penalty=l1, tol=0.001;, score=nan total time=   0.1s\n",
      "[CV 5/5; 29/48] START C=1.0, max_iter=100, penalty=l1, tol=0.001................\n",
      "[CV 5/5; 29/48] END C=1.0, max_iter=100, penalty=l1, tol=0.001;, score=nan total time=   0.1s\n",
      "[CV 1/5; 30/48] START C=1.0, max_iter=100, penalty=l1, tol=0.01.................\n",
      "[CV 1/5; 30/48] END C=1.0, max_iter=100, penalty=l1, tol=0.01;, score=nan total time=   0.1s\n",
      "[CV 2/5; 30/48] START C=1.0, max_iter=100, penalty=l1, tol=0.01.................\n",
      "[CV 2/5; 30/48] END C=1.0, max_iter=100, penalty=l1, tol=0.01;, score=nan total time=   0.1s\n",
      "[CV 3/5; 30/48] START C=1.0, max_iter=100, penalty=l1, tol=0.01.................\n",
      "[CV 3/5; 30/48] END C=1.0, max_iter=100, penalty=l1, tol=0.01;, score=nan total time=   0.1s\n",
      "[CV 4/5; 30/48] START C=1.0, max_iter=100, penalty=l1, tol=0.01.................\n",
      "[CV 4/5; 30/48] END C=1.0, max_iter=100, penalty=l1, tol=0.01;, score=nan total time=   0.1s\n",
      "[CV 5/5; 30/48] START C=1.0, max_iter=100, penalty=l1, tol=0.01.................\n",
      "[CV 5/5; 30/48] END C=1.0, max_iter=100, penalty=l1, tol=0.01;, score=nan total time=   0.1s\n",
      "[CV 1/5; 31/48] START C=1.0, max_iter=200, penalty=l2, tol=0.0001...............\n",
      "[CV 1/5; 31/48] END C=1.0, max_iter=200, penalty=l2, tol=0.0001;, score=0.862 total time=   1.6s\n",
      "[CV 2/5; 31/48] START C=1.0, max_iter=200, penalty=l2, tol=0.0001...............\n",
      "[CV 2/5; 31/48] END C=1.0, max_iter=200, penalty=l2, tol=0.0001;, score=0.865 total time=   1.7s\n",
      "[CV 3/5; 31/48] START C=1.0, max_iter=200, penalty=l2, tol=0.0001...............\n",
      "[CV 3/5; 31/48] END C=1.0, max_iter=200, penalty=l2, tol=0.0001;, score=0.864 total time=   1.8s\n",
      "[CV 4/5; 31/48] START C=1.0, max_iter=200, penalty=l2, tol=0.0001...............\n",
      "[CV 4/5; 31/48] END C=1.0, max_iter=200, penalty=l2, tol=0.0001;, score=0.864 total time=   1.8s\n",
      "[CV 5/5; 31/48] START C=1.0, max_iter=200, penalty=l2, tol=0.0001...............\n",
      "[CV 5/5; 31/48] END C=1.0, max_iter=200, penalty=l2, tol=0.0001;, score=0.863 total time=   2.2s\n",
      "[CV 1/5; 32/48] START C=1.0, max_iter=200, penalty=l2, tol=0.001................\n",
      "[CV 1/5; 32/48] END C=1.0, max_iter=200, penalty=l2, tol=0.001;, score=0.862 total time=   1.8s\n",
      "[CV 2/5; 32/48] START C=1.0, max_iter=200, penalty=l2, tol=0.001................\n",
      "[CV 2/5; 32/48] END C=1.0, max_iter=200, penalty=l2, tol=0.001;, score=0.865 total time=   1.8s\n",
      "[CV 3/5; 32/48] START C=1.0, max_iter=200, penalty=l2, tol=0.001................\n",
      "[CV 3/5; 32/48] END C=1.0, max_iter=200, penalty=l2, tol=0.001;, score=0.864 total time=   1.8s\n",
      "[CV 4/5; 32/48] START C=1.0, max_iter=200, penalty=l2, tol=0.001................\n",
      "[CV 4/5; 32/48] END C=1.0, max_iter=200, penalty=l2, tol=0.001;, score=0.864 total time=   1.8s\n",
      "[CV 5/5; 32/48] START C=1.0, max_iter=200, penalty=l2, tol=0.001................\n",
      "[CV 5/5; 32/48] END C=1.0, max_iter=200, penalty=l2, tol=0.001;, score=0.863 total time=   2.3s\n",
      "[CV 1/5; 33/48] START C=1.0, max_iter=200, penalty=l2, tol=0.01.................\n",
      "[CV 1/5; 33/48] END C=1.0, max_iter=200, penalty=l2, tol=0.01;, score=0.862 total time=   1.8s\n",
      "[CV 2/5; 33/48] START C=1.0, max_iter=200, penalty=l2, tol=0.01.................\n",
      "[CV 2/5; 33/48] END C=1.0, max_iter=200, penalty=l2, tol=0.01;, score=0.865 total time=   1.8s\n",
      "[CV 3/5; 33/48] START C=1.0, max_iter=200, penalty=l2, tol=0.01.................\n",
      "[CV 3/5; 33/48] END C=1.0, max_iter=200, penalty=l2, tol=0.01;, score=0.864 total time=   1.8s\n",
      "[CV 4/5; 33/48] START C=1.0, max_iter=200, penalty=l2, tol=0.01.................\n",
      "[CV 4/5; 33/48] END C=1.0, max_iter=200, penalty=l2, tol=0.01;, score=0.864 total time=   1.8s\n",
      "[CV 5/5; 33/48] START C=1.0, max_iter=200, penalty=l2, tol=0.01.................\n",
      "[CV 5/5; 33/48] END C=1.0, max_iter=200, penalty=l2, tol=0.01;, score=0.863 total time=   2.2s\n",
      "[CV 1/5; 34/48] START C=1.0, max_iter=200, penalty=l1, tol=0.0001...............\n",
      "[CV 1/5; 34/48] END C=1.0, max_iter=200, penalty=l1, tol=0.0001;, score=nan total time=   0.1s\n",
      "[CV 2/5; 34/48] START C=1.0, max_iter=200, penalty=l1, tol=0.0001...............\n",
      "[CV 2/5; 34/48] END C=1.0, max_iter=200, penalty=l1, tol=0.0001;, score=nan total time=   0.1s\n",
      "[CV 3/5; 34/48] START C=1.0, max_iter=200, penalty=l1, tol=0.0001...............\n",
      "[CV 3/5; 34/48] END C=1.0, max_iter=200, penalty=l1, tol=0.0001;, score=nan total time=   0.1s\n",
      "[CV 4/5; 34/48] START C=1.0, max_iter=200, penalty=l1, tol=0.0001...............\n",
      "[CV 4/5; 34/48] END C=1.0, max_iter=200, penalty=l1, tol=0.0001;, score=nan total time=   0.1s\n",
      "[CV 5/5; 34/48] START C=1.0, max_iter=200, penalty=l1, tol=0.0001...............\n",
      "[CV 5/5; 34/48] END C=1.0, max_iter=200, penalty=l1, tol=0.0001;, score=nan total time=   0.1s\n",
      "[CV 1/5; 35/48] START C=1.0, max_iter=200, penalty=l1, tol=0.001................\n",
      "[CV 1/5; 35/48] END C=1.0, max_iter=200, penalty=l1, tol=0.001;, score=nan total time=   0.1s\n",
      "[CV 2/5; 35/48] START C=1.0, max_iter=200, penalty=l1, tol=0.001................\n",
      "[CV 2/5; 35/48] END C=1.0, max_iter=200, penalty=l1, tol=0.001;, score=nan total time=   0.1s\n",
      "[CV 3/5; 35/48] START C=1.0, max_iter=200, penalty=l1, tol=0.001................\n",
      "[CV 3/5; 35/48] END C=1.0, max_iter=200, penalty=l1, tol=0.001;, score=nan total time=   0.1s\n",
      "[CV 4/5; 35/48] START C=1.0, max_iter=200, penalty=l1, tol=0.001................\n",
      "[CV 4/5; 35/48] END C=1.0, max_iter=200, penalty=l1, tol=0.001;, score=nan total time=   0.1s\n",
      "[CV 5/5; 35/48] START C=1.0, max_iter=200, penalty=l1, tol=0.001................\n",
      "[CV 5/5; 35/48] END C=1.0, max_iter=200, penalty=l1, tol=0.001;, score=nan total time=   0.1s\n",
      "[CV 1/5; 36/48] START C=1.0, max_iter=200, penalty=l1, tol=0.01.................\n",
      "[CV 1/5; 36/48] END C=1.0, max_iter=200, penalty=l1, tol=0.01;, score=nan total time=   0.1s\n",
      "[CV 2/5; 36/48] START C=1.0, max_iter=200, penalty=l1, tol=0.01.................\n",
      "[CV 2/5; 36/48] END C=1.0, max_iter=200, penalty=l1, tol=0.01;, score=nan total time=   0.1s\n",
      "[CV 3/5; 36/48] START C=1.0, max_iter=200, penalty=l1, tol=0.01.................\n",
      "[CV 3/5; 36/48] END C=1.0, max_iter=200, penalty=l1, tol=0.01;, score=nan total time=   0.1s\n",
      "[CV 4/5; 36/48] START C=1.0, max_iter=200, penalty=l1, tol=0.01.................\n",
      "[CV 4/5; 36/48] END C=1.0, max_iter=200, penalty=l1, tol=0.01;, score=nan total time=   0.1s\n",
      "[CV 5/5; 36/48] START C=1.0, max_iter=200, penalty=l1, tol=0.01.................\n",
      "[CV 5/5; 36/48] END C=1.0, max_iter=200, penalty=l1, tol=0.01;, score=nan total time=   0.1s\n",
      "[CV 1/5; 37/48] START C=10, max_iter=100, penalty=l2, tol=0.0001................\n",
      "[CV 1/5; 37/48] END C=10, max_iter=100, penalty=l2, tol=0.0001;, score=0.862 total time=   3.1s\n",
      "[CV 2/5; 37/48] START C=10, max_iter=100, penalty=l2, tol=0.0001................\n",
      "[CV 2/5; 37/48] END C=10, max_iter=100, penalty=l2, tol=0.0001;, score=0.864 total time=   4.4s\n",
      "[CV 3/5; 37/48] START C=10, max_iter=100, penalty=l2, tol=0.0001................\n",
      "[CV 3/5; 37/48] END C=10, max_iter=100, penalty=l2, tol=0.0001;, score=0.864 total time=   3.7s\n",
      "[CV 4/5; 37/48] START C=10, max_iter=100, penalty=l2, tol=0.0001................\n",
      "[CV 4/5; 37/48] END C=10, max_iter=100, penalty=l2, tol=0.0001;, score=0.865 total time=   4.0s\n",
      "[CV 5/5; 37/48] START C=10, max_iter=100, penalty=l2, tol=0.0001................\n",
      "[CV 5/5; 37/48] END C=10, max_iter=100, penalty=l2, tol=0.0001;, score=0.865 total time=   3.9s\n",
      "[CV 1/5; 38/48] START C=10, max_iter=100, penalty=l2, tol=0.001.................\n",
      "[CV 1/5; 38/48] END C=10, max_iter=100, penalty=l2, tol=0.001;, score=0.862 total time=   3.4s\n",
      "[CV 2/5; 38/48] START C=10, max_iter=100, penalty=l2, tol=0.001.................\n",
      "[CV 2/5; 38/48] END C=10, max_iter=100, penalty=l2, tol=0.001;, score=0.864 total time=   4.7s\n",
      "[CV 3/5; 38/48] START C=10, max_iter=100, penalty=l2, tol=0.001.................\n",
      "[CV 3/5; 38/48] END C=10, max_iter=100, penalty=l2, tol=0.001;, score=0.864 total time=   3.8s\n",
      "[CV 4/5; 38/48] START C=10, max_iter=100, penalty=l2, tol=0.001.................\n",
      "[CV 4/5; 38/48] END C=10, max_iter=100, penalty=l2, tol=0.001;, score=0.865 total time=   4.0s\n",
      "[CV 5/5; 38/48] START C=10, max_iter=100, penalty=l2, tol=0.001.................\n",
      "[CV 5/5; 38/48] END C=10, max_iter=100, penalty=l2, tol=0.001;, score=0.865 total time=   3.9s\n",
      "[CV 1/5; 39/48] START C=10, max_iter=100, penalty=l2, tol=0.01..................\n",
      "[CV 1/5; 39/48] END C=10, max_iter=100, penalty=l2, tol=0.01;, score=0.862 total time=   3.4s\n",
      "[CV 2/5; 39/48] START C=10, max_iter=100, penalty=l2, tol=0.01..................\n",
      "[CV 2/5; 39/48] END C=10, max_iter=100, penalty=l2, tol=0.01;, score=0.864 total time=   4.7s\n",
      "[CV 3/5; 39/48] START C=10, max_iter=100, penalty=l2, tol=0.01..................\n",
      "[CV 3/5; 39/48] END C=10, max_iter=100, penalty=l2, tol=0.01;, score=0.864 total time=   4.0s\n",
      "[CV 4/5; 39/48] START C=10, max_iter=100, penalty=l2, tol=0.01..................\n",
      "[CV 4/5; 39/48] END C=10, max_iter=100, penalty=l2, tol=0.01;, score=0.865 total time=   4.2s\n",
      "[CV 5/5; 39/48] START C=10, max_iter=100, penalty=l2, tol=0.01..................\n",
      "[CV 5/5; 39/48] END C=10, max_iter=100, penalty=l2, tol=0.01;, score=0.865 total time=   4.0s\n",
      "[CV 1/5; 40/48] START C=10, max_iter=100, penalty=l1, tol=0.0001................\n",
      "[CV 1/5; 40/48] END C=10, max_iter=100, penalty=l1, tol=0.0001;, score=nan total time=   0.1s\n",
      "[CV 2/5; 40/48] START C=10, max_iter=100, penalty=l1, tol=0.0001................\n",
      "[CV 2/5; 40/48] END C=10, max_iter=100, penalty=l1, tol=0.0001;, score=nan total time=   0.1s\n",
      "[CV 3/5; 40/48] START C=10, max_iter=100, penalty=l1, tol=0.0001................\n",
      "[CV 3/5; 40/48] END C=10, max_iter=100, penalty=l1, tol=0.0001;, score=nan total time=   0.1s\n",
      "[CV 4/5; 40/48] START C=10, max_iter=100, penalty=l1, tol=0.0001................\n",
      "[CV 4/5; 40/48] END C=10, max_iter=100, penalty=l1, tol=0.0001;, score=nan total time=   0.1s\n",
      "[CV 5/5; 40/48] START C=10, max_iter=100, penalty=l1, tol=0.0001................\n",
      "[CV 5/5; 40/48] END C=10, max_iter=100, penalty=l1, tol=0.0001;, score=nan total time=   0.1s\n",
      "[CV 1/5; 41/48] START C=10, max_iter=100, penalty=l1, tol=0.001.................\n",
      "[CV 1/5; 41/48] END C=10, max_iter=100, penalty=l1, tol=0.001;, score=nan total time=   0.1s\n",
      "[CV 2/5; 41/48] START C=10, max_iter=100, penalty=l1, tol=0.001.................\n",
      "[CV 2/5; 41/48] END C=10, max_iter=100, penalty=l1, tol=0.001;, score=nan total time=   0.1s\n",
      "[CV 3/5; 41/48] START C=10, max_iter=100, penalty=l1, tol=0.001.................\n",
      "[CV 3/5; 41/48] END C=10, max_iter=100, penalty=l1, tol=0.001;, score=nan total time=   0.1s\n",
      "[CV 4/5; 41/48] START C=10, max_iter=100, penalty=l1, tol=0.001.................\n",
      "[CV 4/5; 41/48] END C=10, max_iter=100, penalty=l1, tol=0.001;, score=nan total time=   0.1s\n",
      "[CV 5/5; 41/48] START C=10, max_iter=100, penalty=l1, tol=0.001.................\n",
      "[CV 5/5; 41/48] END C=10, max_iter=100, penalty=l1, tol=0.001;, score=nan total time=   0.1s\n",
      "[CV 1/5; 42/48] START C=10, max_iter=100, penalty=l1, tol=0.01..................\n",
      "[CV 1/5; 42/48] END C=10, max_iter=100, penalty=l1, tol=0.01;, score=nan total time=   0.1s\n",
      "[CV 2/5; 42/48] START C=10, max_iter=100, penalty=l1, tol=0.01..................\n",
      "[CV 2/5; 42/48] END C=10, max_iter=100, penalty=l1, tol=0.01;, score=nan total time=   0.1s\n",
      "[CV 3/5; 42/48] START C=10, max_iter=100, penalty=l1, tol=0.01..................\n",
      "[CV 3/5; 42/48] END C=10, max_iter=100, penalty=l1, tol=0.01;, score=nan total time=   0.1s\n",
      "[CV 4/5; 42/48] START C=10, max_iter=100, penalty=l1, tol=0.01..................\n",
      "[CV 4/5; 42/48] END C=10, max_iter=100, penalty=l1, tol=0.01;, score=nan total time=   0.1s\n",
      "[CV 5/5; 42/48] START C=10, max_iter=100, penalty=l1, tol=0.01..................\n",
      "[CV 5/5; 42/48] END C=10, max_iter=100, penalty=l1, tol=0.01;, score=nan total time=   0.1s\n",
      "[CV 1/5; 43/48] START C=10, max_iter=200, penalty=l2, tol=0.0001................\n",
      "[CV 1/5; 43/48] END C=10, max_iter=200, penalty=l2, tol=0.0001;, score=0.862 total time=   3.2s\n",
      "[CV 2/5; 43/48] START C=10, max_iter=200, penalty=l2, tol=0.0001................\n",
      "[CV 2/5; 43/48] END C=10, max_iter=200, penalty=l2, tol=0.0001;, score=0.864 total time=   4.8s\n",
      "[CV 3/5; 43/48] START C=10, max_iter=200, penalty=l2, tol=0.0001................\n",
      "[CV 3/5; 43/48] END C=10, max_iter=200, penalty=l2, tol=0.0001;, score=0.864 total time=   3.9s\n",
      "[CV 4/5; 43/48] START C=10, max_iter=200, penalty=l2, tol=0.0001................\n",
      "[CV 4/5; 43/48] END C=10, max_iter=200, penalty=l2, tol=0.0001;, score=0.865 total time=   4.2s\n",
      "[CV 5/5; 43/48] START C=10, max_iter=200, penalty=l2, tol=0.0001................\n",
      "[CV 5/5; 43/48] END C=10, max_iter=200, penalty=l2, tol=0.0001;, score=0.865 total time=   3.9s\n",
      "[CV 1/5; 44/48] START C=10, max_iter=200, penalty=l2, tol=0.001.................\n",
      "[CV 1/5; 44/48] END C=10, max_iter=200, penalty=l2, tol=0.001;, score=0.862 total time=   3.5s\n",
      "[CV 2/5; 44/48] START C=10, max_iter=200, penalty=l2, tol=0.001.................\n",
      "[CV 2/5; 44/48] END C=10, max_iter=200, penalty=l2, tol=0.001;, score=0.864 total time=   4.9s\n",
      "[CV 3/5; 44/48] START C=10, max_iter=200, penalty=l2, tol=0.001.................\n",
      "[CV 3/5; 44/48] END C=10, max_iter=200, penalty=l2, tol=0.001;, score=0.864 total time=   3.8s\n",
      "[CV 4/5; 44/48] START C=10, max_iter=200, penalty=l2, tol=0.001.................\n",
      "[CV 4/5; 44/48] END C=10, max_iter=200, penalty=l2, tol=0.001;, score=0.865 total time=   4.2s\n",
      "[CV 5/5; 44/48] START C=10, max_iter=200, penalty=l2, tol=0.001.................\n",
      "[CV 5/5; 44/48] END C=10, max_iter=200, penalty=l2, tol=0.001;, score=0.865 total time=   4.5s\n",
      "[CV 1/5; 45/48] START C=10, max_iter=200, penalty=l2, tol=0.01..................\n",
      "[CV 1/5; 45/48] END C=10, max_iter=200, penalty=l2, tol=0.01;, score=0.862 total time=   3.5s\n",
      "[CV 2/5; 45/48] START C=10, max_iter=200, penalty=l2, tol=0.01..................\n",
      "[CV 2/5; 45/48] END C=10, max_iter=200, penalty=l2, tol=0.01;, score=0.864 total time=   5.3s\n",
      "[CV 3/5; 45/48] START C=10, max_iter=200, penalty=l2, tol=0.01..................\n",
      "[CV 3/5; 45/48] END C=10, max_iter=200, penalty=l2, tol=0.01;, score=0.864 total time=   4.2s\n",
      "[CV 4/5; 45/48] START C=10, max_iter=200, penalty=l2, tol=0.01..................\n",
      "[CV 4/5; 45/48] END C=10, max_iter=200, penalty=l2, tol=0.01;, score=0.865 total time=   4.5s\n",
      "[CV 5/5; 45/48] START C=10, max_iter=200, penalty=l2, tol=0.01..................\n",
      "[CV 5/5; 45/48] END C=10, max_iter=200, penalty=l2, tol=0.01;, score=0.865 total time=   4.2s\n",
      "[CV 1/5; 46/48] START C=10, max_iter=200, penalty=l1, tol=0.0001................\n",
      "[CV 1/5; 46/48] END C=10, max_iter=200, penalty=l1, tol=0.0001;, score=nan total time=   0.1s\n",
      "[CV 2/5; 46/48] START C=10, max_iter=200, penalty=l1, tol=0.0001................\n",
      "[CV 2/5; 46/48] END C=10, max_iter=200, penalty=l1, tol=0.0001;, score=nan total time=   0.1s\n",
      "[CV 3/5; 46/48] START C=10, max_iter=200, penalty=l1, tol=0.0001................\n",
      "[CV 3/5; 46/48] END C=10, max_iter=200, penalty=l1, tol=0.0001;, score=nan total time=   0.1s\n",
      "[CV 4/5; 46/48] START C=10, max_iter=200, penalty=l1, tol=0.0001................\n",
      "[CV 4/5; 46/48] END C=10, max_iter=200, penalty=l1, tol=0.0001;, score=nan total time=   0.1s\n",
      "[CV 5/5; 46/48] START C=10, max_iter=200, penalty=l1, tol=0.0001................\n",
      "[CV 5/5; 46/48] END C=10, max_iter=200, penalty=l1, tol=0.0001;, score=nan total time=   0.1s\n",
      "[CV 1/5; 47/48] START C=10, max_iter=200, penalty=l1, tol=0.001.................\n",
      "[CV 1/5; 47/48] END C=10, max_iter=200, penalty=l1, tol=0.001;, score=nan total time=   0.1s\n",
      "[CV 2/5; 47/48] START C=10, max_iter=200, penalty=l1, tol=0.001.................\n",
      "[CV 2/5; 47/48] END C=10, max_iter=200, penalty=l1, tol=0.001;, score=nan total time=   0.1s\n",
      "[CV 3/5; 47/48] START C=10, max_iter=200, penalty=l1, tol=0.001.................\n",
      "[CV 3/5; 47/48] END C=10, max_iter=200, penalty=l1, tol=0.001;, score=nan total time=   0.1s\n",
      "[CV 4/5; 47/48] START C=10, max_iter=200, penalty=l1, tol=0.001.................\n",
      "[CV 4/5; 47/48] END C=10, max_iter=200, penalty=l1, tol=0.001;, score=nan total time=   0.2s\n",
      "[CV 5/5; 47/48] START C=10, max_iter=200, penalty=l1, tol=0.001.................\n",
      "[CV 5/5; 47/48] END C=10, max_iter=200, penalty=l1, tol=0.001;, score=nan total time=   0.1s\n",
      "[CV 1/5; 48/48] START C=10, max_iter=200, penalty=l1, tol=0.01..................\n",
      "[CV 1/5; 48/48] END C=10, max_iter=200, penalty=l1, tol=0.01;, score=nan total time=   0.1s\n",
      "[CV 2/5; 48/48] START C=10, max_iter=200, penalty=l1, tol=0.01..................\n",
      "[CV 2/5; 48/48] END C=10, max_iter=200, penalty=l1, tol=0.01;, score=nan total time=   0.1s\n",
      "[CV 3/5; 48/48] START C=10, max_iter=200, penalty=l1, tol=0.01..................\n",
      "[CV 3/5; 48/48] END C=10, max_iter=200, penalty=l1, tol=0.01;, score=nan total time=   0.1s\n",
      "[CV 4/5; 48/48] START C=10, max_iter=200, penalty=l1, tol=0.01..................\n",
      "[CV 4/5; 48/48] END C=10, max_iter=200, penalty=l1, tol=0.01;, score=nan total time=   0.1s\n",
      "[CV 5/5; 48/48] START C=10, max_iter=200, penalty=l1, tol=0.01..................\n",
      "[CV 5/5; 48/48] END C=10, max_iter=200, penalty=l1, tol=0.01;, score=nan total time=   0.1s\n",
      "Best Score {0.8640119047619048}\n",
      "Best hyperparameter set:\n",
      "\tC: 10\n",
      "\tmax_iter: 200\n",
      "\tpenalty: l2\n",
      "\ttol: 0.0001\n",
      "CPU times: total: 3min 50s\n",
      "Wall time: 4min 40s\n"
     ]
    }
   ],
   "source": [
    "%%time\n",
    "param_gd={\"penalty\":[\"l2\",\"l1\"],\n",
    "         \"C\":[0.01,0.1,1.0,10],\n",
    "         \"tol\":[0.0001,0.001,0.01],\n",
    "         \"max_iter\":[100,200]}\n",
    "model_7, best_param = hyperparamtune(LogisticRegression(),param_gd,\"accuracy\",10,5)"
   ]
  },
  {
   "cell_type": "code",
   "execution_count": 62,
   "id": "07f2a0d2-c4ea-4c39-8782-7be98f0ed142",
   "metadata": {},
   "outputs": [
    {
     "name": "stdout",
     "output_type": "stream",
     "text": [
      "Precision Score on training dateset for Finetuned Logsitic Regression Classifier: 0.8704880952380952\n",
      "AUC Score on training dateset for Finetuned Logsitic Regression Classifier: 0.9436236274177222\n",
      "F1 Score training dateset for Finetuned Logsitic Regression Classifier: 0.8704818906176937\n",
      "Precision Score on test for Finetuned Logsitic Regression Classifier: 0.8641388888888889\n",
      "AUC Score on test for Finetuned Logsitic Regression Classifier: 0.9384094622908478\n",
      "F1 Score for Finetuned Logsitic Regression Classifier: 0.8641415490213147\n",
      "CPU times: total: 1.14 s\n",
      "Wall time: 2.15 s\n"
     ]
    }
   ],
   "source": [
    "%%time\n",
    "print(\"Precision Score on training dateset for Finetuned Logsitic Regression Classifier: %s\" % precision_score(y_train,model_7.predict(x_train_tfidf),average='micro'))\n",
    "print(\"AUC Score on training dateset for Finetuned Logsitic Regression Classifier: %s\" % roc_auc_score(y_train,model_7.predict_proba(x_train_tfidf)[:,1],multi_class='ovo',average='macro'))\n",
    "f1_score_train_7 =f1_score(y_train,model_7.predict(x_train_tfidf),average=\"weighted\")\n",
    "print(\"F1 Score training dateset for Finetuned Logsitic Regression Classifier: %s\" % f1_score_train_7)\n",
    "print(\"Precision Score on test for Finetuned Logsitic Regression Classifier: %s\" % precision_score(y_test,model_7.predict(x_test_tfidf),average='micro'))\n",
    "print(\"AUC Score on test for Finetuned Logsitic Regression Classifier: %s\" % roc_auc_score(y_test,model_7.predict_proba(x_test_tfidf)[:,1],multi_class='ovo',average='macro'))\n",
    "f1_score_7 =f1_score(y_test,model_7.predict(x_test_tfidf),average=\"weighted\")\n",
    "print(\"F1 Score for Finetuned Logsitic Regression Classifier: %s\" % f1_score_7)"
   ]
  },
  {
   "cell_type": "markdown",
   "id": "a8b24a96-7ecf-4f74-b792-14e440933ab6",
   "metadata": {},
   "source": [
    "### 2. Hyperparameter Tunning for Random Forest Classifiera"
   ]
  },
  {
   "cell_type": "code",
   "execution_count": null,
   "id": "f21b5a2a-d4c3-4caf-ad64-48f07f414796",
   "metadata": {},
   "outputs": [
    {
     "name": "stdout",
     "output_type": "stream",
     "text": [
      "Fitting 5 folds for each of 360 candidates, totalling 1800 fits\n",
      "[CV 1/5; 1/360] START criterion=gini, max_depth=11, max_features=sqrt, min_samples_leaf=3, min_samples_split=3, n_estimators=100\n",
      "[CV 1/5; 1/360] END criterion=gini, max_depth=11, max_features=sqrt, min_samples_leaf=3, min_samples_split=3, n_estimators=100;, score=0.804 total time=  41.7s\n",
      "[CV 2/5; 1/360] START criterion=gini, max_depth=11, max_features=sqrt, min_samples_leaf=3, min_samples_split=3, n_estimators=100\n",
      "[CV 2/5; 1/360] END criterion=gini, max_depth=11, max_features=sqrt, min_samples_leaf=3, min_samples_split=3, n_estimators=100;, score=0.807 total time=  44.2s\n",
      "[CV 3/5; 1/360] START criterion=gini, max_depth=11, max_features=sqrt, min_samples_leaf=3, min_samples_split=3, n_estimators=100\n",
      "[CV 3/5; 1/360] END criterion=gini, max_depth=11, max_features=sqrt, min_samples_leaf=3, min_samples_split=3, n_estimators=100;, score=0.805 total time=  44.0s\n",
      "[CV 4/5; 1/360] START criterion=gini, max_depth=11, max_features=sqrt, min_samples_leaf=3, min_samples_split=3, n_estimators=100\n",
      "[CV 4/5; 1/360] END criterion=gini, max_depth=11, max_features=sqrt, min_samples_leaf=3, min_samples_split=3, n_estimators=100;, score=0.802 total time=  44.8s\n",
      "[CV 5/5; 1/360] START criterion=gini, max_depth=11, max_features=sqrt, min_samples_leaf=3, min_samples_split=3, n_estimators=100\n",
      "[CV 5/5; 1/360] END criterion=gini, max_depth=11, max_features=sqrt, min_samples_leaf=3, min_samples_split=3, n_estimators=100;, score=0.795 total time=  42.9s\n",
      "[CV 1/5; 2/360] START criterion=gini, max_depth=11, max_features=sqrt, min_samples_leaf=3, min_samples_split=3, n_estimators=200\n"
     ]
    }
   ],
   "source": [
    "%%time\n",
    "#Define grid of hyper parameters\n",
    "param_gd={\"n_estimators\":[100,200,300],\n",
    "         \"max_depth\":[11,13,17,19,23],\n",
    "         \"criterion\":[\"gini\",\"entropy\"],\n",
    "         \"min_samples_split\":[3,7,11],\n",
    "         \"min_samples_leaf\":[3,5],\n",
    "         \"max_features\":[\"sqrt\", \"log2\"]}\n",
    "\n",
    "model_8, best_param_8 = hyperparamtune(RandomForestClassifier(),param_gd,\"accuracy\",10,5)\n",
    "\n",
    "\n",
    "%%time\n",
    "print(\"Precision Score on training dateset for Finetuned Random Forest Classifier: %s\" % precision_score(y_train,model_8.predict(x_train_tfidf),average='micro'))\n",
    "print(\"AUC Score on training dateset for Finetuned Random Forest Classifier: %s\" % roc_auc_score(y_train,model_8.predict_proba(x_train_tfidf)[:,1],multi_class='ovo',average='macro'))\n",
    "f1_score_train_8 =f1_score(y_train,model_8.predict(x_train_tfidf),average=\"weighted\")\n",
    "print(\"F1 Score training dateset for Finetuned Random Forest Classifier: %s\" % f1_score_train_8)\n",
    "print(\"Precision Score on test for Finetuned Random Forest Classifier: %s\" % precision_score(y_test,model_8.predict(x_test_tfidf),average='micro'))\n",
    "print(\"AUC Score on test for Finetuned Random Forest Classifier: %s\" % roc_auc_score(y_test,model_8.predict_proba(x_test_tfidf)[:,1],multi_class='ovo',average='macro'))\n",
    "f1_score_8 =f1_score(y_test,model_8.predict(x_test_tfidf),average=\"weighted\")\n",
    "print(\"F1 Score for Finetuned Random Forest Classifier: %s\" % f1_score_8)"
   ]
  },
  {
   "cell_type": "code",
   "execution_count": null,
   "id": "64ab486e-1d24-4716-978e-6b0b9f0fb6f6",
   "metadata": {},
   "outputs": [],
   "source": []
  },
  {
   "cell_type": "markdown",
   "id": "62c9d857-3c53-4e88-9baf-c7362b9a13a3",
   "metadata": {},
   "source": [
    "### similar for random and adaboost"
   ]
  },
  {
   "cell_type": "code",
   "execution_count": null,
   "id": "6836cc6a-12c3-45a5-a4e1-0ca8e58dc4ae",
   "metadata": {},
   "outputs": [],
   "source": []
  },
  {
   "cell_type": "code",
   "execution_count": null,
   "id": "1c239e40-0cce-4cd1-8723-2c99dce21752",
   "metadata": {},
   "outputs": [],
   "source": []
  },
  {
   "cell_type": "code",
   "execution_count": null,
   "id": "fd4608c6-ebcd-45ba-925f-9fb7890b73c1",
   "metadata": {},
   "outputs": [],
   "source": []
  },
  {
   "cell_type": "code",
   "execution_count": null,
   "id": "20e590ef-8623-4ea1-a63e-8d3cff6eb5e2",
   "metadata": {},
   "outputs": [],
   "source": []
  },
  {
   "cell_type": "code",
   "execution_count": null,
   "id": "955ccb90-7c40-4f29-8f6a-632b38dc1d28",
   "metadata": {},
   "outputs": [],
   "source": []
  },
  {
   "cell_type": "code",
   "execution_count": null,
   "id": "c9054a15-af56-47b6-b5f9-12e3dd133d36",
   "metadata": {},
   "outputs": [],
   "source": []
  }
 ],
 "metadata": {
  "kernelspec": {
   "display_name": "Python 3 (ipykernel)",
   "language": "python",
   "name": "python3"
  },
  "language_info": {
   "codemirror_mode": {
    "name": "ipython",
    "version": 3
   },
   "file_extension": ".py",
   "mimetype": "text/x-python",
   "name": "python",
   "nbconvert_exporter": "python",
   "pygments_lexer": "ipython3",
   "version": "3.11.4"
  }
 },
 "nbformat": 4,
 "nbformat_minor": 5
}
