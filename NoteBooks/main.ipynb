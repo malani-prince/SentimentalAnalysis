{
 "cells": [
  {
   "cell_type": "code",
   "execution_count": 2,
   "id": "6276763b-2b7b-461a-a01c-598257af25fe",
   "metadata": {},
   "outputs": [
    {
     "name": "stdout",
     "output_type": "stream",
     "text": [
      "Collecting wordcloud\n",
      "  Downloading wordcloud-1.9.2-cp311-cp311-win_amd64.whl.metadata (3.4 kB)\n",
      "Requirement already satisfied: numpy>=1.6.1 in c:\\users\\malan\\appdata\\local\\programs\\python\\python311\\lib\\site-packages (from wordcloud) (1.25.2)\n",
      "Requirement already satisfied: pillow in c:\\users\\malan\\appdata\\local\\programs\\python\\python311\\lib\\site-packages (from wordcloud) (10.0.0)\n",
      "Requirement already satisfied: matplotlib in c:\\users\\malan\\appdata\\local\\programs\\python\\python311\\lib\\site-packages (from wordcloud) (3.7.2)\n",
      "Requirement already satisfied: contourpy>=1.0.1 in c:\\users\\malan\\appdata\\local\\programs\\python\\python311\\lib\\site-packages (from matplotlib->wordcloud) (1.1.0)\n",
      "Requirement already satisfied: cycler>=0.10 in c:\\users\\malan\\appdata\\local\\programs\\python\\python311\\lib\\site-packages (from matplotlib->wordcloud) (0.11.0)\n",
      "Requirement already satisfied: fonttools>=4.22.0 in c:\\users\\malan\\appdata\\local\\programs\\python\\python311\\lib\\site-packages (from matplotlib->wordcloud) (4.42.0)\n",
      "Requirement already satisfied: kiwisolver>=1.0.1 in c:\\users\\malan\\appdata\\local\\programs\\python\\python311\\lib\\site-packages (from matplotlib->wordcloud) (1.4.4)\n",
      "Requirement already satisfied: packaging>=20.0 in c:\\users\\malan\\appdata\\local\\programs\\python\\python311\\lib\\site-packages (from matplotlib->wordcloud) (23.1)\n",
      "Requirement already satisfied: pyparsing<3.1,>=2.3.1 in c:\\users\\malan\\appdata\\local\\programs\\python\\python311\\lib\\site-packages (from matplotlib->wordcloud) (3.0.9)\n",
      "Requirement already satisfied: python-dateutil>=2.7 in c:\\users\\malan\\appdata\\local\\programs\\python\\python311\\lib\\site-packages (from matplotlib->wordcloud) (2.8.2)\n",
      "Requirement already satisfied: six>=1.5 in c:\\users\\malan\\appdata\\local\\programs\\python\\python311\\lib\\site-packages (from python-dateutil>=2.7->matplotlib->wordcloud) (1.16.0)\n",
      "Downloading wordcloud-1.9.2-cp311-cp311-win_amd64.whl (151 kB)\n",
      "   ---------------------------------------- 0.0/151.4 kB ? eta -:--:--\n",
      "   ---------------- ----------------------- 61.4/151.4 kB 1.7 MB/s eta 0:00:01\n",
      "   ---------------------------------------- 151.4/151.4 kB 1.5 MB/s eta 0:00:00\n",
      "Installing collected packages: wordcloud\n",
      "Successfully installed wordcloud-1.9.2\n"
     ]
    },
    {
     "name": "stderr",
     "output_type": "stream",
     "text": [
      "\n",
      "[notice] A new release of pip is available: 23.3 -> 23.3.1\n",
      "[notice] To update, run: python.exe -m pip install --upgrade pip\n"
     ]
    }
   ],
   "source": [
    "!pip install wordcloud"
   ]
  },
  {
   "cell_type": "code",
   "execution_count": 3,
   "id": "92916e21-a6a9-44ec-aaa7-7e40f969d819",
   "metadata": {},
   "outputs": [],
   "source": [
    "import numpy as np\n",
    "import pandas as pd\n",
    "import seaborn as sns\n",
    "import matplotlib.pyplot as plt\n",
    "from sklearn.tree import DecisionTreeClassifier\n",
    "from sklearn.ensemble import AdaBoostClassifier\n",
    "from sklearn.metrics import classification_report, confusion_matrix, f1_score, roc_auc_score, precision_score, recall_score, accuracy_score,precision_recall_curve\n",
    "from sklearn.pipeline import make_pipeline\n",
    "from sklearn.pipeline import Pipeline\n",
    "import plotly.express as px\n",
    "from sklearn.feature_extraction.text import CountVectorizer\n",
    "from wordcloud import WordCloud,STOPWORDS\n",
    "from nltk.stem import WordNetLemmatizer\n",
    "from nltk.tokenize import word_tokenize\n",
    "import string\n",
    "import unicodedata\n",
    "from sklearn.model_selection import train_test_split\n",
    "from string import punctuation\n",
    "from nltk import pos_tag\n",
    "from sklearn.feature_extraction.text import CountVectorizer, TfidfVectorizer\n",
    "from sklearn.model_selection import train_test_split\n",
    "from sklearn.linear_model import LogisticRegression\n",
    "from sklearn.ensemble import RandomForestClassifier\n",
    "import pandas as pd\n",
    "from prettytable import PrettyTable\n",
    "from nltk.corpus import wordnet\n",
    "import sys\n",
    "import os\n",
    "import re\n",
    "import warnings\n",
    "warnings.filterwarnings('ignore')"
   ]
  },
  {
   "cell_type": "code",
   "execution_count": 4,
   "id": "e6cd383d-3631-48a9-a458-3a5bf9f493c1",
   "metadata": {},
   "outputs": [],
   "source": [
    "df = pd.read_csv('IMDB-Dataset-65k-movie-review.csv')"
   ]
  },
  {
   "cell_type": "code",
   "execution_count": 5,
   "id": "792185c3-515d-4a74-a0cf-9363886d49fa",
   "metadata": {},
   "outputs": [
    {
     "name": "stdout",
     "output_type": "stream",
     "text": [
      "{\"didn't\", 'been', 'further', \"you're\", \"doesn't\", 'wasn', 'yours', 'about', 'd', 'any', 'them', 'own', 'are', 'was', \"weren't\", 'until', 'itself', 'between', 'she', 'don', \"mightn't\", 'more', 'aren', 'hasn', 'so', 'isn', 're', 'why', 'its', 'll', 'such', \"shan't\", 'had', 'than', 'the', \"hadn't\", 'he', 'through', 'out', \"needn't\", 'whom', 'your', 'were', \"she's\", \"haven't\", 'shan', \"couldn't\", 'below', 'each', \"you'll\", 'of', 'both', 'into', 's', 'ma', 'myself', 'an', 'other', 'now', 'did', 'how', 'those', 'i', 'o', 'just', 'his', \"wasn't\", 'ourselves', 'might', 'here', 'herself', 'up', 'as', \"shouldn't\", 'theirs', 'you', 'her', 'it', 'if', 'after', 'what', 'by', 'yourselves', 'too', 'who', 'their', 'me', 'very', 'and', 'or', 'over', 'then', 'have', \"don't\", \"mustn't\", \"wouldn't\", 'be', 'some', 'didn', 'while', 'same', 'but', 'before', 'doing', \"aren't\", 'again', 'm', 'against', 'above', \"isn't\", 'has', 'him', 'mightn', 'this', \"you've\", 'ours', 'these', 'there', 'hers', 'only', 've', 'on', 'would', 'nor', 'is', 'ain', 'am', \"that'll\", 'we', 'most', 'our', 'does', 'a', 'for', 'off', 'to', 'mustn', 'once', 'where', \"it's\", 'weren', 'should', 'they', 'will', 'that', 'my', 'at', 'few', \"won't\", 'shall', 'because', 'no', 'wouldn', 'shouldn', 'can', 'from', 'when', 'all', 'y', 'needn', \"you'd\", 'himself', 'could', \"hasn't\", 'couldn', 'yourself', \"should've\", 'down', 'under', 'which', 'with', 'haven', 'won', 'in', 'being', 'having', 'hadn', 'do', 'during', 'doesn', 'themselves', 't'}\n"
     ]
    }
   ],
   "source": [
    "#Customize stopword as per data\n",
    "from nltk.corpus import stopwords\n",
    "stop_words = stopwords.words('english')\n",
    "new_stopwords = [\"would\",\"shall\",\"could\",\"might\"]\n",
    "stop_words.extend(new_stopwords)\n",
    "stop_words.remove(\"not\")\n",
    "stop_words=set(stop_words)\n",
    "print(stop_words)"
   ]
  },
  {
   "cell_type": "code",
   "execution_count": 6,
   "id": "a4f10b59-5f88-4e4e-b7f5-d72fcd7b9cf7",
   "metadata": {},
   "outputs": [
    {
     "data": {
      "text/plain": [
       "'*Disclaimer: I only watched this movie as a conditional agreement. And I see films for free. I wouldn\\'t be caught dead giving my hard earned money to these idiots.Well, to explain the depth of this \\'film\\', I could write my shortest review, ever. Don\\'t see this movie. It is by far the stupidest, lamest, most lazy, and unbelievably UNFUNNY movie I have ever seen. It is a total disaster. But since my hatred for this movie, and the others like it, extends far beyond one viewing, I think I\\'ll go on for a bit.I don\\'t know any of the people in the movie besides Carmen Electra, Vanessa Minnillo, and Kim Kardashian, but it doesn\\'t matter. They\\'re all horrible, though I think that was the point. The editing is flat out horrible, and possibly blatant continuity errors make this crapfast even crappier than I thought it would be. Now I know that these films are not supposed to be serious at all, but come on, it\\'s film-making 101 that if someone gets a minor facial cut, it should be there in the next shot. AND, if someone gets cut by a sword, there should be blood and at least a cut (though since the Narnia films \"get away with it\", I\\'ll give Disaster Movie a pass here).The \\'jokes\\' are thoughtless and mindless physical gags that obviously take after some of the most popular movies of the last year (there\\'s some from late 2007 as well, including 2 of our 5 Best Picture nominees).You know what the saddest thing about these stupid movies are? I don\\'t care how much money they make, or how many cameos they have, these sorry ass excuses for films are taking away jobs from actors, writers, and directors that truly deserve the attention. Lionsgate, I thought you had better taste than this. You should be ashamed of yourselves for making this kind of crap. And as for Jason Friedberg and Aaron Seltzer? Burn in hell. You guys are contributing to the decline of western civilization. Correction...you are the CAUSE of the downfall of western civilization.'"
      ]
     },
     "execution_count": 6,
     "metadata": {},
     "output_type": "execute_result"
    }
   ],
   "source": [
    "df['Reviews'][0]"
   ]
  },
  {
   "cell_type": "code",
   "execution_count": null,
   "id": "45ac4e1e-b68f-4e72-a54d-b0c400b2a68b",
   "metadata": {},
   "outputs": [],
   "source": []
  },
  {
   "cell_type": "code",
   "execution_count": 7,
   "id": "b2ef77cc-e533-47c7-bf35-56c7d73dcc9e",
   "metadata": {},
   "outputs": [],
   "source": [
    "'''-----------------------------Data Cleaning and Preprocessing pipeline----------------------------------'''\n",
    "\n",
    "#Removing special character\n",
    "def remove_special_character(content):\n",
    "    return re.sub('\\W+',' ', content )#re.sub('\\[[^&@#!]]*\\]', '', content)\n",
    "\n",
    "# Removing URL's\n",
    "def remove_url(content):\n",
    "    return re.sub(r'http\\S+', '', content)\n",
    "\n",
    "#Removing the stopwords from text\n",
    "def remove_stopwords(content):\n",
    "    clean_data = []\n",
    "    for i in content.split():\n",
    "        if i.strip().lower() not in stop_words and i.strip().lower().isalpha():\n",
    "            clean_data.append(i.strip().lower())\n",
    "    return \" \".join(clean_data)\n",
    "\n",
    "# Expansion of english contractions\n",
    "def contraction_expansion(content):\n",
    "    content = re.sub(r\"won\\'t\", \"would not\", content)\n",
    "    content = re.sub(r\"can\\'t\", \"can not\", content)\n",
    "    content = re.sub(r\"don\\'t\", \"do not\", content)\n",
    "    content = re.sub(r\"shouldn\\'t\", \"should not\", content)\n",
    "    content = re.sub(r\"needn\\'t\", \"need not\", content)\n",
    "    content = re.sub(r\"hasn\\'t\", \"has not\", content)\n",
    "    content = re.sub(r\"haven\\'t\", \"have not\", content)\n",
    "    content = re.sub(r\"weren\\'t\", \"were not\", content)\n",
    "    content = re.sub(r\"mightn\\'t\", \"might not\", content)\n",
    "    content = re.sub(r\"didn\\'t\", \"did not\", content)\n",
    "    content = re.sub(r\"n\\'t\", \" not\", content)\n",
    "    '''content = re.sub(r\"\\'re\", \" are\", content)\n",
    "    content = re.sub(r\"\\'s\", \" is\", content)\n",
    "    content = re.sub(r\"\\'d\", \" would\", content)\n",
    "    content = re.sub(r\"\\'ll\", \" will\", content)\n",
    "    content = re.sub(r\"\\'t\", \" not\", content)\n",
    "    content = re.sub(r\"\\'ve\", \" have\", content)\n",
    "    content = re.sub(r\"\\'m\", \" am\", content)'''\n",
    "    return content\n",
    "\n",
    "#Data preprocessing\n",
    "def data_cleaning(content):\n",
    "    content = contraction_expansion(content)\n",
    "    content = remove_special_character(content)\n",
    "    content = remove_url(content)\n",
    "    content = remove_stopwords(content)    \n",
    "    return content"
   ]
  },
  {
   "cell_type": "code",
   "execution_count": 8,
   "id": "2b451df4-c10e-4fad-8ccf-d5db2ce1d01d",
   "metadata": {},
   "outputs": [
    {
     "name": "stdout",
     "output_type": "stream",
     "text": [
      "CPU times: total: 29.1 s\n",
      "Wall time: 49.4 s\n"
     ]
    }
   ],
   "source": [
    "%%time\n",
    "pd.options.display.max_colwidth = 1000\n",
    "#Data cleaning\n",
    "df['Reviews_clean']=df['Reviews'].apply(data_cleaning)"
   ]
  },
  {
   "cell_type": "code",
   "execution_count": 9,
   "id": "eb018f37-afb4-452a-928a-54d12c0d930d",
   "metadata": {},
   "outputs": [],
   "source": [
    "# df['Reviews_clean'][0]"
   ]
  },
  {
   "cell_type": "code",
   "execution_count": 10,
   "id": "cb58e582-45a3-4d95-ac6b-db41ab3b0f48",
   "metadata": {},
   "outputs": [
    {
     "data": {
      "text/plain": [
       "0          1.0\n",
       "1          1.0\n",
       "2          1.0\n",
       "3          1.0\n",
       "4          1.0\n",
       "          ... \n",
       "149995    10.0\n",
       "149996    10.0\n",
       "149997    10.0\n",
       "149998    10.0\n",
       "149999    10.0\n",
       "Name: Ratings, Length: 150000, dtype: float64"
      ]
     },
     "execution_count": 10,
     "metadata": {},
     "output_type": "execute_result"
    }
   ],
   "source": [
    "df['Ratings']"
   ]
  },
  {
   "cell_type": "code",
   "execution_count": 11,
   "id": "6ba41bab-7bef-44e9-89d7-8526bd20fd11",
   "metadata": {},
   "outputs": [],
   "source": [
    "#Mapping rating data to Binary label 1 (+ve) if rating >=7 and 0 (-ve) if rating <=4 and 2 (neutral) if rating = 5 or 6\n",
    "df['Label'] = df['Ratings'].apply(lambda x: '1' if x >= 7 else ('0' if x<=4 else '2'))\n",
    "#Removing \n",
    "df=df[df.Label<'2']\n",
    "# df.to_csv(\"Updated_data.csv\")"
   ]
  },
  {
   "cell_type": "code",
   "execution_count": 12,
   "id": "4c51d79b-d7f2-42b4-9962-32426a2465e4",
   "metadata": {},
   "outputs": [
    {
     "name": "stdout",
     "output_type": "stream",
     "text": [
      "Label\n",
      "0    60000\n",
      "1    60000\n",
      "Name: count, dtype: int64\n"
     ]
    }
   ],
   "source": [
    "data=df[['Reviews_clean','Reviews','Ratings','Label']]\n",
    "\n",
    "print(data['Label'].value_counts())"
   ]
  },
  {
   "cell_type": "code",
   "execution_count": null,
   "id": "a53b680e-99a7-4754-88ad-be0765c560fd",
   "metadata": {},
   "outputs": [],
   "source": []
  },
  {
   "cell_type": "code",
   "execution_count": 13,
   "id": "8c4bd794-922e-4619-9912-eae23188daae",
   "metadata": {},
   "outputs": [],
   "source": [
    "class LemmaTokenizer:\n",
    "    def __init__(self):\n",
    "        self.lemmatizer = WordNetLemmatizer()\n",
    "    def __call__(self, text):\n",
    "        return [self.lemmatizer.lemmatize(word) for word in word_tokenize(text)]"
   ]
  },
  {
   "cell_type": "code",
   "execution_count": 14,
   "id": "450d1a5e-5e5e-47ac-83bc-c7016c617df2",
   "metadata": {},
   "outputs": [],
   "source": [
    "train, test = train_test_split(data,test_size=.3,random_state=42, shuffle=True)"
   ]
  },
  {
   "cell_type": "code",
   "execution_count": 15,
   "id": "d931ee77-be73-4d48-aeb3-540412ffe49d",
   "metadata": {},
   "outputs": [
    {
     "name": "stdout",
     "output_type": "stream",
     "text": [
      "train_shape:  (84000, 4)\n",
      "test_shape:  (36000, 4)\n"
     ]
    }
   ],
   "source": [
    "print(\"train_shape: \", train.shape)\n",
    "print(\"test_shape: \", test.shape)"
   ]
  },
  {
   "cell_type": "code",
   "execution_count": 16,
   "id": "86107575-1da0-4c84-b53b-6145a092f84c",
   "metadata": {},
   "outputs": [],
   "source": [
    "train = train[['Reviews_clean', 'Label']]\n",
    "test = test[['Reviews_clean', 'Label']]\n",
    "\n",
    "y_train = train['Label']\n",
    "y_test = test['Label']"
   ]
  },
  {
   "cell_type": "code",
   "execution_count": 18,
   "id": "1d7222a7-674f-4475-a311-68df2455efbb",
   "metadata": {},
   "outputs": [
    {
     "name": "stdout",
     "output_type": "stream",
     "text": [
      "TfidfVectorizer(max_features=1000,\n",
      "                tokenizer=<__main__.LemmaTokenizer object at 0x0000024F18B62450>)\n"
     ]
    }
   ],
   "source": [
    "tfidf_vectorizer = TfidfVectorizer(max_features=1000, tokenizer=LemmaTokenizer())  # Note the use of LemmaTokenizer()\n",
    "print(tfidf_vectorizer)"
   ]
  },
  {
   "cell_type": "code",
   "execution_count": 19,
   "id": "c262da3a-4cdb-4e0e-ad3b-6b267e7b0007",
   "metadata": {},
   "outputs": [
    {
     "name": "stdout",
     "output_type": "stream",
     "text": [
      "CPU times: total: 2min 5s\n",
      "Wall time: 2min 56s\n"
     ]
    }
   ],
   "source": [
    "%%time\n",
    "# tfidf_vectorizer = TfidfVectorizer(max_features=10000, tokenizer=LemmaTokenizer())  # Note the use of LemmaTokenizer()\n",
    "X_train_tfidf = tfidf_vectorizer.fit_transform(train['Reviews_clean'])\n",
    "X_test_tfidf = tfidf_vectorizer.transform(test['Reviews_clean'])"
   ]
  },
  {
   "cell_type": "code",
   "execution_count": 50,
   "id": "faa85449-4680-4b8c-85dc-4112c2b1828f",
   "metadata": {},
   "outputs": [],
   "source": [
    "from sklearn.model_selection import GridSearchCV\n",
    "\n",
    "classifier = LogisticRegression()\n",
    "\n",
    "# Define a grid of hyperparameters to search\n",
    "param_grid = {\n",
    "    'C': [0.001, 0.01, 0.1, 1, 10, 100],  # Regularization strength\n",
    "    'max_features': [5000, 10000, 20000]  # Maximum number of features in TF-IDF\n",
    "}\n",
    "\n",
    "best_classifier = LogisticRegression()\n",
    "best_classifier.fit(X_train_tfidf, y_train)\n",
    "\n",
    "predictions = best_classifier.predict(X_test_tfidf)"
   ]
  },
  {
   "cell_type": "code",
   "execution_count": 49,
   "id": "0d474d57-4558-4520-b7a5-50cd822f221d",
   "metadata": {},
   "outputs": [],
   "source": [
    "# Normal classification\n",
    "\n",
    "# classifier.fit(X_train_tfidf, y_train)\n",
    "# predictions = classifier.predict(X_test_tfidf)\n",
    "# predictions"
   ]
  },
  {
   "cell_type": "code",
   "execution_count": null,
   "id": "453856ee-53b5-443c-aeea-d58a8d83927c",
   "metadata": {},
   "outputs": [],
   "source": []
  },
  {
   "cell_type": "code",
   "execution_count": null,
   "id": "a7b38d0a-7e0c-438b-bb7b-28f18dda8f22",
   "metadata": {},
   "outputs": [],
   "source": []
  },
  {
   "cell_type": "code",
   "execution_count": 51,
   "id": "9dabd603-f683-43ed-8934-a1cbe9390067",
   "metadata": {},
   "outputs": [
    {
     "name": "stdout",
     "output_type": "stream",
     "text": [
      "confusion metrics\n",
      "\n"
     ]
    },
    {
     "data": {
      "image/png": "[encoded data removed]",
      "text/plain": [
       "<Figure size 200x200 with 1 Axes>"
      ]
     },
     "metadata": {},
     "output_type": "display_data"
    },
    {
     "name": "stdout",
     "output_type": "stream",
     "text": [
      "precision_score:  0.8621944444444445\n",
      "              precision    recall  f1-score   support\n",
      "\n",
      "           0       0.87      0.86      0.86     18160\n",
      "           1       0.86      0.87      0.86     17840\n",
      "\n",
      "    accuracy                           0.86     36000\n",
      "   macro avg       0.86      0.86      0.86     36000\n",
      "weighted avg       0.86      0.86      0.86     36000\n",
      "\n"
     ]
    }
   ],
   "source": [
    "y_pred = best_classifier.predict(X_test_tfidf)\n",
    "\n",
    "def confusion_matrix_plot(y_test,y_score):\n",
    "    confmatrix = confusion_matrix(y_test,y_score)\n",
    "    fig, ax = plt.subplots(figsize=(2, 2))\n",
    "    ax.imshow(confmatrix)\n",
    "    ax.grid(False)\n",
    "    ax.xaxis.set(ticks=(0, 1), ticklabels=('Pred 0s', 'Pred 1s'))\n",
    "    ax.yaxis.set(ticks=(0, 1), ticklabels=('Actual 0s', 'Actual 1s'))\n",
    "    ax.set_ylim(1.5, -0.5)\n",
    "    for i in range(2):\n",
    "        for j in range(2):\n",
    "            ax.text(j, i, confmatrix[i, j], ha='center', va='center', color='red')\n",
    "    plt.show()\n",
    "    \n",
    "print(\"confusion metrics\\n\")\n",
    "confusion_matrix_plot(y_test,y_pred)\n",
    "print(\"precision_score: \", precision_score(y_test, y_pred,average='micro'))\n",
    "print(classification_report(y_test, y_pred))"
   ]
  },
  {
   "cell_type": "code",
   "execution_count": 52,
   "id": "f49c8f19-b801-4e6d-8267-c456c4b683b7",
   "metadata": {},
   "outputs": [],
   "source": [
    "import pickle"
   ]
  },
  {
   "cell_type": "code",
   "execution_count": 53,
   "id": "c03e69c4-6669-4a3b-8e8f-f3a833b116d1",
   "metadata": {},
   "outputs": [
    {
     "data": {
      "text/plain": [
       "['tfidf_vectorizer.joblib']"
      ]
     },
     "execution_count": 53,
     "metadata": {},
     "output_type": "execute_result"
    }
   ],
   "source": [
    "import joblib\n",
    "# Step 4: Save the model and vectorizer to files\n",
    "model_filename = \"sentiment_model.joblib\"\n",
    "vectorizer_filename = \"tfidf_vectorizer.joblib\"\n",
    "\n",
    "# Save the model\n",
    "joblib.dump(best_classifier, model_filename)\n",
    "\n",
    "# Save the vectorizer\n",
    "joblib.dump(tfidf_vectorizer, vectorizer_filename)"
   ]
  },
  {
   "cell_type": "code",
   "execution_count": null,
   "id": "10c6aa10-8ee2-4af5-85c6-19bd85131788",
   "metadata": {},
   "outputs": [],
   "source": []
  },
  {
   "cell_type": "code",
   "execution_count": null,
   "id": "90883524-b7a9-4d3a-9c90-5952d5b20d0d",
   "metadata": {},
   "outputs": [],
   "source": []
  },
  {
   "cell_type": "code",
   "execution_count": null,
   "id": "8949ab31-a71d-491f-b5ce-a2381b94be46",
   "metadata": {},
   "outputs": [],
   "source": []
  },
  {
   "cell_type": "code",
   "execution_count": null,
   "id": "c00b6129-8828-49de-bef6-35363e94cdb0",
   "metadata": {},
   "outputs": [],
   "source": []
  },
  {
   "cell_type": "code",
   "execution_count": null,
   "id": "107e7223-fb51-46b4-b91c-641a037af648",
   "metadata": {},
   "outputs": [],
   "source": []
  },
  {
   "cell_type": "code",
   "execution_count": null,
   "id": "2469715d-3a5c-4281-a991-ac1562b35b93",
   "metadata": {},
   "outputs": [],
   "source": []
  },
  {
   "cell_type": "code",
   "execution_count": null,
   "id": "f4cc41dd-bc8b-4031-9fa9-57dbde279946",
   "metadata": {},
   "outputs": [],
   "source": []
  },
  {
   "cell_type": "code",
   "execution_count": null,
   "id": "0768eab7-e606-4e0b-ae83-2ef7c72dda6d",
   "metadata": {},
   "outputs": [],
   "source": []
  },
  {
   "cell_type": "code",
   "execution_count": null,
   "id": "6466f096-f0b3-484c-b474-5240612128a5",
   "metadata": {},
   "outputs": [],
   "source": []
  },
  {
   "cell_type": "code",
   "execution_count": null,
   "id": "4577cf00-d7c9-48e3-9285-7dde182a7c7e",
   "metadata": {},
   "outputs": [],
   "source": []
  },
  {
   "cell_type": "code",
   "execution_count": null,
   "id": "f5ef9072-310c-471b-88dc-bc0d1456af2d",
   "metadata": {},
   "outputs": [],
   "source": []
  },
  {
   "cell_type": "code",
   "execution_count": null,
   "id": "7fd378ab-b8c9-4a76-8ee7-e7ea9870a6d8",
   "metadata": {},
   "outputs": [],
   "source": []
  },
  {
   "cell_type": "code",
   "execution_count": null,
   "id": "6dd1afef-fa5f-4382-8dee-d9c7fc74081b",
   "metadata": {},
   "outputs": [],
   "source": []
  },
  {
   "cell_type": "code",
   "execution_count": null,
   "id": "72ae762d-1cfd-4981-86a6-550266312054",
   "metadata": {},
   "outputs": [],
   "source": []
  },
  {
   "cell_type": "code",
   "execution_count": null,
   "id": "996f6a82-186e-49c5-9dea-85ff9b4acc02",
   "metadata": {},
   "outputs": [],
   "source": []
  },
  {
   "cell_type": "code",
   "execution_count": null,
   "id": "92ae763d-fd78-43c5-96e3-0451fa06440c",
   "metadata": {},
   "outputs": [],
   "source": []
  },
  {
   "cell_type": "code",
   "execution_count": null,
   "id": "e1ba8a50-74e5-4eb2-981e-acf73cd85fd0",
   "metadata": {},
   "outputs": [],
   "source": []
  },
  {
   "cell_type": "code",
   "execution_count": null,
   "id": "4d4bbbd7-5352-458d-a650-aea60153ec43",
   "metadata": {},
   "outputs": [],
   "source": []
  },
  {
   "cell_type": "code",
   "execution_count": null,
   "id": "ea4bba9d-8f2e-4b90-99a4-508a2a9c2e71",
   "metadata": {},
   "outputs": [],
   "source": []
  },
  {
   "cell_type": "code",
   "execution_count": 23,
   "id": "ee5eb371-7fe2-43f3-870f-b5f4fbc3b526",
   "metadata": {},
   "outputs": [
    {
     "name": "stdout",
     "output_type": "stream",
     "text": [
      "CPU times: total: 2.59 s\n",
      "Wall time: 6.75 s\n"
     ]
    },
    {
     "data": {
      "text/html": [
       "<style>#sk-container-id-2 {color: black;}#sk-container-id-2 pre{padding: 0;}#sk-container-id-2 div.sk-toggleable {background-color: white;}#sk-container-id-2 label.sk-toggleable__label {cursor: pointer;display: block;width: 100%;margin-bottom: 0;padding: 0.3em;box-sizing: border-box;text-align: center;}#sk-container-id-2 label.sk-toggleable__label-arrow:before {content: \"▸\";float: left;margin-right: 0.25em;color: #696969;}#sk-container-id-2 label.sk-toggleable__label-arrow:hover:before {color: black;}#sk-container-id-2 div.sk-estimator:hover label.sk-toggleable__label-arrow:before {color: black;}#sk-container-id-2 div.sk-toggleable__content {max-height: 0;max-width: 0;overflow: hidden;text-align: left;background-color: #f0f8ff;}#sk-container-id-2 div.sk-toggleable__content pre {margin: 0.2em;color: black;border-radius: 0.25em;background-color: #f0f8ff;}#sk-container-id-2 input.sk-toggleable__control:checked~div.sk-toggleable__content {max-height: 200px;max-width: 100%;overflow: auto;}#sk-container-id-2 input.sk-toggleable__control:checked~label.sk-toggleable__label-arrow:before {content: \"▾\";}#sk-container-id-2 div.sk-estimator input.sk-toggleable__control:checked~label.sk-toggleable__label {background-color: #d4ebff;}#sk-container-id-2 div.sk-label input.sk-toggleable__control:checked~label.sk-toggleable__label {background-color: #d4ebff;}#sk-container-id-2 input.sk-hidden--visually {border: 0;clip: rect(1px 1px 1px 1px);clip: rect(1px, 1px, 1px, 1px);height: 1px;margin: -1px;overflow: hidden;padding: 0;position: absolute;width: 1px;}#sk-container-id-2 div.sk-estimator {font-family: monospace;background-color: #f0f8ff;border: 1px dotted black;border-radius: 0.25em;box-sizing: border-box;margin-bottom: 0.5em;}#sk-container-id-2 div.sk-estimator:hover {background-color: #d4ebff;}#sk-container-id-2 div.sk-parallel-item::after {content: \"\";width: 100%;border-bottom: 1px solid gray;flex-grow: 1;}#sk-container-id-2 div.sk-label:hover label.sk-toggleable__label {background-color: #d4ebff;}#sk-container-id-2 div.sk-serial::before {content: \"\";position: absolute;border-left: 1px solid gray;box-sizing: border-box;top: 0;bottom: 0;left: 50%;z-index: 0;}#sk-container-id-2 div.sk-serial {display: flex;flex-direction: column;align-items: center;background-color: white;padding-right: 0.2em;padding-left: 0.2em;position: relative;}#sk-container-id-2 div.sk-item {position: relative;z-index: 1;}#sk-container-id-2 div.sk-parallel {display: flex;align-items: stretch;justify-content: center;background-color: white;position: relative;}#sk-container-id-2 div.sk-item::before, #sk-container-id-2 div.sk-parallel-item::before {content: \"\";position: absolute;border-left: 1px solid gray;box-sizing: border-box;top: 0;bottom: 0;left: 50%;z-index: -1;}#sk-container-id-2 div.sk-parallel-item {display: flex;flex-direction: column;z-index: 1;position: relative;background-color: white;}#sk-container-id-2 div.sk-parallel-item:first-child::after {align-self: flex-end;width: 50%;}#sk-container-id-2 div.sk-parallel-item:last-child::after {align-self: flex-start;width: 50%;}#sk-container-id-2 div.sk-parallel-item:only-child::after {width: 0;}#sk-container-id-2 div.sk-dashed-wrapped {border: 1px dashed gray;margin: 0 0.4em 0.5em 0.4em;box-sizing: border-box;padding-bottom: 0.4em;background-color: white;}#sk-container-id-2 div.sk-label label {font-family: monospace;font-weight: bold;display: inline-block;line-height: 1.2em;}#sk-container-id-2 div.sk-label-container {text-align: center;}#sk-container-id-2 div.sk-container {/* jupyter's `normalize.less` sets `[hidden] { display: none; }` but bootstrap.min.css set `[hidden] { display: none !important; }` so we also need the `!important` here to be able to override the default hidden behavior on the sphinx rendered scikit-learn.org. See: https://github.com/scikit-learn/scikit-learn/issues/21755 */display: inline-block !important;position: relative;}#sk-container-id-2 div.sk-text-repr-fallback {display: none;}</style><div id=\"sk-container-id-2\" class=\"sk-top-container\"><div class=\"sk-text-repr-fallback\"><pre>LogisticRegression()</pre><b>In a Jupyter environment, please rerun this cell to show the HTML representation or trust the notebook. <br />On GitHub, the HTML representation is unable to render, please try loading this page with nbviewer.org.</b></div><div class=\"sk-container\" hidden><div class=\"sk-item\"><div class=\"sk-estimator sk-toggleable\"><input class=\"sk-toggleable__control sk-hidden--visually\" id=\"sk-estimator-id-2\" type=\"checkbox\" checked><label for=\"sk-estimator-id-2\" class=\"sk-toggleable__label sk-toggleable__label-arrow\">LogisticRegression</label><div class=\"sk-toggleable__content\"><pre>LogisticRegression()</pre></div></div></div></div></div>"
      ],
      "text/plain": [
       "LogisticRegression()"
      ]
     },
     "execution_count": 23,
     "metadata": {},
     "output_type": "execute_result"
    }
   ],
   "source": [
    "%%time\n",
    "logreg = LogisticRegression()\n",
    "logreg.fit(X_train_tfidf, y_train)"
   ]
  },
  {
   "cell_type": "code",
   "execution_count": 24,
   "id": "201f141e-4a3a-4c51-a402-c0ab72bedbcc",
   "metadata": {},
   "outputs": [
    {
     "data": {
      "text/plain": [
       "array(['1', '1', '0', ..., '0', '0', '1'], dtype=object)"
      ]
     },
     "execution_count": 24,
     "metadata": {},
     "output_type": "execute_result"
    }
   ],
   "source": [
    "# logreg.predict(X_test_tfidf)"
   ]
  },
  {
   "cell_type": "code",
   "execution_count": 30,
   "id": "48f8d4a7-83e1-4790-bc78-8787fe79f33c",
   "metadata": {},
   "outputs": [],
   "source": [
    "x = logreg.predict(X_test_tfidf)"
   ]
  },
  {
   "cell_type": "code",
   "execution_count": 31,
   "id": "60d7e0d5-3347-4427-b1bc-1fb185be05b3",
   "metadata": {},
   "outputs": [],
   "source": [
    "y_pred = logreg.predict(X_test_tfidf)"
   ]
  },
  {
   "cell_type": "code",
   "execution_count": 32,
   "id": "bf84029f-5151-4583-8cfd-c12baae0b20f",
   "metadata": {},
   "outputs": [
    {
     "name": "stdout",
     "output_type": "stream",
     "text": [
      "confusion metrics\n",
      "\n"
     ]
    },
    {
     "data": {
      "image/png": "[encoded data removed]",
      "text/plain": [
       "<Figure size 200x200 with 1 Axes>"
      ]
     },
     "metadata": {},
     "output_type": "display_data"
    },
    {
     "name": "stdout",
     "output_type": "stream",
     "text": [
      "precision_score:  0.8860277777777777\n",
      "              precision    recall  f1-score   support\n",
      "\n",
      "           0       0.89      0.88      0.89     18160\n",
      "           1       0.88      0.89      0.89     17840\n",
      "\n",
      "    accuracy                           0.89     36000\n",
      "   macro avg       0.89      0.89      0.89     36000\n",
      "weighted avg       0.89      0.89      0.89     36000\n",
      "\n"
     ]
    }
   ],
   "source": [
    "def confusion_matrix_plot(y_test,y_score):\n",
    "    confmatrix = confusion_matrix(y_test,y_score)\n",
    "    fig, ax = plt.subplots(figsize=(2, 2))\n",
    "    ax.imshow(confmatrix)\n",
    "    ax.grid(False)\n",
    "    ax.xaxis.set(ticks=(0, 1), ticklabels=('Pred 0s', 'Pred 1s'))\n",
    "    ax.yaxis.set(ticks=(0, 1), ticklabels=('Actual 0s', 'Actual 1s'))\n",
    "    ax.set_ylim(1.5, -0.5)\n",
    "    for i in range(2):\n",
    "        for j in range(2):\n",
    "            ax.text(j, i, confmatrix[i, j], ha='center', va='center', color='red')\n",
    "    plt.show()\n",
    "    \n",
    "print(\"confusion metrics\\n\")\n",
    "confusion_matrix_plot(y_test,y_pred)\n",
    "print(\"precision_score: \", precision_score(y_test, x,average='micro'))\n",
    "print(classification_report(y_test, x))"
   ]
  },
  {
   "cell_type": "code",
   "execution_count": 34,
   "id": "9928be4d-7927-4120-8302-90791be9a576",
   "metadata": {},
   "outputs": [
    {
     "data": {
      "text/plain": [
       "['tfidf_vectorizer.joblib']"
      ]
     },
     "execution_count": 34,
     "metadata": {},
     "output_type": "execute_result"
    }
   ],
   "source": [
    "import joblib\n",
    "# Step 4: Save the model and vectorizer to files\n",
    "model_filename = \"sentiment_model.joblib\"\n",
    "vectorizer_filename = \"tfidf_vectorizer.joblib\"\n",
    "\n",
    "# Save the model\n",
    "joblib.dump(logreg, model_filename)\n",
    "\n",
    "# Save the vectorizer\n",
    "joblib.dump(tfidf_vectorizer, vectorizer_filename)"
   ]
  },
  {
   "cell_type": "code",
   "execution_count": 37,
   "id": "d3efa569-b38e-480d-b88b-303b94466b97",
   "metadata": {},
   "outputs": [
    {
     "name": "stdout",
     "output_type": "stream",
     "text": [
      "Predicted Sentiment: Positive\n"
     ]
    }
   ],
   "source": [
    "random_text = \"This movie is absolutely fantastic! I highly recommend it.\"\n",
    "\n",
    "# Step 5: Preprocess the Text (if required)\n",
    "# Preprocess 'random_text' in the same way you preprocessed the training data\n",
    "\n",
    "# Step 6: TF-IDF Vectorization\n",
    "random_text_tfidf = tfidf_vectorizer.transform([random_text])\n",
    "\n",
    "# Step 7: Sentiment Prediction\n",
    "sentiment_label = logreg.predict(random_text_tfidf)[0]\n",
    "\n",
    "# Mapping the predicted label to sentiment\n",
    "sentiment_map = {'0': \"Negative\", '1': \"Positive\"}\n",
    "predicted_sentiment = sentiment_map[sentiment_label]\n",
    "\n",
    "print(f\"Predicted Sentiment: {predicted_sentiment}\")"
   ]
  },
  {
   "cell_type": "code",
   "execution_count": null,
   "id": "03c08c68-da16-4858-b595-b12dad91267c",
   "metadata": {},
   "outputs": [],
   "source": []
  },
  {
   "cell_type": "code",
   "execution_count": 53,
   "id": "2ea30bbe-e3be-402a-b965-054b0a962d9f",
   "metadata": {},
   "outputs": [
    {
     "data": {
      "text/plain": [
       "28423    fifteen years millennium bollywood still not learned clip bad elements film continues sample tried tested components rake moolah without caring tick cinema art since start decade served loads remakes sequels tevar nothing different regards audience rocks tevar tells story time telugu tamil kannada bengali fifth real life superman arjun kapoor not bear superpowers yet makes life purpose help damsel actually derogatory word miss sonakshi distress clutches ruffian manoj bajpayee making stay house without knowledge family members including father cop stupid story sounds one jump hall exasperation unfortunately improvement story narration screenplay action least humor time reaches climax climax happens almost smothered death corn buds basket not actually pop makers welcomed new year bombastic escapade amateur characters look strange even fictional milieu one gets excited arjun kapoor hot bod stylistic stunts dialogs come wreak havoc whole play obscene substandard even relish manoj bajpa...\n",
       "Name: Reviews_clean, dtype: object"
      ]
     },
     "execution_count": 53,
     "metadata": {},
     "output_type": "execute_result"
    }
   ],
   "source": [
    "test['Reviews_clean'][25655:25656]"
   ]
  },
  {
   "cell_type": "code",
   "execution_count": null,
   "id": "10ac35b2-f634-4bfc-8929-b549548a227a",
   "metadata": {},
   "outputs": [],
   "source": []
  },
  {
   "cell_type": "code",
   "execution_count": null,
   "id": "72829bd6-ea4b-4d22-a443-3055d6287965",
   "metadata": {},
   "outputs": [],
   "source": []
  },
  {
   "cell_type": "code",
   "execution_count": null,
   "id": "a1979ed2-e6d2-4f2c-afba-a3c6d54c33f5",
   "metadata": {},
   "outputs": [],
   "source": []
  },
  {
   "cell_type": "code",
   "execution_count": null,
   "id": "14e0f9be-1b62-41c9-b8f8-abb25baa274b",
   "metadata": {},
   "outputs": [],
   "source": []
  },
  {
   "cell_type": "code",
   "execution_count": null,
   "id": "8ddd3ebf-c9bf-4879-9594-bf17519afcc9",
   "metadata": {},
   "outputs": [],
   "source": []
  },
  {
   "cell_type": "code",
   "execution_count": null,
   "id": "3b9a647e-d33f-455a-8a2e-1fb78accbc3e",
   "metadata": {},
   "outputs": [],
   "source": []
  },
  {
   "cell_type": "code",
   "execution_count": null,
   "id": "ea6e6c86-798c-4910-a2fd-ca8671b8dcc9",
   "metadata": {},
   "outputs": [],
   "source": []
  },
  {
   "cell_type": "code",
   "execution_count": null,
   "id": "dd800d2d-8248-4e5b-96eb-ff2280fc124a",
   "metadata": {},
   "outputs": [],
   "source": []
  },
  {
   "cell_type": "code",
   "execution_count": null,
   "id": "7fddff8a-7abd-45c8-bc3d-f9a2f9077f3d",
   "metadata": {},
   "outputs": [],
   "source": []
  },
  {
   "cell_type": "code",
   "execution_count": null,
   "id": "84f194f1-39c5-4ffd-b577-1c3fb5843269",
   "metadata": {},
   "outputs": [],
   "source": []
  },
  {
   "cell_type": "code",
   "execution_count": null,
   "id": "73795ed0-9e05-4aa7-a06e-680e95c696ab",
   "metadata": {},
   "outputs": [],
   "source": []
  },
  {
   "cell_type": "code",
   "execution_count": null,
   "id": "bceb643b-644b-402d-9481-64f436d0e34b",
   "metadata": {},
   "outputs": [],
   "source": []
  },
  {
   "cell_type": "code",
   "execution_count": null,
   "id": "29472a25-f095-4fb1-9bb4-5153f8290a70",
   "metadata": {},
   "outputs": [],
   "source": []
  },
  {
   "cell_type": "code",
   "execution_count": null,
   "id": "bfd1928a-6726-4c40-a975-18e93460ccb5",
   "metadata": {},
   "outputs": [],
   "source": []
  },
  {
   "cell_type": "code",
   "execution_count": null,
   "id": "6eb97201-58b8-4a3a-aefb-f9c7632daeff",
   "metadata": {},
   "outputs": [],
   "source": []
  },
  {
   "cell_type": "code",
   "execution_count": null,
   "id": "85d8b699-6ed8-4f31-abdf-dbd1b13a8f9b",
   "metadata": {},
   "outputs": [],
   "source": []
  },
  {
   "cell_type": "code",
   "execution_count": null,
   "id": "d54f2dea-43e7-4fbd-acd6-3cc4cf725372",
   "metadata": {},
   "outputs": [],
   "source": []
  },
  {
   "cell_type": "code",
   "execution_count": null,
   "id": "d4d00ad2-3fd3-4004-92fb-cc2aef2843a9",
   "metadata": {},
   "outputs": [],
   "source": []
  },
  {
   "cell_type": "code",
   "execution_count": null,
   "id": "6fceda99-c574-4982-9b39-7111106ebf83",
   "metadata": {},
   "outputs": [],
   "source": []
  },
  {
   "cell_type": "code",
   "execution_count": null,
   "id": "d668dab0-5f7a-46f2-b2f5-0b4f63a0f6f8",
   "metadata": {},
   "outputs": [],
   "source": []
  },
  {
   "cell_type": "code",
   "execution_count": null,
   "id": "27044663-fd4d-453c-9c37-2538029f1da8",
   "metadata": {},
   "outputs": [],
   "source": []
  },
  {
   "cell_type": "code",
   "execution_count": null,
   "id": "6a6a4269-a595-42d2-9b9c-e0620ca8317f",
   "metadata": {},
   "outputs": [],
   "source": []
  },
  {
   "cell_type": "code",
   "execution_count": null,
   "id": "5bcc28c6-c7d9-411d-804c-1e0c0593979e",
   "metadata": {},
   "outputs": [],
   "source": []
  },
  {
   "cell_type": "code",
   "execution_count": null,
   "id": "1a5c5e60-b316-46dc-8493-3d152d644a62",
   "metadata": {},
   "outputs": [],
   "source": []
  },
  {
   "cell_type": "code",
   "execution_count": null,
   "id": "f3f6d916-b398-409b-b0a5-fc6643b4e2a7",
   "metadata": {},
   "outputs": [],
   "source": []
  },
  {
   "cell_type": "code",
   "execution_count": null,
   "id": "927dbf74-3427-42ab-b668-304ac47f0c0e",
   "metadata": {},
   "outputs": [],
   "source": []
  },
  {
   "cell_type": "code",
   "execution_count": null,
   "id": "d1cd5381-9e99-43a5-9d07-6dd83a33a296",
   "metadata": {},
   "outputs": [],
   "source": []
  },
  {
   "cell_type": "code",
   "execution_count": null,
   "id": "e7fb1853-ae7f-448e-85cf-631db7aa0f2c",
   "metadata": {},
   "outputs": [],
   "source": []
  },
  {
   "cell_type": "code",
   "execution_count": null,
   "id": "0db0c762-b923-433e-85b9-41871712e3f5",
   "metadata": {},
   "outputs": [],
   "source": []
  },
  {
   "cell_type": "code",
   "execution_count": null,
   "id": "a2043fc6-3ceb-4663-b1c2-77ace1866e0d",
   "metadata": {},
   "outputs": [],
   "source": []
  },
  {
   "cell_type": "code",
   "execution_count": 25,
   "id": "e31c4a0d-7566-4e6e-aecb-a4f4adab64a2",
   "metadata": {},
   "outputs": [],
   "source": [
    "# %%time\n",
    "# model_1000.fit(x_train_tfidf_1000, y_train)"
   ]
  },
  {
   "cell_type": "code",
   "execution_count": 26,
   "id": "61acf781-f117-4def-a2a0-91f2b19c2744",
   "metadata": {},
   "outputs": [],
   "source": [
    "# %%time\n",
    "# model_100.fit(x_train_tfidf_100, y_train)"
   ]
  },
  {
   "cell_type": "code",
   "execution_count": null,
   "id": "c638835c-ca77-4289-9bae-1418a690f397",
   "metadata": {},
   "outputs": [],
   "source": []
  },
  {
   "cell_type": "code",
   "execution_count": 95,
   "id": "ff9b9248-4fe2-4005-a80e-47c208ecb377",
   "metadata": {},
   "outputs": [
    {
     "name": "stdout",
     "output_type": "stream",
     "text": [
      "confusion metrics\n",
      "\n"
     ]
    },
    {
     "data": {
      "image/png": "[encoded data removed]",
      "text/plain": [
       "<Figure size 200x200 with 1 Axes>"
      ]
     },
     "metadata": {},
     "output_type": "display_data"
    },
    {
     "name": "stdout",
     "output_type": "stream",
     "text": [
      "precision_score:  0.8959444444444444\n",
      "              precision    recall  f1-score   support\n",
      "\n",
      "           0       0.90      0.89      0.90     18160\n",
      "           1       0.89      0.90      0.90     17840\n",
      "\n",
      "    accuracy                           0.90     36000\n",
      "   macro avg       0.90      0.90      0.90     36000\n",
      "weighted avg       0.90      0.90      0.90     36000\n",
      "\n"
     ]
    }
   ],
   "source": [
    "def confusion_matrix_plot(y_test,y_score):\n",
    "    confmatrix = confusion_matrix(y_test,y_score)\n",
    "    fig, ax = plt.subplots(figsize=(2, 2))\n",
    "    ax.imshow(confmatrix)\n",
    "    ax.grid(False)\n",
    "    ax.xaxis.set(ticks=(0, 1), ticklabels=('Pred 0s', 'Pred 1s'))\n",
    "    ax.yaxis.set(ticks=(0, 1), ticklabels=('Actual 0s', 'Actual 1s'))\n",
    "    ax.set_ylim(1.5, -0.5)\n",
    "    for i in range(2):\n",
    "        for j in range(2):\n",
    "            ax.text(j, i, confmatrix[i, j], ha='center', va='center', color='red')\n",
    "    plt.show()\n",
    "    \n",
    "= model_10000.predict(x_test_tfidf)\n",
    "print(\"confusion metrics\\n\")\n",
    "confusion_matrix_plot(y_test,x10000)\n",
    "print(\"precision_score: \", precision_score(y_test, x10000,average='micro'))\n",
    "print(classification_report(y_test, x10000))"
   ]
  },
  {
   "cell_type": "code",
   "execution_count": 98,
   "id": "c16f68de-185d-405f-b9c3-f92cc0eb81a5",
   "metadata": {},
   "outputs": [],
   "source": [
    "# x100 = model_100.predict(x_test_tfidf__100)\n",
    "# print(\"confusion metrics\\n\")\n",
    "# confusion_matrix_plot(y_test,x100)\n",
    "# print(\"precision_score: \", precision_score(y_test, x100,average='micro'))\n",
    "# print(classification_report(y_test, x100))"
   ]
  },
  {
   "cell_type": "code",
   "execution_count": 99,
   "id": "79e62043-3c6d-4480-ac96-15ada5f71141",
   "metadata": {},
   "outputs": [],
   "source": [
    "# x1000 = model_1000.predict(x_test_tfidf__1000)\n",
    "# print(\"confusion metrics\\n\")\n",
    "# confusion_matrix_plot(y_test,x1000)\n",
    "# print(\"precision_score: \", precision_score(y_test, x1000,average='micro'))\n",
    "# print(classification_report(y_test, x1000))"
   ]
  },
  {
   "cell_type": "code",
   "execution_count": 96,
   "id": "7c4c8deb-186d-4a64-a31f-2582a6283f67",
   "metadata": {},
   "outputs": [],
   "source": [
    "# x10000 = model_10000.predict(x_test_tfidf)\n",
    "# print(\"confusion metrics\\n\")\n",
    "# confusion_matrix_plot(y_test,x10000)\n",
    "# print(\"precision_score: \", precision_score(y_test, x10000,average='micro'))\n",
    "# print(classification_report(y_test, x10000))"
   ]
  },
  {
   "cell_type": "code",
   "execution_count": 99,
   "id": "60269286-d2ed-432e-bf46-7f0084670267",
   "metadata": {},
   "outputs": [
    {
     "name": "stdout",
     "output_type": "stream",
     "text": [
      "Predicted Sentiment: Positive\n"
     ]
    }
   ],
   "source": [
    "random_text = \"This movie is absolutely fantastic! I highly recommend it.\"\n",
    "\n",
    "# Step 5: Preprocess the Text (if required)\n",
    "# Preprocess 'random_text' in the same way you preprocessed the training data\n",
    "\n",
    "# Step 6: TF-IDF Vectorization\n",
    "random_text_tfidf = tfidfvect.transform([random_text])\n",
    "\n",
    "# Step 7: Sentiment Prediction\n",
    "sentiment_label = model_10000.predict(random_text_tfidf)[0]\n",
    "\n",
    "# Mapping the predicted label to sentiment\n",
    "sentiment_map = {'0': \"Negative\", '1': \"Positive\"}\n",
    "predicted_sentiment = sentiment_map[sentiment_label]\n",
    "\n",
    "print(f\"Predicted Sentiment: {predicted_sentiment}\")"
   ]
  },
  {
   "cell_type": "code",
   "execution_count": 65,
   "id": "b70990d3-2470-4532-a9f0-f7ad9069a55b",
   "metadata": {},
   "outputs": [
    {
     "data": {
      "text/plain": [
       "['tfidf_vectorizer.joblib']"
      ]
     },
     "execution_count": 65,
     "metadata": {},
     "output_type": "execute_result"
    }
   ],
   "source": [
    "import joblib\n",
    "\n",
    "model_filename = \"sentiment_model.joblib\"\n",
    "vectorizer_filename = \"tfidf_vectorizer.joblib\"\n",
    "\n",
    "# Save the model\n",
    "joblib.dump(logreg, model_filename)\n",
    "\n",
    "# Save the vectorizer\n",
    "joblib.dump(tfidf_vectorizer, vectorizer_filename)"
   ]
  },
  {
   "cell_type": "code",
   "execution_count": null,
   "id": "57ec1f00-6d5c-45bd-9df0-4bc899e6e12f",
   "metadata": {},
   "outputs": [],
   "source": []
  },
  {
   "cell_type": "code",
   "execution_count": 30,
   "id": "6cacfd8a-aeb6-470c-aee3-8c3df736cdf4",
   "metadata": {},
   "outputs": [],
   "source": [
    "import joblib"
   ]
  },
  {
   "cell_type": "code",
   "execution_count": null,
   "id": "62c89a19-343e-4758-b512-d5ce38a7fc65",
   "metadata": {},
   "outputs": [
    {
     "data": {
      "text/plain": [
       "['Model/10000_Log_model.pkl']"
      ]
     },
     "execution_count": 31,
     "metadata": {},
     "output_type": "execute_result"
    }
   ],
   "source": [
    "# # save the model for 100 size\n",
    "# joblib.dump(model_100, \"Model/100_Log_mode.pkl\")\n",
    "# joblib.dump(model_1000, \"Model/1000_Log_model.pkl\")\n",
    "joblib.dump(model_10000, \"Model/10000_Log_model.pkl\")"
   ]
  },
  {
   "cell_type": "code",
   "execution_count": 61,
   "id": "4f16a8de-d601-49bb-9002-785392e9aaad",
   "metadata": {},
   "outputs": [],
   "source": [
    "# load the model"
   ]
  },
  {
   "cell_type": "code",
   "execution_count": 62,
   "id": "4c48715f-0679-461a-bdb4-6cb48817f44d",
   "metadata": {},
   "outputs": [],
   "source": [
    "loaded_model_100 = joblib.load('Model/100_Log_mode.pkl')"
   ]
  },
  {
   "cell_type": "code",
   "execution_count": 63,
   "id": "b40187d5-15bc-44c2-a157-e692b274f6bf",
   "metadata": {},
   "outputs": [],
   "source": [
    "loaded_model_1000 = joblib.load('Model/1000_Log_model.pkl')"
   ]
  },
  {
   "cell_type": "code",
   "execution_count": 10,
   "id": "890a6947-253d-4813-aa86-518d9fb8e558",
   "metadata": {},
   "outputs": [],
   "source": [
    "import joblib"
   ]
  },
  {
   "cell_type": "code",
   "execution_count": null,
   "id": "074f487e-598b-458e-ac0c-f5394b888bd3",
   "metadata": {},
   "outputs": [],
   "source": [
    "loaded_model_10000 = joblib.load('Model/10000_Log_model.pkl')"
   ]
  },
  {
   "cell_type": "markdown",
   "id": "2c95441a-5966-4fce-bd54-b525395153dc",
   "metadata": {},
   "source": [
    "# Prediction Time"
   ]
  },
  {
   "cell_type": "code",
   "execution_count": 24,
   "id": "92c49336-8dfd-4834-aed7-9bc596e85901",
   "metadata": {},
   "outputs": [],
   "source": [
    "tfidfvect_10000 = TfidfVectorizer(analyzer = \"word\", tokenizer = LemmaTokenizer(), ngram_range=(1,3),min_df=10,max_features=10000)"
   ]
  },
  {
   "cell_type": "code",
   "execution_count": 135,
   "id": "13ccae48-d445-4a6b-b1ba-f7906456cc41",
   "metadata": {},
   "outputs": [
    {
     "data": {
      "text/plain": [
       "array(['0'], dtype=object)"
      ]
     },
     "execution_count": 135,
     "metadata": {},
     "output_type": "execute_result"
    }
   ],
   "source": [
    "loaded_model_10000.predict(x)"
   ]
  },
  {
   "cell_type": "code",
   "execution_count": 33,
   "id": "0c3a756f-5f21-4034-b426-116bb4a47918",
   "metadata": {},
   "outputs": [],
   "source": [
    "loaded_model_10000 = joblib.load('Model/10000_Log_model.pkl')"
   ]
  },
  {
   "cell_type": "code",
   "execution_count": 48,
   "id": "d8597eb4-0525-4253-b5d9-8c5c89b6892d",
   "metadata": {},
   "outputs": [
    {
     "name": "stdin",
     "output_type": "stream",
     "text": [
      " really write scathing review turd sandwich instead going making observations points deduced point watching movies anymore reader remember scary movie remember original comedic elements slapstick funny lines pretty forgettable comedy worth price admission well last time premise funny stop making movies please call boycott pieces monkey sh know going line pre pubescent annoying little buggers spouting crappy one liners like sparta im rick james bitch movies continue make form monetary gain considering production value movie looks like cost cents make not see movie not spend money go home rent airplane laugh ass silently judge people talking movie monday favor\n"
     ]
    }
   ],
   "source": [
    "ana = TfidfVectorizer(analyzer=\"word\", tokenizer=LemmaTokenizer(), ngram_range=(1,3), min_df=1, max_features=1000)\n",
    "x = input()"
   ]
  },
  {
   "cell_type": "code",
   "execution_count": 49,
   "id": "662d6be2-ce12-4030-95e5-ab5ba9cc972a",
   "metadata": {},
   "outputs": [],
   "source": [
    "data = ana.fit_transform([x]).toarray()"
   ]
  },
  {
   "cell_type": "code",
   "execution_count": 50,
   "id": "86adfa30-6e65-44fc-902f-d1f746a3770a",
   "metadata": {},
   "outputs": [
    {
     "data": {
      "text/plain": [
       "(1, 279)"
      ]
     },
     "execution_count": 50,
     "metadata": {},
     "output_type": "execute_result"
    }
   ],
   "source": [
    "data.shape"
   ]
  },
  {
   "cell_type": "code",
   "execution_count": 51,
   "id": "cc9cf5d6-da50-4fa3-b6ae-889d3ce74ba8",
   "metadata": {},
   "outputs": [
    {
     "ename": "ValueError",
     "evalue": "X has 279 features, but LogisticRegression is expecting 1000 features as input.",
     "output_type": "error",
     "traceback": [
      "\u001b[1;31m---------------------------------------------------------------------------\u001b[0m",
      "\u001b[1;31mValueError\u001b[0m                                Traceback (most recent call last)",
      "Cell \u001b[1;32mIn [51], line 1\u001b[0m\n\u001b[1;32m----> 1\u001b[0m loaded_model_10000\u001b[38;5;241m.\u001b[39mpredict(data)\n",
      "File \u001b[1;32m~\\AppData\\Local\\Programs\\Python\\Python310\\lib\\site-packages\\sklearn\\linear_model\\_base.py:451\u001b[0m, in \u001b[0;36mLinearClassifierMixin.predict\u001b[1;34m(self, X)\u001b[0m\n\u001b[0;32m    437\u001b[0m \u001b[38;5;124;03m\"\"\"\u001b[39;00m\n\u001b[0;32m    438\u001b[0m \u001b[38;5;124;03mPredict class labels for samples in X.\u001b[39;00m\n\u001b[0;32m    439\u001b[0m \n\u001b[1;32m   (...)\u001b[0m\n\u001b[0;32m    448\u001b[0m \u001b[38;5;124;03m    Vector containing the class labels for each sample.\u001b[39;00m\n\u001b[0;32m    449\u001b[0m \u001b[38;5;124;03m\"\"\"\u001b[39;00m\n\u001b[0;32m    450\u001b[0m xp, _ \u001b[38;5;241m=\u001b[39m get_namespace(X)\n\u001b[1;32m--> 451\u001b[0m scores \u001b[38;5;241m=\u001b[39m \u001b[38;5;28;43mself\u001b[39;49m\u001b[38;5;241;43m.\u001b[39;49m\u001b[43mdecision_function\u001b[49m\u001b[43m(\u001b[49m\u001b[43mX\u001b[49m\u001b[43m)\u001b[49m\n\u001b[0;32m    452\u001b[0m \u001b[38;5;28;01mif\u001b[39;00m \u001b[38;5;28mlen\u001b[39m(scores\u001b[38;5;241m.\u001b[39mshape) \u001b[38;5;241m==\u001b[39m \u001b[38;5;241m1\u001b[39m:\n\u001b[0;32m    453\u001b[0m     indices \u001b[38;5;241m=\u001b[39m xp\u001b[38;5;241m.\u001b[39mastype(scores \u001b[38;5;241m>\u001b[39m \u001b[38;5;241m0\u001b[39m, \u001b[38;5;28mint\u001b[39m)\n",
      "File \u001b[1;32m~\\AppData\\Local\\Programs\\Python\\Python310\\lib\\site-packages\\sklearn\\linear_model\\_base.py:432\u001b[0m, in \u001b[0;36mLinearClassifierMixin.decision_function\u001b[1;34m(self, X)\u001b[0m\n\u001b[0;32m    429\u001b[0m check_is_fitted(\u001b[38;5;28mself\u001b[39m)\n\u001b[0;32m    430\u001b[0m xp, _ \u001b[38;5;241m=\u001b[39m get_namespace(X)\n\u001b[1;32m--> 432\u001b[0m X \u001b[38;5;241m=\u001b[39m \u001b[38;5;28;43mself\u001b[39;49m\u001b[38;5;241;43m.\u001b[39;49m\u001b[43m_validate_data\u001b[49m\u001b[43m(\u001b[49m\u001b[43mX\u001b[49m\u001b[43m,\u001b[49m\u001b[43m \u001b[49m\u001b[43maccept_sparse\u001b[49m\u001b[38;5;241;43m=\u001b[39;49m\u001b[38;5;124;43m\"\u001b[39;49m\u001b[38;5;124;43mcsr\u001b[39;49m\u001b[38;5;124;43m\"\u001b[39;49m\u001b[43m,\u001b[49m\u001b[43m \u001b[49m\u001b[43mreset\u001b[49m\u001b[38;5;241;43m=\u001b[39;49m\u001b[38;5;28;43;01mFalse\u001b[39;49;00m\u001b[43m)\u001b[49m\n\u001b[0;32m    433\u001b[0m scores \u001b[38;5;241m=\u001b[39m safe_sparse_dot(X, \u001b[38;5;28mself\u001b[39m\u001b[38;5;241m.\u001b[39mcoef_\u001b[38;5;241m.\u001b[39mT, dense_output\u001b[38;5;241m=\u001b[39m\u001b[38;5;28;01mTrue\u001b[39;00m) \u001b[38;5;241m+\u001b[39m \u001b[38;5;28mself\u001b[39m\u001b[38;5;241m.\u001b[39mintercept_\n\u001b[0;32m    434\u001b[0m \u001b[38;5;28;01mreturn\u001b[39;00m xp\u001b[38;5;241m.\u001b[39mreshape(scores, (\u001b[38;5;241m-\u001b[39m\u001b[38;5;241m1\u001b[39m,)) \u001b[38;5;28;01mif\u001b[39;00m scores\u001b[38;5;241m.\u001b[39mshape[\u001b[38;5;241m1\u001b[39m] \u001b[38;5;241m==\u001b[39m \u001b[38;5;241m1\u001b[39m \u001b[38;5;28;01melse\u001b[39;00m scores\n",
      "File \u001b[1;32m~\\AppData\\Local\\Programs\\Python\\Python310\\lib\\site-packages\\sklearn\\base.py:625\u001b[0m, in \u001b[0;36mBaseEstimator._validate_data\u001b[1;34m(self, X, y, reset, validate_separately, cast_to_ndarray, **check_params)\u001b[0m\n\u001b[0;32m    622\u001b[0m     out \u001b[38;5;241m=\u001b[39m X, y\n\u001b[0;32m    624\u001b[0m \u001b[38;5;28;01mif\u001b[39;00m \u001b[38;5;129;01mnot\u001b[39;00m no_val_X \u001b[38;5;129;01mand\u001b[39;00m check_params\u001b[38;5;241m.\u001b[39mget(\u001b[38;5;124m\"\u001b[39m\u001b[38;5;124mensure_2d\u001b[39m\u001b[38;5;124m\"\u001b[39m, \u001b[38;5;28;01mTrue\u001b[39;00m):\n\u001b[1;32m--> 625\u001b[0m     \u001b[38;5;28;43mself\u001b[39;49m\u001b[38;5;241;43m.\u001b[39;49m\u001b[43m_check_n_features\u001b[49m\u001b[43m(\u001b[49m\u001b[43mX\u001b[49m\u001b[43m,\u001b[49m\u001b[43m \u001b[49m\u001b[43mreset\u001b[49m\u001b[38;5;241;43m=\u001b[39;49m\u001b[43mreset\u001b[49m\u001b[43m)\u001b[49m\n\u001b[0;32m    627\u001b[0m \u001b[38;5;28;01mreturn\u001b[39;00m out\n",
      "File \u001b[1;32m~\\AppData\\Local\\Programs\\Python\\Python310\\lib\\site-packages\\sklearn\\base.py:414\u001b[0m, in \u001b[0;36mBaseEstimator._check_n_features\u001b[1;34m(self, X, reset)\u001b[0m\n\u001b[0;32m    411\u001b[0m     \u001b[38;5;28;01mreturn\u001b[39;00m\n\u001b[0;32m    413\u001b[0m \u001b[38;5;28;01mif\u001b[39;00m n_features \u001b[38;5;241m!=\u001b[39m \u001b[38;5;28mself\u001b[39m\u001b[38;5;241m.\u001b[39mn_features_in_:\n\u001b[1;32m--> 414\u001b[0m     \u001b[38;5;28;01mraise\u001b[39;00m \u001b[38;5;167;01mValueError\u001b[39;00m(\n\u001b[0;32m    415\u001b[0m         \u001b[38;5;124mf\u001b[39m\u001b[38;5;124m\"\u001b[39m\u001b[38;5;124mX has \u001b[39m\u001b[38;5;132;01m{\u001b[39;00mn_features\u001b[38;5;132;01m}\u001b[39;00m\u001b[38;5;124m features, but \u001b[39m\u001b[38;5;132;01m{\u001b[39;00m\u001b[38;5;28mself\u001b[39m\u001b[38;5;241m.\u001b[39m\u001b[38;5;18m__class__\u001b[39m\u001b[38;5;241m.\u001b[39m\u001b[38;5;18m__name__\u001b[39m\u001b[38;5;132;01m}\u001b[39;00m\u001b[38;5;124m \u001b[39m\u001b[38;5;124m\"\u001b[39m\n\u001b[0;32m    416\u001b[0m         \u001b[38;5;124mf\u001b[39m\u001b[38;5;124m\"\u001b[39m\u001b[38;5;124mis expecting \u001b[39m\u001b[38;5;132;01m{\u001b[39;00m\u001b[38;5;28mself\u001b[39m\u001b[38;5;241m.\u001b[39mn_features_in_\u001b[38;5;132;01m}\u001b[39;00m\u001b[38;5;124m features as input.\u001b[39m\u001b[38;5;124m\"\u001b[39m\n\u001b[0;32m    417\u001b[0m     )\n",
      "\u001b[1;31mValueError\u001b[0m: X has 279 features, but LogisticRegression is expecting 1000 features as input."
     ]
    }
   ],
   "source": [
    "loaded_model_10000.predict(data)"
   ]
  },
  {
   "cell_type": "code",
   "execution_count": null,
   "id": "df96af2c-0050-4964-b458-364f37f5c146",
   "metadata": {},
   "outputs": [],
   "source": []
  },
  {
   "cell_type": "code",
   "execution_count": null,
   "id": "6a986099-9361-4d70-ad0f-7e94d4127b36",
   "metadata": {},
   "outputs": [],
   "source": []
  },
  {
   "cell_type": "code",
   "execution_count": null,
   "id": "22a90701-39ce-4165-9b1f-12bc6fe67d65",
   "metadata": {},
   "outputs": [],
   "source": []
  },
  {
   "cell_type": "code",
   "execution_count": null,
   "id": "a6dc54a9-c7cc-49e3-b9e1-4b2aa35bb744",
   "metadata": {},
   "outputs": [],
   "source": []
  },
  {
   "cell_type": "code",
   "execution_count": null,
   "id": "b48e014e-fe2e-471b-bc1f-9f88f31d478a",
   "metadata": {},
   "outputs": [],
   "source": []
  },
  {
   "cell_type": "code",
   "execution_count": null,
   "id": "4d6e81b7-1912-460b-b75c-c09d827f4400",
   "metadata": {},
   "outputs": [],
   "source": []
  },
  {
   "cell_type": "code",
   "execution_count": null,
   "id": "547d2bba-cecb-4d37-9bfa-0af2c986c504",
   "metadata": {},
   "outputs": [],
   "source": []
  },
  {
   "cell_type": "code",
   "execution_count": null,
   "id": "0dd3e971-ffd2-4372-ad4b-1a777e601bcb",
   "metadata": {},
   "outputs": [],
   "source": []
  },
  {
   "cell_type": "code",
   "execution_count": null,
   "id": "0fe2f080-3a07-443e-b46a-91785e4d94fb",
   "metadata": {},
   "outputs": [],
   "source": []
  },
  {
   "cell_type": "code",
   "execution_count": null,
   "id": "57640993-9198-4a3c-b6e4-a2593aeb45c8",
   "metadata": {},
   "outputs": [],
   "source": []
  },
  {
   "cell_type": "code",
   "execution_count": null,
   "id": "0fba0046-2a33-460a-b434-0a2a536e408c",
   "metadata": {},
   "outputs": [],
   "source": []
  },
  {
   "cell_type": "code",
   "execution_count": null,
   "id": "3eb391df-6b53-407d-8224-299114898389",
   "metadata": {},
   "outputs": [],
   "source": []
  },
  {
   "cell_type": "code",
   "execution_count": null,
   "id": "3ee6e506-605d-4fe8-a4a2-8f484f14305e",
   "metadata": {},
   "outputs": [],
   "source": []
  },
  {
   "cell_type": "code",
   "execution_count": null,
   "id": "c4093a2c-c6e9-4392-88a6-ba8a9c2cddb4",
   "metadata": {},
   "outputs": [],
   "source": []
  },
  {
   "cell_type": "code",
   "execution_count": null,
   "id": "14fd62da-5252-455e-bd12-6e578db02701",
   "metadata": {},
   "outputs": [],
   "source": []
  }
 ],
 "metadata": {
  "kernelspec": {
   "display_name": "Python 3 (ipykernel)",
   "language": "python",
   "name": "python3"
  },
  "language_info": {
   "codemirror_mode": {
    "name": "ipython",
    "version": 3
   },
   "file_extension": ".py",
   "mimetype": "text/x-python",
   "name": "python",
   "nbconvert_exporter": "python",
   "pygments_lexer": "ipython3",
   "version": "3.11.4"
  }
 },
 "nbformat": 4,
 "nbformat_minor": 5
}
